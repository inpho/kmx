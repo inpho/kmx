{
 "cells": [
  {
   "cell_type": "markdown",
   "metadata": {
    "collapsed": true
   },
   "source": []
  },
  {
   "cell_type": "code",
   "execution_count": 1,
   "metadata": {
    "collapsed": true
   },
   "outputs": [],
   "source": [
    "import synonyms\n",
    "import numpy as np\n",
    "\n",
    "def calculate_sy(topic1):\n",
    "    count = 0\n",
    "    dis_sum = 0\n",
    "    topiclength = len(topic1)\n",
    "    dis_matri = np.zeros((topiclength, topiclength))\n",
    "\n",
    "    for i in range(0,topiclength):\n",
    "        for j in range(0,topiclength):\n",
    "            dis_matri[i,j] = synonyms.compare(topic1[i], topic1[j], seg = False)\n",
    "            if i != j and  dis_matri[i,j] != 0.0:\n",
    "                count += 1\n",
    "                dis_sum += dis_matri[i,j]\n",
    "    #return np.mean(dis_matri) \n",
    "    #print dis_sum,count,dis_matri[15,0]\n",
    "    print dis_matri\n",
    "    print \"距离矩阵距离总和（不含对角线）\",dis_sum\n",
    "    print \"距离矩阵非0元素个数（不含对角线）\",count\n",
    "    return dis_sum / count"
   ]
  },
  {
   "cell_type": "markdown",
   "metadata": {},
   "source": [
    "## 第三份问卷"
   ]
  },
  {
   "cell_type": "code",
   "execution_count": 80,
   "metadata": {},
   "outputs": [
    {
     "data": {
      "text/plain": [
       "0.86564285714285805"
      ]
     },
     "execution_count": 80,
     "metadata": {},
     "output_type": "execute_result"
    }
   ],
   "source": [
    "topic1 = [\"罪\",\"刑\",\"法\",\"杀\",\"死\",\"官\",\"犯\",\"盗\",\"狱\",\"律\",\"徒\",\"赦\",\"杖\",\"本\",\"年\"]\n",
    "calculate_sy(topic1)\n",
    "\n",
    "# 注释：缺少“年”"
   ]
  },
  {
   "cell_type": "code",
   "execution_count": 53,
   "metadata": {},
   "outputs": [
    {
     "data": {
      "text/plain": [
       "0.76324444444444439"
      ]
     },
     "execution_count": 53,
     "metadata": {},
     "output_type": "execute_result"
    }
   ],
   "source": [
    "topic2 = ['心', '思', '日', '行', '怀', '悲', '生', '时', '远', '风', '诗', '情', '归', '哀', '志']\n",
    "calculate_sy(topic2)\n",
    "\n",
    "# 缺少“日”“时”"
   ]
  },
  {
   "cell_type": "code",
   "execution_count": 54,
   "metadata": {},
   "outputs": [
    {
     "data": {
      "text/plain": [
       "0.73870222222222237"
      ]
     },
     "execution_count": 54,
     "metadata": {},
     "output_type": "execute_result"
    }
   ],
   "source": [
    "topic3 = ['天', '能', '国', '心', '已', '臣', '固', '死', '势', '足', '乱', '世', '安', '兵', '亡']\n",
    "calculate_sy(topic3)\n",
    "# 缺少“天”"
   ]
  },
  {
   "cell_type": "code",
   "execution_count": 55,
   "metadata": {},
   "outputs": [
    {
     "data": {
      "text/plain": [
       "0.6352888888888889"
      ]
     },
     "execution_count": 55,
     "metadata": {},
     "output_type": "execute_result"
    }
   ],
   "source": [
    "topic4 = ['路', '州', '诏', '司', '官', '河', '安', '日', '本', '月', '西', '军', '年', '令', '乞']\n",
    "calculate_sy(topic4)\n",
    "# 缺少“日”“年”"
   ]
  },
  {
   "cell_type": "code",
   "execution_count": 56,
   "metadata": {},
   "outputs": [
    {
     "data": {
      "text/plain": [
       "0.71382222222222214"
      ]
     },
     "execution_count": 56,
     "metadata": {},
     "output_type": "execute_result"
    }
   ],
   "source": [
    "topic5 = ['天', '白', '歌', '山', '风', '月', '金', '水', '日', '马', '玉', '飞', '行', '王', '万']\n",
    "calculate_sy(topic5)\n",
    "# 缺少“天”“金”“日”"
   ]
  },
  {
   "cell_type": "code",
   "execution_count": 58,
   "metadata": {},
   "outputs": [
    {
     "data": {
      "text/plain": [
       "0.71815999999999991"
      ]
     },
     "execution_count": 58,
     "metadata": {},
     "output_type": "execute_result"
    }
   ],
   "source": [
    "topic6 = ['王', '侯', '郑', '国', '释', '礼', '司', '士', '音', '时', '朝', '正', '掌', '祭', '天']\n",
    "calculate_sy(topic6)\n",
    "# 缺少“时”“天”"
   ]
  },
  {
   "cell_type": "code",
   "execution_count": 59,
   "metadata": {},
   "outputs": [
    {
     "data": {
      "text/plain": [
       "0.79271999999999998"
      ]
     },
     "execution_count": 59,
     "metadata": {},
     "output_type": "execute_result"
    }
   ],
   "source": [
    "topic7 = ['书', '文', '古', '法', '能', '笔', '多', '意', '体', '家', '行', '论', '学', '名', '时']\n",
    "calculate_sy(topic7)\n",
    "# 缺少 “家”“名”“时”"
   ]
  },
  {
   "cell_type": "code",
   "execution_count": 60,
   "metadata": {},
   "outputs": [
    {
     "data": {
      "text/plain": [
       "0.69634666666666667"
      ]
     },
     "execution_count": 60,
     "metadata": {},
     "output_type": "execute_result"
    }
   ],
   "source": [
    "topic8 = ['元', '年', '州', '志', '铭', '月', '日', '史', '文', '石', '阳', '南', '墓', '先', '讳']\n",
    "calculate_sy(topic8)\n",
    "# 缺少“元”“年”“日”“南”"
   ]
  },
  {
   "cell_type": "code",
   "execution_count": 61,
   "metadata": {},
   "outputs": [
    {
     "data": {
      "text/plain": [
       "0.80585777777777767"
      ]
     },
     "execution_count": 61,
     "metadata": {},
     "output_type": "execute_result"
    }
   ],
   "source": [
    "topic9 = ['义', '礼', '道', '行', '仁', '正', '孔', '德', '能', '善', '章', '敬', '文', '乐', '圣']\n",
    "calculate_sy(topic9)\n",
    "# 缺少“道”“德”“章”"
   ]
  },
  {
   "cell_type": "code",
   "execution_count": 16,
   "metadata": {},
   "outputs": [
    {
     "data": {
      "text/plain": [
       "0.71492444444444447"
      ]
     },
     "execution_count": 16,
     "metadata": {},
     "output_type": "execute_result"
    }
   ],
   "source": [
    "topic10 = ['门', '宫', '寺', '年', '文', '殿', '院', '旧', '观', '建', '堂', '记', '天', '元', '城']\n",
    "calculate_sy(topic10)"
   ]
  },
  {
   "cell_type": "code",
   "execution_count": 3,
   "metadata": {},
   "outputs": [
    {
     "data": {
      "text/plain": [
       "0.74698666666666669"
      ]
     },
     "execution_count": 3,
     "metadata": {},
     "output_type": "execute_result"
    }
   ],
   "source": [
    "topic11 = ['民', '田', '役', '地', '岁', '官', '百', '户', '多', '令', '农', '数', '年', '县', '赋']\n",
    "calculate_sy(topic11)"
   ]
  },
  {
   "cell_type": "code",
   "execution_count": 4,
   "metadata": {},
   "outputs": [
    {
     "data": {
      "text/plain": [
       "0.70713777777777775"
      ]
     },
     "execution_count": 4,
     "metadata": {},
     "output_type": "execute_result"
    }
   ],
   "source": [
    "topic12 = ['侯', '汉', '帝', '王', '将', '尉', '奴', '军', '封', '吏', '郡', '匈', '安', '数', '国']\n",
    "calculate_sy(topic12)"
   ]
  },
  {
   "cell_type": "code",
   "execution_count": 5,
   "metadata": {},
   "outputs": [
    {
     "data": {
      "text/plain": [
       "0.66408"
      ]
     },
     "execution_count": 5,
     "metadata": {},
     "output_type": "execute_result"
    }
   ],
   "source": [
    "topic13 = ['星', '月', '犯', '天', '太', '白', '东', '年', '南', '北', '占', '西', '行', '兵', '惑']\n",
    "calculate_sy(topic13)"
   ]
  },
  {
   "cell_type": "code",
   "execution_count": 6,
   "metadata": {},
   "outputs": [
    {
     "data": {
      "text/plain": [
       "0.73062222222222217"
      ]
     },
     "execution_count": 6,
     "metadata": {},
     "output_type": "execute_result"
    }
   ],
   "source": [
    "topic14 = ['诗', '纪', '文', '类', '集', '聚', '览', '百', '御', '苑', '府', '选', '乐', '引', '本']\n",
    "calculate_sy(topic14)"
   ]
  },
  {
   "cell_type": "code",
   "execution_count": 7,
   "metadata": {},
   "outputs": [
    {
     "data": {
      "text/plain": [
       "0.71016888888888896"
      ]
     },
     "execution_count": 7,
     "metadata": {},
     "output_type": "execute_result"
    }
   ],
   "source": [
    "topic15 = ['贼', '兵', '军', '将', '城', '战', '攻', '进', '州', '破', '败', '击', '功', '守', '师']\n",
    "calculate_sy(topic15)"
   ]
  },
  {
   "cell_type": "code",
   "execution_count": 8,
   "metadata": {},
   "outputs": [
    {
     "data": {
      "text/plain": [
       "0.68316444444444435"
      ]
     },
     "execution_count": 8,
     "metadata": {},
     "output_type": "execute_result"
    }
   ],
   "source": [
    "topic16 = ['里', '县', '西', '东', '山', '城', '北', '南', '百', '府', '年', '志', '名', '置', '流']\n",
    "calculate_sy(topic16)"
   ]
  },
  {
   "cell_type": "code",
   "execution_count": 9,
   "metadata": {},
   "outputs": [
    {
     "data": {
      "text/plain": [
       "0.79760000000000009"
      ]
     },
     "execution_count": 9,
     "metadata": {},
     "output_type": "execute_result"
    }
   ],
   "source": [
    "topic17 = ['王', '国', '死', '孟', '齐', '能', '臣', '对', '行', '士', '孔', '将', '贤', '食', '仲']\n",
    "calculate_sy(topic17)"
   ]
  },
  {
   "cell_type": "code",
   "execution_count": 10,
   "metadata": {},
   "outputs": [
    {
     "data": {
      "text/plain": [
       "0.67436444444444443"
      ]
     },
     "execution_count": 10,
     "metadata": {},
     "output_type": "execute_result"
    }
   ],
   "source": [
    "topic18 = ['年', '营', '海', '船', '台', '馀', '设', '国', '兵', '防', '督', '省', '总', '军', '洋']\n",
    "calculate_sy(topic18)"
   ]
  },
  {
   "cell_type": "code",
   "execution_count": 11,
   "metadata": {},
   "outputs": [
    {
     "data": {
      "text/plain": [
       "0.73713777777777778"
      ]
     },
     "execution_count": 11,
     "metadata": {},
     "output_type": "execute_result"
    }
   ],
   "source": [
    "topic19 = ['军', '卫', '将', '马', '都', '兵', '武', '右', '左', '骑', '左右', '指', '第', '领', '府']\n",
    "calculate_sy(topic19)"
   ]
  },
  {
   "cell_type": "code",
   "execution_count": 12,
   "metadata": {},
   "outputs": [
    {
     "data": {
      "text/plain": [
       "0.7122400000000001"
      ]
     },
     "execution_count": 12,
     "metadata": {},
     "output_type": "execute_result"
    }
   ],
   "source": [
    "topic20 = ['辽', '京', '军', '宗', '国', '宋', '部', '北', '南', '都', '燕', '州', '海', '古', '里']\n",
    "calculate_sy(topic20)"
   ]
  },
  {
   "cell_type": "code",
   "execution_count": 13,
   "metadata": {},
   "outputs": [
    {
     "data": {
      "text/plain": [
       "0.7365422222222221"
      ]
     },
     "execution_count": 13,
     "metadata": {},
     "output_type": "execute_result"
    }
   ],
   "source": [
    "topic21 = ['花', '风', '春', '月', '红', '香', '玉', '时', '天', '处', '情', '雨', '夜', '水', '年']\n",
    "calculate_sy(topic21)"
   ]
  },
  {
   "cell_type": "code",
   "execution_count": 14,
   "metadata": {},
   "outputs": [
    {
     "data": {
      "text/plain": [
       "0.77548444444444431"
      ]
     },
     "execution_count": 14,
     "metadata": {},
     "output_type": "execute_result"
    }
   ],
   "source": [
    "topic22 = ['王', '天', '周', '命', '文', '帝', '民', '德', '正', '舜', '义', '武', '传', '禹', '尧']\n",
    "calculate_sy(topic22)"
   ]
  },
  {
   "cell_type": "code",
   "execution_count": 15,
   "metadata": {},
   "outputs": [
    {
     "data": {
      "text/plain": [
       "0.79268444444444441"
      ]
     },
     "execution_count": 15,
     "metadata": {},
     "output_type": "execute_result"
    }
   ],
   "source": [
    "topic23 = ['臣', '天', '陛下', '能', '道', '明', '德', '国', '太', '时', '圣', '行', '王', '以为', '百']\n",
    "calculate_sy(topic23)"
   ]
  },
  {
   "cell_type": "code",
   "execution_count": 16,
   "metadata": {},
   "outputs": [
    {
     "data": {
      "text/plain": [
       "0.7005688888888888"
      ]
     },
     "execution_count": 16,
     "metadata": {},
     "output_type": "execute_result"
    }
   ],
   "source": [
    "topic24 = ['年', '时', '迁', '祖', '卒', '初', '拜', '太', '父', '赠', '高', '郡', '家', '少', '史']\n",
    "calculate_sy(topic24)"
   ]
  },
  {
   "cell_type": "code",
   "execution_count": 17,
   "metadata": {},
   "outputs": [
    {
     "data": {
      "text/plain": [
       "0.68008000000000002"
      ]
     },
     "execution_count": 17,
     "metadata": {},
     "output_type": "execute_result"
    }
   ],
   "source": [
    "topic25 = ['山', '石', '南', '水', '里', '西', '东', '溪', '北', '峰', '岩', '余', '洞', '岭', '高']\n",
    "calculate_sy(topic25)"
   ]
  },
  {
   "cell_type": "markdown",
   "metadata": {
    "collapsed": true
   },
   "source": [
    "## 第一份问卷"
   ]
  },
  {
   "cell_type": "code",
   "execution_count": 18,
   "metadata": {},
   "outputs": [
    {
     "data": {
      "text/plain": [
       "0.68935999999999997"
      ]
     },
     "execution_count": 18,
     "metadata": {},
     "output_type": "execute_result"
    }
   ],
   "source": [
    "#王, 帝, 军, 将, 年, 史, 太, 武, 阳, 州, 郡, 安, 魏, 祖, 刺\n",
    "topic1_1 = ['王', '帝', '军', '将', '年', '史', '太', '武', '阳', '州', '郡', '安', '魏', '祖', '刺']\n",
    "calculate_sy(topic1_1)"
   ]
  },
  {
   "cell_type": "code",
   "execution_count": 19,
   "metadata": {},
   "outputs": [
    {
     "data": {
      "text/plain": [
       "0.66190222222222217"
      ]
     },
     "execution_count": 19,
     "metadata": {},
     "output_type": "execute_result"
    }
   ],
   "source": [
    "topic1_2 = ['礼', '祭', '乐', '庙', '帝', '皇', '祀', '位', '神', '天', '文', '太', '西', '拜', '东']\n",
    "calculate_sy(topic1_2)"
   ]
  },
  {
   "cell_type": "code",
   "execution_count": 20,
   "metadata": {},
   "outputs": [
    {
     "data": {
      "text/plain": [
       "0.78684444444444446"
      ]
     },
     "execution_count": 20,
     "metadata": {},
     "output_type": "execute_result"
    }
   ],
   "source": [
    "topic1_3 = ['臣', '书', '时', '日', '行', '文', '能', '国', '士', '已', '官', '明', '先', '道', '朝']\n",
    "calculate_sy(topic1_3)"
   ]
  },
  {
   "cell_type": "code",
   "execution_count": 3,
   "metadata": {},
   "outputs": [
    {
     "data": {
      "text/plain": [
       "0.79926222222222221"
      ]
     },
     "execution_count": 3,
     "metadata": {},
     "output_type": "execute_result"
    }
   ],
   "source": [
    "topic1_4 = ['天', '王', '民', '能', '国', '道', '行', '善', '德', '生', '地', '死', '治', '义', '以为']\n",
    "calculate_sy(topic1_4)"
   ]
  },
  {
   "cell_type": "code",
   "execution_count": 4,
   "metadata": {},
   "outputs": [
    {
     "data": {
      "text/plain": [
       "0.79176888888888886"
      ]
     },
     "execution_count": 4,
     "metadata": {},
     "output_type": "execute_result"
    }
   ],
   "source": [
    "topic1_5 = ['日', '分', '度', '百', '天', '星', '行', '法', '象', '正', '时', '数', '月', '道', '加']\n",
    "calculate_sy(topic1_5)"
   ]
  },
  {
   "cell_type": "code",
   "execution_count": 5,
   "metadata": {},
   "outputs": [
    {
     "data": {
      "text/plain": [
       "0.68150222222222234"
      ]
     },
     "execution_count": 5,
     "metadata": {},
     "output_type": "execute_result"
    }
   ],
   "source": [
    "topic1_6 = ['东', '南', '水', '里', '北', '山', '西', '河', '县', '城', '流', '江', '石', '名', '溪']\n",
    "calculate_sy(topic1_6)"
   ]
  },
  {
   "cell_type": "code",
   "execution_count": 6,
   "metadata": {},
   "outputs": [
    {
     "data": {
      "text/plain": [
       "0.77528888888888892"
      ]
     },
     "execution_count": 6,
     "metadata": {},
     "output_type": "execute_result"
    }
   ],
   "source": [
    "topic1_7 = ['心', '物', '生', '道', '能', '理', '天', '性', '明', '气', '学', '义', '行', '先', '地']\n",
    "calculate_sy(topic1_7)"
   ]
  },
  {
   "cell_type": "code",
   "execution_count": 7,
   "metadata": {},
   "outputs": [
    {
     "data": {
      "text/plain": [
       "0.74578666666666671"
      ]
     },
     "execution_count": 7,
     "metadata": {},
     "output_type": "execute_result"
    }
   ],
   "source": [
    "topic1_8 = ['德', '阙', '天', '道', '国', '元', '命', '圣', '心', '表', '功', '文', '将', '明', '日']\n",
    "calculate_sy(topic1_8)"
   ]
  },
  {
   "cell_type": "code",
   "execution_count": 8,
   "metadata": {},
   "outputs": [
    {
     "data": {
      "text/plain": [
       "0.73459555555555556"
      ]
     },
     "execution_count": 8,
     "metadata": {},
     "output_type": "execute_result"
    }
   ],
   "source": [
    "topic1_9 = ['花', '风', '春', '玉', '香', '月', '红', '天', '歌', '时', '金', '夜', '声', '情', '清']\n",
    "calculate_sy(topic1_9)"
   ]
  },
  {
   "cell_type": "code",
   "execution_count": 9,
   "metadata": {},
   "outputs": [
    {
     "data": {
      "text/plain": [
       "0.7139022222222221"
      ]
     },
     "execution_count": 9,
     "metadata": {},
     "output_type": "execute_result"
    }
   ],
   "source": [
    "topic1_10 = ['官', '年', '日', '月', '令', '行', '奏', '本', '已', '司', '元', '书', '法', '敕', '处']\n",
    "calculate_sy(topic1_10)"
   ]
  },
  {
   "cell_type": "code",
   "execution_count": 10,
   "metadata": {},
   "outputs": [
    {
     "data": {
      "text/plain": [
       "0.80507555555555554"
      ]
     },
     "execution_count": 10,
     "metadata": {},
     "output_type": "execute_result"
    }
   ],
   "source": [
    "topic1_11 = ['生', '日', '死', '时', '母', '父', '家', '女', '能', '行', '年', '弟', '身', '已', '食']\n",
    "calculate_sy(topic1_11)"
   ]
  },
  {
   "cell_type": "code",
   "execution_count": 11,
   "metadata": {},
   "outputs": [
    {
     "data": {
      "text/plain": [
       "0.68998222222222227"
      ]
     },
     "execution_count": 11,
     "metadata": {},
     "output_type": "execute_result"
    }
   ],
   "source": [
    "topic1_12 = ['气', '服', '热', '治', '病', '水', '寒', '血', '黄', '汤', '脉', '阳', '痛', '药', '阴']\n",
    "calculate_sy(topic1_12)"
   ]
  },
  {
   "cell_type": "code",
   "execution_count": 12,
   "metadata": {},
   "outputs": [
    {
     "data": {
      "text/plain": [
       "0.77119999999999989"
      ]
     },
     "execution_count": 12,
     "metadata": {},
     "output_type": "execute_result"
    }
   ],
   "source": [
    "topic1_13 = ['帝', '王', '年', '太', '皇', '宗', '祖', '元', '天', '礼', '文', '武', '明', '封', '德']\n",
    "calculate_sy(topic1_13)"
   ]
  },
  {
   "cell_type": "code",
   "execution_count": 13,
   "metadata": {},
   "outputs": [
    {
     "data": {
      "text/plain": [
       "0.74135111111111096"
      ]
     },
     "execution_count": 13,
     "metadata": {},
     "output_type": "execute_result"
    }
   ],
   "source": [
    "topic1_14 = ['年', '书', '士', '官', '史', '郎', '时', '部', '学', '侍', '文', '进', '迁', '宗', '尚']\n",
    "calculate_sy(topic1_14)"
   ]
  },
  {
   "cell_type": "code",
   "execution_count": 14,
   "metadata": {},
   "outputs": [
    {
     "data": {
      "text/plain": [
       "0.75426666666666653"
      ]
     },
     "execution_count": 14,
     "metadata": {},
     "output_type": "execute_result"
    }
   ],
   "source": [
    "topic1_15 = ['书', '文', '传', '古', '学', '史', '世', '名', '记', '经', '论', '志', '汉', '时', '唐']\n",
    "calculate_sy(topic1_15)"
   ]
  },
  {
   "cell_type": "code",
   "execution_count": 15,
   "metadata": {},
   "outputs": [
    {
     "data": {
      "text/plain": [
       "0.66053333333333331"
      ]
     },
     "execution_count": 15,
     "metadata": {},
     "output_type": "execute_result"
    }
   ],
   "source": [
    "topic1_16 = ['宾', '礼', '拜', '西', '东', '爵', '尸', '祭', '释', '射', '升', '面', '士', '酒', '南']\n",
    "calculate_sy(topic1_16)"
   ]
  },
  {
   "cell_type": "code",
   "execution_count": 16,
   "metadata": {},
   "outputs": [
    {
     "data": {
      "text/plain": [
       "0.71311111111111103"
      ]
     },
     "execution_count": 16,
     "metadata": {},
     "output_type": "execute_result"
    }
   ],
   "source": [
    "topic1_17 = ['王', '郑', '侯', '国', '礼', '司', '士', '释', '天', '地', '官', '时', '正', '音', '祭']\n",
    "calculate_sy(topic1_17)"
   ]
  },
  {
   "cell_type": "code",
   "execution_count": 17,
   "metadata": {},
   "outputs": [
    {
     "data": {
      "text/plain": [
       "0.70295111111111108"
      ]
     },
     "execution_count": 17,
     "metadata": {},
     "output_type": "execute_result"
    }
   ],
   "source": [
    "topic1_18 = ['卷', '山', '日', '白', '风', '归', '秋', '春', '江', '诗', '送', '客', '天', '花', '月']\n",
    "calculate_sy(topic1_18)"
   ]
  },
  {
   "cell_type": "code",
   "execution_count": 18,
   "metadata": {},
   "outputs": [
    {
     "data": {
      "text/plain": [
       "0.75675555555555551"
      ]
     },
     "execution_count": 18,
     "metadata": {},
     "output_type": "execute_result"
    }
   ],
   "source": [
    "topic1_19 = ['帝', '王', '太', '宗', '皇', '武', '文', '高', '封', '年', '孝', '元', '德', '太子', '位']\n",
    "calculate_sy(topic1_19)"
   ]
  },
  {
   "cell_type": "code",
   "execution_count": 19,
   "metadata": {},
   "outputs": [
    {
     "data": {
      "text/plain": [
       "0.72759999999999991"
      ]
     },
     "execution_count": 19,
     "metadata": {},
     "output_type": "execute_result"
    }
   ],
   "source": [
    "topic1_20 = ['州', '军', '节', '度', '王', '太', '宗', '帝', '都', '祖', '契', '李', '丹', '兵', '德']\n",
    "calculate_sy(topic1_20)"
   ]
  },
  {
   "cell_type": "code",
   "execution_count": 20,
   "metadata": {},
   "outputs": [
    {
     "data": {
      "text/plain": [
       "0.73704888888888886"
      ]
     },
     "execution_count": 20,
     "metadata": {},
     "output_type": "execute_result"
    }
   ],
   "source": [
    "topic1_21 = ['年', '侯', '晋', '齐', '国', '书', '传', '月', '正', '王', '伯', '楚', '郑', '师', '伐']\n",
    "calculate_sy(topic1_21)"
   ]
  },
  {
   "cell_type": "code",
   "execution_count": 21,
   "metadata": {},
   "outputs": [
    {
     "data": {
      "text/plain": [
       "0.6868088888888888"
      ]
     },
     "execution_count": 21,
     "metadata": {},
     "output_type": "execute_result"
    }
   ],
   "source": [
    "topic1_22 = ['官', '司', '品', '郎', '正', '置', '员', '书', '年', '府', '史', '令', '军', '监', '部']\n",
    "calculate_sy(topic1_22)"
   ]
  },
  {
   "cell_type": "code",
   "execution_count": 22,
   "metadata": {},
   "outputs": [
    {
     "data": {
      "text/plain": [
       "0.78914666666666666"
      ]
     },
     "execution_count": 22,
     "metadata": {},
     "output_type": "execute_result"
    }
   ],
   "source": [
    "topic1_23 = ['臣', '伏', '陛下', '日', '圣', '恩', '奉', '天', '心', '表', '谨', '朝', '任', '望', '已']\n",
    "calculate_sy(topic1_23)"
   ]
  },
  {
   "cell_type": "code",
   "execution_count": 23,
   "metadata": {},
   "outputs": [
    {
     "data": {
      "text/plain": [
       "0.74025777777777779"
      ]
     },
     "execution_count": 23,
     "metadata": {},
     "output_type": "execute_result"
    }
   ],
   "source": [
    "topic1_24 = ['书', '文', '传', '学', '古', '史', '名', '世', '经', '论', '唐', '时', '法', '记', '明']\n",
    "calculate_sy(topic1_24)"
   ]
  },
  {
   "cell_type": "code",
   "execution_count": 24,
   "metadata": {},
   "outputs": [
    {
     "data": {
      "text/plain": [
       "0.66904000000000008"
      ]
     },
     "execution_count": 24,
     "metadata": {},
     "output_type": "execute_result"
    }
   ],
   "source": [
    "topic1_25 = ['服', '黄', '水', '汤', '治', '味', '丸', '药', '钱', '白', '升', '加', '分', '半', '草']\n",
    "calculate_sy(topic1_25)"
   ]
  },
  {
   "cell_type": "markdown",
   "metadata": {},
   "source": [
    "## 第二份问卷"
   ]
  },
  {
   "cell_type": "code",
   "execution_count": 26,
   "metadata": {},
   "outputs": [
    {
     "data": {
      "text/plain": [
       "0.67396444444444448"
      ]
     },
     "execution_count": 26,
     "metadata": {},
     "output_type": "execute_result"
    }
   ],
   "source": [
    "topic2_1 = ['水', '河', '东', '北', '南', '城', '西', '县', '山', '流', '里', '阳', '口', '径', '门']\n",
    "calculate_sy(topic2_1)"
   ]
  },
  {
   "cell_type": "code",
   "execution_count": 27,
   "metadata": {},
   "outputs": [
    {
     "data": {
      "text/plain": [
       "0.66540444444444447"
      ]
     },
     "execution_count": 27,
     "metadata": {},
     "output_type": "execute_result"
    }
   ],
   "source": [
    "topic2_2 = ['皇', '官', '殿', '位', '门', '仪', '礼', '太', '拜', '前', '次', '日', '东', '引', '西']\n",
    "calculate_sy(topic2_2)"
   ]
  },
  {
   "cell_type": "code",
   "execution_count": 28,
   "metadata": {},
   "outputs": [
    {
     "data": {
      "text/plain": [
       "0.6776266666666666"
      ]
     },
     "execution_count": 28,
     "metadata": {},
     "output_type": "execute_result"
    }
   ],
   "source": [
    "topic2_3 = ['礼', '祭', '庙', '帝', '神', '祀', '天', '宗', '祖', '太', '郊', '明', '皇', '献', '配']\n",
    "calculate_sy(topic2_3)"
   ]
  },
  {
   "cell_type": "code",
   "execution_count": 29,
   "metadata": {},
   "outputs": [
    {
     "data": {
      "text/plain": [
       "0.73346666666666671"
      ]
     },
     "execution_count": 29,
     "metadata": {},
     "output_type": "execute_result"
    }
   ],
   "source": [
    "topic2_4 = ['都', '军', '省', '路', '户', '南', '国', '民', '州', '行', '宋', '王', '年', '万', '阿']\n",
    "calculate_sy(topic2_4)"
   ]
  },
  {
   "cell_type": "code",
   "execution_count": 30,
   "metadata": {},
   "outputs": [
    {
     "data": {
      "text/plain": [
       "0.75266666666666682"
      ]
     },
     "execution_count": 30,
     "metadata": {},
     "output_type": "execute_result"
    }
   ],
   "source": [
    "topic2_5 = ['诗', '文', '纪', '本', '集', '类', '书', '百', '聚', '记', '览', '御', '引', '乐', '选']\n",
    "calculate_sy(topic2_5)"
   ]
  },
  {
   "cell_type": "code",
   "execution_count": 31,
   "metadata": {},
   "outputs": [
    {
     "data": {
      "text/plain": [
       "0.69357333333333326"
      ]
     },
     "execution_count": 31,
     "metadata": {},
     "output_type": "execute_result"
    }
   ],
   "source": [
    "topic2_6 = ['河', '水', '口', '运', '北', '堤', '年', '流', '决', '东', '开', '州', '道', '南', '里']\n",
    "calculate_sy(topic2_6)"
   ]
  },
  {
   "cell_type": "code",
   "execution_count": 32,
   "metadata": {},
   "outputs": [
    {
     "data": {
      "text/plain": [
       "0.74425777777777768"
      ]
     },
     "execution_count": 32,
     "metadata": {},
     "output_type": "execute_result"
    }
   ],
   "source": [
    "topic2_7 = ['佛', '法', '王', '经', '时', '生', '寺', '天', '道', '僧', '心', '名', '行', '身', '世']\n",
    "calculate_sy(topic2_7)"
   ]
  },
  {
   "cell_type": "code",
   "execution_count": 33,
   "metadata": {},
   "outputs": [
    {
     "data": {
      "text/plain": [
       "0.63464888888888882"
      ]
     },
     "execution_count": 33,
     "metadata": {},
     "output_type": "execute_result"
    }
   ],
   "source": [
    "topic2_8 = ['宾', '礼', '拜', '西', '东', '爵', '尸', '射', '面', '释', '升', '阶', '祭', '受', '南']\n",
    "calculate_sy(topic2_8)"
   ]
  },
  {
   "cell_type": "code",
   "execution_count": 34,
   "metadata": {},
   "outputs": [
    {
     "data": {
      "text/plain": [
       "0.82594666666666672"
      ]
     },
     "execution_count": 34,
     "metadata": {},
     "output_type": "execute_result"
    }
   ],
   "source": [
    "topic2_9 = ['能', '日', '已', '书', '时', '意', '多', '行', '数', '过', '难', '力', '尽', '心', '近']\n",
    "calculate_sy(topic2_9)"
   ]
  },
  {
   "cell_type": "code",
   "execution_count": 35,
   "metadata": {},
   "outputs": [
    {
     "data": {
      "text/plain": [
       "0.66904000000000008"
      ]
     },
     "execution_count": 35,
     "metadata": {},
     "output_type": "execute_result"
    }
   ],
   "source": [
    "topic2_10 = ['服', '黄', '水', '汤', '治', '味', '丸', '药', '白', '钱', '加', '升', '分', '半', '草']\n",
    "calculate_sy(topic2_10)"
   ]
  },
  {
   "cell_type": "code",
   "execution_count": 36,
   "metadata": {},
   "outputs": [
    {
     "data": {
      "text/plain": [
       "0.66904000000000008"
      ]
     },
     "execution_count": 36,
     "metadata": {},
     "output_type": "execute_result"
    }
   ],
   "source": [
    "topic2_10 = ['服', '黄', '水', '汤', '治', '味', '丸', '药', '白', '钱', '加', '升', '分', '半', '草']\n",
    "calculate_sy(topic2_10)"
   ]
  },
  {
   "cell_type": "code",
   "execution_count": 37,
   "metadata": {},
   "outputs": [
    {
     "data": {
      "text/plain": [
       "0.67689777777777771"
      ]
     },
     "execution_count": 37,
     "metadata": {},
     "output_type": "execute_result"
    }
   ],
   "source": [
    "topic2_11 = ['诏', '宗', '士', '官', '学', '院', '政', '州', '制', '御', '殿', '安', '帝', '枢', '密']\n",
    "calculate_sy(topic2_11)"
   ]
  },
  {
   "cell_type": "code",
   "execution_count": 38,
   "metadata": {},
   "outputs": [
    {
     "data": {
      "text/plain": [
       "0.7947466666666666"
      ]
     },
     "execution_count": 38,
     "metadata": {},
     "output_type": "execute_result"
    }
   ],
   "source": [
    "topic2_12 = ['天', '元', '道', '将', '地', '馀', '神', '文', '国', '百', '德', '师', '圣', '周', '功']\n",
    "calculate_sy(topic2_12)"
   ]
  },
  {
   "cell_type": "code",
   "execution_count": 39,
   "metadata": {},
   "outputs": [
    {
     "data": {
      "text/plain": [
       "0.72797333333333336"
      ]
     },
     "execution_count": 39,
     "metadata": {},
     "output_type": "execute_result"
    }
   ],
   "source": [
    "topic2_13 = ['月', '甲', '辛', '壬', '丙', '庚', '戊', '癸', '辰', '王', '申', '寅', '卯', '午', '州']\n",
    "calculate_sy(topic2_13)"
   ]
  },
  {
   "cell_type": "code",
   "execution_count": 40,
   "metadata": {},
   "outputs": [
    {
     "data": {
      "text/plain": [
       "0.69451555555555555"
      ]
     },
     "execution_count": 40,
     "metadata": {},
     "output_type": "execute_result"
    }
   ],
   "source": [
    "topic2_14 = ['服', '金', '衣', '车', '冠', '带', '制', '玉', '饰', '黄', '青', '龙', '色', '白', '朱']\n",
    "calculate_sy(topic2_14)"
   ]
  },
  {
   "cell_type": "code",
   "execution_count": 41,
   "metadata": {},
   "outputs": [
    {
     "data": {
      "text/plain": [
       "0.67545777777777782"
      ]
     },
     "execution_count": 41,
     "metadata": {},
     "output_type": "execute_result"
    }
   ],
   "source": [
    "topic2_15 = ['水', '东', '南', '城', '北', '西', '县', '山', '阳', '河', '汉', '魏', '里', '流', '地']\n",
    "calculate_sy(topic2_15)"
   ]
  },
  {
   "cell_type": "code",
   "execution_count": 42,
   "metadata": {},
   "outputs": [
    {
     "data": {
      "text/plain": [
       "0.68556444444444453"
      ]
     },
     "execution_count": 42,
     "metadata": {},
     "output_type": "execute_result"
    }
   ],
   "source": [
    "topic2_16 = ['军', '王', '将', '史', '南', '州', '刺', '祖', '阳', '陵', '年', '太守', '义', '景', '书']\n",
    "calculate_sy(topic2_16)"
   ]
  },
  {
   "cell_type": "code",
   "execution_count": 43,
   "metadata": {},
   "outputs": [
    {
     "data": {
      "text/plain": [
       "0.7675022222222222"
      ]
     },
     "execution_count": 43,
     "metadata": {},
     "output_type": "execute_result"
    }
   ],
   "source": [
    "topic2_17 = ['国', '王', '遣', '西', '年', '部', '北', '南', '贡', '里', '辽', '东', '朝', '千', '地']\n",
    "calculate_sy(topic2_17)"
   ]
  },
  {
   "cell_type": "code",
   "execution_count": 44,
   "metadata": {},
   "outputs": [
    {
     "data": {
      "text/plain": [
       "0.79955555555555546"
      ]
     },
     "execution_count": 44,
     "metadata": {},
     "output_type": "execute_result"
    }
   ],
   "source": [
    "topic2_18 = ['象', '吉', '干', '天', '易', '卦', '阳', '正', '阴', '位', '利', '物', '凶', '行', '地']\n",
    "calculate_sy(topic2_18)"
   ]
  },
  {
   "cell_type": "code",
   "execution_count": 45,
   "metadata": {},
   "outputs": [
    {
     "data": {
      "text/plain": [
       "0.71336888888888894"
      ]
     },
     "execution_count": 45,
     "metadata": {},
     "output_type": "execute_result"
    }
   ],
   "source": [
    "topic2_19 = ['祭', '祀', '神', '礼', '天', '郊', '帝', '日', '坛', '庙', '社', '地', '献', '明', '南']\n",
    "calculate_sy(topic2_19)"
   ]
  },
  {
   "cell_type": "code",
   "execution_count": 46,
   "metadata": {},
   "outputs": [
    {
     "data": {
      "text/plain": [
       "0.74684444444444453"
      ]
     },
     "execution_count": 46,
     "metadata": {},
     "output_type": "execute_result"
    }
   ],
   "source": [
    "topic2_20 = ['罪', '刑', '法', '官', '杀', '死', '犯', '狱', '盗', '令', '年', '律', '徒', '赦', '本']\n",
    "calculate_sy(topic2_20)"
   ]
  },
  {
   "cell_type": "code",
   "execution_count": 47,
   "metadata": {},
   "outputs": [
    {
     "data": {
      "text/plain": [
       "0.71033777777777762"
      ]
     },
     "execution_count": 47,
     "metadata": {},
     "output_type": "execute_result"
    }
   ],
   "source": [
    "topic2_21 = ['阙', '年', '铭', '月', '日', '志', '文', '德', '州', '墓', '碑', '讳', '元', '缺', '哀']\n",
    "calculate_sy(topic2_21)"
   ]
  },
  {
   "cell_type": "code",
   "execution_count": 48,
   "metadata": {},
   "outputs": [
    {
     "data": {
      "text/plain": [
       "0.67544888888888888"
      ]
     },
     "execution_count": 48,
     "metadata": {},
     "output_type": "execute_result"
    }
   ],
   "source": [
    "topic2_22 = ['山', '石', '里', '门', '西', '南', '水', '东', '余', '北', '峰', '岩', '寺', '洞', '桥']\n",
    "calculate_sy(topic2_22)"
   ]
  },
  {
   "cell_type": "code",
   "execution_count": 49,
   "metadata": {},
   "outputs": [
    {
     "data": {
      "text/plain": [
       "0.73888888888888893"
      ]
     },
     "execution_count": 49,
     "metadata": {},
     "output_type": "execute_result"
    }
   ],
   "source": [
    "topic2_23 = ['侯', '年', '晋', '齐', '国', '楚', '月', '书', '伯', '传', '王', '正', '郑', '师', '文']\n",
    "calculate_sy(topic2_23)"
   ]
  },
  {
   "cell_type": "code",
   "execution_count": 50,
   "metadata": {},
   "outputs": [
    {
     "data": {
      "text/plain": [
       "0.81751111111111119"
      ]
     },
     "execution_count": 50,
     "metadata": {},
     "output_type": "execute_result"
    }
   ],
   "source": [
    "topic2_24 = ['卷', '经', '集', '录', '撰', '本', '译', '第', '部', '百', '编', '纸', '藏', '论', '刊']\n",
    "calculate_sy(topic2_24)"
   ]
  },
  {
   "cell_type": "code",
   "execution_count": 51,
   "metadata": {},
   "outputs": [
    {
     "data": {
      "text/plain": [
       "0.73416888888888887"
      ]
     },
     "execution_count": 51,
     "metadata": {},
     "output_type": "execute_result"
    }
   ],
   "source": [
    "topic2_25 = ['道', '能', '心', '世', '志', '德', '情', '身', '行', '明', '难', '贤', '远', '高', '才']\n",
    "calculate_sy(topic2_25)"
   ]
  },
  {
   "cell_type": "code",
   "execution_count": 83,
   "metadata": {},
   "outputs": [
    {
     "data": {
      "text/plain": [
       "0.705"
      ]
     },
     "execution_count": 83,
     "metadata": {},
     "output_type": "execute_result"
    }
   ],
   "source": [
    "#topic1 = [\"罪\",\"刑\",\"法\",\"杀\",\"死\",\"官\",\"犯\",\"盗\",\"狱\",\"律\",\"徒\",\"赦\",\"杖\",\"本\",\"年\"]\n",
    "synonyms.compare(\"刑\", \"年\", seg = False)"
   ]
  },
  {
   "cell_type": "code",
   "execution_count": 6,
   "metadata": {},
   "outputs": [
    {
     "data": {
      "text/plain": [
       "2.5"
      ]
     },
     "execution_count": 6,
     "metadata": {},
     "output_type": "execute_result"
    }
   ],
   "source": [
    "np.average([[1,2],[3,4]])"
   ]
  },
  {
   "cell_type": "code",
   "execution_count": 9,
   "metadata": {},
   "outputs": [
    {
     "data": {
      "text/plain": [
       "[u'\\u56fe\\u7247',\n",
       " u'\\u56fe\\u50cf',\n",
       " u'\\u901a\\u8fc7\\u89c2\\u5bdf',\n",
       " u'\\u6570\\u5b57\\u56fe\\u50cf',\n",
       " u'\\u51e0\\u4f55\\u56fe\\u5f62',\n",
       " u'\\u8138\\u90e8',\n",
       " u'\\u56fe\\u8c61',\n",
       " u'\\u653e\\u5927\\u955c',\n",
       " u'\\u9762\\u5b54',\n",
       " u'Mii']"
      ]
     },
     "execution_count": 9,
     "metadata": {},
     "output_type": "execute_result"
    }
   ],
   "source": [
    "synonyms.nearby(\"人脸\")[0]"
   ]
  },
  {
   "cell_type": "code",
   "execution_count": 2,
   "metadata": {},
   "outputs": [
    {
     "data": {
      "text/plain": [
       "0.72799999999999987"
      ]
     },
     "execution_count": 2,
     "metadata": {},
     "output_type": "execute_result"
    }
   ],
   "source": [
    "topic2_no = ['功', '守','道']\n",
    "calculate_sy(topic2_no)"
   ]
  },
  {
   "cell_type": "code",
   "execution_count": null,
   "metadata": {
    "collapsed": true
   },
   "outputs": [],
   "source": []
  }
 ],
 "metadata": {
  "kernelspec": {
   "display_name": "Python 3",
   "language": "python",
   "name": "python3"
  },
  "language_info": {
   "codemirror_mode": {
    "name": "ipython",
    "version": 3
   },
   "file_extension": ".py",
   "mimetype": "text/x-python",
   "name": "python",
   "nbconvert_exporter": "python",
   "pygments_lexer": "ipython3",
   "version": "3.6.3"
  }
 },
 "nbformat": 4,
 "nbformat_minor": 2
}
