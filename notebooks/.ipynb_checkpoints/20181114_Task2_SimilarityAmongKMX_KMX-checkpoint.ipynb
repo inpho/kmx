{
 "cells": [
  {
   "cell_type": "markdown",
   "metadata": {},
   "source": [
    "## Description\n",
    "for each model, wether Analects are closer to Xunzi or Mengzi according to the method that S&N used, according to JSD, and according to KL"
   ]
  },
  {
   "cell_type": "code",
   "execution_count": 1,
   "metadata": {},
   "outputs": [
    {
     "name": "stdout",
     "output_type": "stream",
     "text": [
      "Running from notebook, using serial load function.\n",
      "[20, 40, 60, 80, 100]\n",
      "/home/lab/InPhO_project/inpho/kmx/models/kmx-freq5-freq5-N2523342-LDA-K{0}-document-1000.npz\n",
      "Loading LDA data from /home/lab/InPhO_project/inpho/kmx/models/kmx-freq5-freq5-N2523342-LDA-K100-document-1000.npz\n"
     ]
    }
   ],
   "source": [
    "from corpus import *\n",
    "from vsm import *\n",
    "\n",
    "k = topic_range[4]\n",
    "v = lda_v[k]"
   ]
  },
  {
   "cell_type": "code",
   "execution_count": 2,
   "metadata": {},
   "outputs": [],
   "source": [
    "kongzi = []\n",
    "mengzi = []\n",
    "xunzi =[]\n",
    "count = 0\n",
    "for label in v.labels[:]:\n",
    "    if '孟子'.decode('utf-8') in label:\n",
    "        mengzi.append(count)\n",
    "    elif '论语'.decode('utf-8') in label:\n",
    "        kongzi.append(count)\n",
    "    elif '荀子'.decode('utf-8') in label:\n",
    "        xunzi.append(count)\n",
    "    count += 1"
   ]
  },
  {
   "cell_type": "code",
   "execution_count": 3,
   "metadata": {},
   "outputs": [
    {
     "name": "stdout",
     "output_type": "stream",
     "text": [
      "[382, 1641, 1642, 1643, 1644, 1645, 1646, 1647, 1648, 1649, 1650, 1651, 1652, 1653, 1654]\n"
     ]
    }
   ],
   "source": [
    "print mengzi"
   ]
  },
  {
   "cell_type": "code",
   "execution_count": 4,
   "metadata": {},
   "outputs": [],
   "source": [
    "#1.找到前十的topic的编号\n",
    "def top10topics(labels):\n",
    "    top10topics_list = []\n",
    "    top10topicsweight = []\n",
    "    for a in v.aggregate_doc_topics(labels, normed_sum=True):\n",
    "        top10topics_list.append(a[0])\n",
    "        top10topicsweight.append(a[1])\n",
    "    return top10topics_list[:10]"
   ]
  },
  {
   "cell_type": "code",
   "execution_count": 5,
   "metadata": {},
   "outputs": [],
   "source": [
    "# top 10 topics in Analects\n",
    "top10topics_kongzi = top10topics(kongzi)"
   ]
  },
  {
   "cell_type": "code",
   "execution_count": 6,
   "metadata": {},
   "outputs": [],
   "source": [
    "# top 10 topics in Mengzi\n",
    "top10topics_mengzi = top10topics(mengzi)"
   ]
  },
  {
   "cell_type": "code",
   "execution_count": 7,
   "metadata": {},
   "outputs": [],
   "source": [
    "# top 10 topics in Xunzi\n",
    "top10topics_xunzi = top10topics(xunzi)"
   ]
  },
  {
   "cell_type": "markdown",
   "metadata": {},
   "source": [
    "### 1. accoring to the method that S&N used"
   ]
  },
  {
   "cell_type": "code",
   "execution_count": 8,
   "metadata": {},
   "outputs": [
    {
     "name": "stdout",
     "output_type": "stream",
     "text": [
      "set([65, 7, 76, 13, 16, 19, 53, 92, 93, 62])\n"
     ]
    }
   ],
   "source": [
    "print set(top10topics_kongzi)"
   ]
  },
  {
   "cell_type": "code",
   "execution_count": 9,
   "metadata": {},
   "outputs": [
    {
     "name": "stdout",
     "output_type": "stream",
     "text": [
      "set([64, 2, 76, 13, 16, 20, 62, 55, 93, 30])\n"
     ]
    }
   ],
   "source": [
    "print set(top10topics_xunzi)"
   ]
  },
  {
   "cell_type": "code",
   "execution_count": 10,
   "metadata": {},
   "outputs": [
    {
     "name": "stdout",
     "output_type": "stream",
     "text": [
      "set([2, 41, 76, 47, 60, 30, 87, 92, 93, 62])\n"
     ]
    }
   ],
   "source": [
    "print set(top10topics_mengzi)"
   ]
  },
  {
   "cell_type": "code",
   "execution_count": 11,
   "metadata": {},
   "outputs": [
    {
     "name": "stdout",
     "output_type": "stream",
     "text": [
      "[62, 93, 76, 92]\n"
     ]
    }
   ],
   "source": [
    "temp = []\n",
    "for topic_kongzi in top10topics_kongzi:\n",
    "    if topic_kongzi in top10topics_mengzi:\n",
    "        temp.append(topic_kongzi)\n",
    "print temp"
   ]
  },
  {
   "cell_type": "code",
   "execution_count": 12,
   "metadata": {},
   "outputs": [
    {
     "name": "stdout",
     "output_type": "stream",
     "text": [
      "[62, 93, 16, 13, 76]\n"
     ]
    }
   ],
   "source": [
    "temp = []\n",
    "for topic_kongzi in top10topics_kongzi:\n",
    "    if topic_kongzi in top10topics_xunzi:\n",
    "        temp.append(topic_kongzi)\n",
    "print temp"
   ]
  },
  {
   "cell_type": "markdown",
   "metadata": {},
   "source": [
    "### 2. according to JSD"
   ]
  },
  {
   "cell_type": "code",
   "execution_count": 13,
   "metadata": {},
   "outputs": [
    {
     "ename": "SyntaxError",
     "evalue": "invalid syntax (<ipython-input-13-ec73f270f10b>, line 9)",
     "output_type": "error",
     "traceback": [
      "\u001b[0;36m  File \u001b[0;32m\"<ipython-input-13-ec73f270f10b>\"\u001b[0;36m, line \u001b[0;32m9\u001b[0m\n\u001b[0;31m    for topic_kongzi in top10topics_kongzi:\u001b[0m\n\u001b[0m      ^\u001b[0m\n\u001b[0;31mSyntaxError\u001b[0m\u001b[0;31m:\u001b[0m invalid syntax\n"
     ]
    }
   ],
   "source": [
    "# define a function to compare two topics according to JSD\n",
    "import numpy as np\n",
    "def JSD_similarity(top10topics1, top10topics2):\n",
    "    A = np.zeros((len(top10topics1), len(top10topics2)))\n",
    "    for m in range(len(top10topics1)):\n",
    "        for n in range(len(top10topics2)):\n",
    "            A[m][n]= v.dist(v.labels[top10topics1[m]],v.labels[top10topics2[n]]) \n",
    "    return np.mean(Atemp = []\n",
    "for topic_kongzi in top10topics_kongzi:\n",
    "    if topic_kongzi in top10topics_mengzi:\n",
    "        temp.append(topic_kongzi)\n",
    "print temp)"
   ]
  },
  {
   "cell_type": "code",
   "execution_count": null,
   "metadata": {},
   "outputs": [],
   "source": [
    "JSD_similarity(top10topics_kongzi, top10topics_mengzi)"
   ]
  },
  {
   "cell_type": "code",
   "execution_count": null,
   "metadata": {},
   "outputs": [],
   "source": [
    "JSD_similarity(top10topics_kongzi, top10topics_xunzi)"
   ]
  },
  {
   "cell_type": "markdown",
   "metadata": {},
   "source": [
    "### 3. according to KL"
   ]
  },
  {
   "cell_type": "code",
   "execution_count": null,
   "metadata": {},
   "outputs": [],
   "source": [
    "# define a function to compare two topics according to KL\n",
    "import numpy as np\n",
    "from vsm.spatial import KL_div\n",
    "def KL_similarity(c1,c2):\n",
    "    A = np.zeros((len(c1),len(c2)))\n",
    "    for m in range(len(c1)):\n",
    "        for n in range(len(c2)):\n",
    "            A[m][n]= v.dist(v.labels[c1[m]],v.labels[c2[n]], dist_fn=KL_div) \n",
    "    # print \"while k quals\",k,',','first to second KLD goes',np.mean(A)\n",
    "    \n",
    "    B = np.zeros((len(c1),len(c2)))\n",
    "    for m in range(len(c1)):\n",
    "        for n in range(len(c2)):\n",
    "            B[m][n]= v.dist(v.labels[c2[n]],v.labels[c1[m]], dist_fn=KL_div) \n",
    "    # print \"while k quals\",k,',','second to first KLD goes',np.mean(B)    \n",
    "    return np.mean(A),np.mean(B)"
   ]
  },
  {
   "cell_type": "code",
   "execution_count": null,
   "metadata": {},
   "outputs": [],
   "source": [
    "kongzi_mengzi, mengzi_kongzi = KL_similarity(top10topics_kongzi, top10topics_mengzi)\n",
    "print kongzi_mengzi, mengzi_kongzi"
   ]
  },
  {
   "cell_type": "code",
   "execution_count": null,
   "metadata": {},
   "outputs": [],
   "source": [
    "kongzi_xunzi, xunzi_kongzi = KL_similarity(top10topics_kongzi, top10topics_xunzi)\n",
    "print kongzi_xunzi, xunzi_kongzi"
   ]
  },
  {
   "cell_type": "markdown",
   "metadata": {},
   "source": [
    "## Conclusion\n",
    "#### for full Handian model, wether Analects are closer to Xunzi or Mengzi according to the method that S&N used, according to JSD, and according to KL\n",
    "#### 1. using the method that S&N used\n",
    "compare the top 10 topics in Analects, Mengzi and Xunzi, I find that the intersections of Analects and Mengzi are topic [9, 21, 52, 49, 10, 88, 98], and the intersections of Analects and Xunzi are topic [9, 52, 49, 10, 98, 87, 2]\n",
    "\n",
    "#### 2. according to JSD(the smaller the value, the more similar)\n",
    "the JSD similarity between Analects and Mengzi is 0.787804565761288   \n",
    "the JSD similarity between Analects and Xunzi is 0.7856615598735286   \n",
    "\n",
    "#### 3. according to KL\n",
    "the KL similarity between Analects and Mengzi is 9.785153174942977   \n",
    "the KL similarity between Mengzi and Analects is 9.793660292691156   \n",
    "   \n",
    "the KL similarity between Analects and Xunzi is 9.453831129519207   \n",
    "the KL similarity between Xunzi and Analects is 9.732428965032817   "
   ]
  },
  {
   "cell_type": "code",
   "execution_count": null,
   "metadata": {},
   "outputs": [],
   "source": []
  }
 ],
 "metadata": {
  "kernelspec": {
   "display_name": "Python 2",
   "language": "python",
   "name": "python2"
  },
  "language_info": {
   "codemirror_mode": {
    "name": "ipython",
    "version": 2
   },
   "file_extension": ".py",
   "mimetype": "text/x-python",
   "name": "python",
   "nbconvert_exporter": "python",
   "pygments_lexer": "ipython2",
   "version": "2.7.15"
  }
 },
 "nbformat": 4,
 "nbformat_minor": 2
}
