{
 "cells": [
  {
   "cell_type": "markdown",
   "metadata": {},
   "source": [
    "# Topic Explorer Notebook Tutorial\n",
    "\n",
    "The InPhO Topic Explorer features a powerful interactive coding environment that enables direct manipulation of the corpus and models, in contrast to the web visualization.\n",
    "\n",
    "When you run the `vsm notebook` command, several things happen:\n",
    "1.  The Topic Explorer creates a new folder called `notebooks` and places several files inside it:\n",
    "     -  **corpus.py** contains Python code which imports the Corpus object and a function that will load models trained on your corpus. It gathers this information from your `CORPUS.ini` file, where `CORPUS` is the name of the folder you prepared. More information on this special file is below.\n",
    "     -  **Topic Explorer Tutorial.ipynb** is this file, which provides the skeleton documentation for interacting with the models.\n",
    "     -  Other **ipynb** files, containing analyses that can be re-run on your own corpora.\n",
    "2.  The Topic Explorer launches a [Jupyter Notebook](http://jupyter.org/). This allows you to program in Python on your local computer using the browser, rather than a terminal or other program. "
   ]
  },
  {
   "cell_type": "markdown",
   "metadata": {},
   "source": [
    "## Introducing Jupyter\n",
    "If you look in the address bar of your browser, it should start with something like `localhost:8888/notebooks/Topic%20Explorer%20Tutorial.ipynb`. If you open a new tab or browser window and type in `localhost:8888` you will open the same list of files and be able to edit multiple files at once. Note that editing the same file in multiple tabs may cause you to accidentally overwrite your data. Jupyter does not check if the file is already open.\n",
    "\n",
    "Also, note that if the first portion of the url (`localhost:8888`) is different, you will need to enter what it says on your computer to open a new tab. Most likely the \"port number\" (`8888`) will be different, and may indicate you have a second instance of `vsm notebook` or another Jupyter Notebook server running.\n",
    "\n",
    "\n",
    "### Running Cells\n",
    "The Jupyter notebook operates through individual *cells* that run Python code. To run a cell press the \"run cell\" (play) button or select the cell by clicking on it, then select in the Jupyter menu \"Cell > Run Cells\".\n",
    "\n",
    "Try running the cell below:"
   ]
  },
  {
   "cell_type": "code",
   "execution_count": 2,
   "metadata": {
    "collapsed": false
   },
   "outputs": [
    {
     "name": "stdout",
     "output_type": "stream",
     "text": [
      "Hello world!\n"
     ]
    }
   ],
   "source": [
    "print \"Hello world!\""
   ]
  },
  {
   "cell_type": "markdown",
   "metadata": {},
   "source": [
    "Immediately below the cell, the `Hello world!` should be printed, and to the left of the cell it should say `In [1]:`.\n",
    "\n",
    "#### A note on kernels and brackets\n",
    "If the number `[1]` is different, nothing is wrong, so long as there is a number printed.\n",
    "\n",
    "The number in brackets (`[1]`) counts the number of times you have run a cell in this notebook session. A notebook session is tied to a *kernel*. The kernel runs the Python code. If you wish to reset the numbers and run your code step-by-step, starting from `[1]` again, go to the menu and select \"Kernel > Restart & Run All\".\n",
    "\n",
    "If the number appears as `In [*]:` that means that the cell is currently running. When it changes to a number (`[2]`), then the files have completed importing.\n",
    "\n",
    "If you feel this is taking an absurdly long time to load (in excess of a few seconds), please press the stop button and notify the package developers. There might be a bug in the modeling software."
   ]
  },
  {
   "cell_type": "markdown",
   "metadata": {},
   "source": [
    "### Errors and Debugging\n",
    "Each cell automatically calls `print` on the last line of the cell. Run the cell below to see an example:"
   ]
  },
  {
   "cell_type": "code",
   "execution_count": 3,
   "metadata": {
    "collapsed": false
   },
   "outputs": [
    {
     "name": "stdout",
     "output_type": "stream",
     "text": [
      "hello\n"
     ]
    }
   ],
   "source": [
    "print 'hello'"
   ]
  },
  {
   "cell_type": "markdown",
   "metadata": {},
   "source": [
    "Let's use this to print `Hello world!` once again:"
   ]
  },
  {
   "cell_type": "markdown",
   "metadata": {},
   "source": [
    "**D'oh!** This should have raised a `SyntaxError: invalid syntax`.\n",
    "\n",
    "Note the message `File \"<ipython-input-5-59ca0efa9f56>\", line 1` (the portion after `ipython-input` may be different). This tells you which line in the program errored. If you have errors in more advanced code, the line number will be very helpful in diagnosing the problem.\n",
    "\n",
    "For now, change the cell above to `\"Hello world!\"` and run again to get the proper output."
   ]
  },
  {
   "cell_type": "markdown",
   "metadata": {},
   "source": [
    "## Importing `corpus.py`\n",
    "Now that you know how to run a cell, we can begin interacting with the topic models. First we will import your corpus objects. Select and run the cell below:"
   ]
  },
  {
   "cell_type": "code",
   "execution_count": 4,
   "metadata": {
    "collapsed": false
   },
   "outputs": [
    {
     "name": "stdout",
     "output_type": "stream",
     "text": [
      "Running from notebook, using serial load function.\n",
      "[100]\n",
      "/home/hongliang/Downloads/workspace/models/mirrorfunctions-freq5-nltk-en-freq1-N100000-LDA-K{0}-document-200.npz\n"
     ]
    }
   ],
   "source": [
    "from corpus import *"
   ]
  },
  {
   "cell_type": "markdown",
   "metadata": {},
   "source": [
    "You will now have access to several variables, the most important of which are:\n",
    " -  `c` -- The `vsm.Corpus` object\n",
    " -  `lda_v` -- A dictionary containing each of the `vsm.LdaViewer` instances. You can access a particular model with `lda_v[k]`, substituting k for a particular number, like `lda_v[20]` for the 20-topic model. If the model for that number of topics has not been trained, it will error.\n",
    " -  `topic_range` -- A list of the trained models (e.g., `[20, 40, 60, 80]`)\n",
    " -  `context_type` -- A string containing the particular context type modeled (e.g., `\"sentence\"`, `\"document\"`, `\"article\"`)"
   ]
  },
  {
   "cell_type": "markdown",
   "metadata": {},
   "source": [
    "### Introducing the `vsm` module\n",
    "\n",
    "The InPhO Topic Explorer is comprised of two modules:\n",
    "1. The `topicexplorer` module contains code for the visualization and user interfaces.\n",
    "2. The `vsm` module contains code for modeling differnet corpora. \n",
    "\n",
    "In order to make use of the term frequency (TF), term frequency-inverse document frequency (TfIdf), and latent semantic analysis (LSA) models, we must import the main vsm module:"
   ]
  },
  {
   "cell_type": "code",
   "execution_count": 5,
   "metadata": {
    "collapsed": true
   },
   "outputs": [],
   "source": [
    "from vsm import *"
   ]
  },
  {
   "cell_type": "markdown",
   "metadata": {},
   "source": [
    "## Interacting with the Corpus: Term Frequencies"
   ]
  },
  {
   "cell_type": "markdown",
   "metadata": {},
   "source": [
    "The command above has loaded your `Corpus` object into the `c` variable. You can see the list of all words that are in your corpus by typing `c.words` into a code cell:"
   ]
  },
  {
   "cell_type": "code",
   "execution_count": 6,
   "metadata": {
    "collapsed": false
   },
   "outputs": [
    {
     "data": {
      "text/plain": [
       "array([u'1', u'10', u'105', ..., u'\\uff1d', u'\\uff3f', u'\\uff5e'], dtype=object)"
      ]
     },
     "execution_count": 6,
     "metadata": {},
     "output_type": "execute_result"
    }
   ],
   "source": [
    "c.words"
   ]
  },
  {
   "cell_type": "markdown",
   "metadata": {},
   "source": [
    "Note that it only shows the first few and last few unique words in the corpus, alphabetically sorted. \n",
    "\n",
    "What if we want to get a list of how often each word occurs? For that, we can use the `vsm.model.TF` to build a frequency distribution over the terms in the corpus:"
   ]
  },
  {
   "cell_type": "code",
   "execution_count": 18,
   "metadata": {
    "collapsed": false
   },
   "outputs": [],
   "source": [
    "# train the model and create a TfViewer object\n",
    "tf = TF(c, context_type)\n",
    "tf.train()\n",
    "tf_v = TfViewer(c, tf)\n",
    "\n",
    "# print the most frequent terms in the document\n",
    "# remember that IPython automatically prints the last cell of a document\n",
    "tf_v.coll_freqs()\n",
    "\n",
    "for a in tf_v.coll_freqs():\n",
    "    print a\n"
   ]
  },
  {
   "cell_type": "code",
   "execution_count": null,
   "metadata": {
    "collapsed": true
   },
   "outputs": [],
   "source": [
    "#  tf.matrix是一个矩阵，每一行代表一个词，每一列代表一个文档每个单元：（词语，文档）  词频   获取词频的方法是，.data属性，可以\n",
    "#拿到一个列表，是各个文档中出现的次数\n",
    "#  tf.matrix.getcol(x) 是一个矩阵，只有一列，代表第x个文本中，每一个字出现的频率\n",
    "#  tf.matrix.getraw(x)是一个矩阵，只有一行，代表第x个词，在对应每一个文档中出现的频数\n",
    "\n",
    "print tf.matrix.shape,tf.matrix.getcol(1515).shape,tf.matrix.getrow(1515).shape\n",
    "wf = []\n",
    "whf = []\n",
    "for i in range(0,1):\n",
    "    whf.append(tf.matrix.getrow(i))\n",
    "    \n",
    "    wf.append(sum(whf[i].data))\n",
    "print wf[:10]"
   ]
  },
  {
   "cell_type": "code",
   "execution_count": 44,
   "metadata": {
    "collapsed": false
   },
   "outputs": [],
   "source": [
    "#此处应该确认一下，是否是对应关系。此字词是从cwords里面依次读取出来的\n",
    "cwords=[]\n",
    "for a in c.words:\n",
    "    cwords.append(''.join(a).encode('utf-8'))\n",
    "rows = zip(cwords,wf)\n",
    "import csv\n",
    "with open('wordsfrequency.csv','w') as f:\n",
    "    f_csv = csv.writer(f)\n",
    "#    f_csv.writerow(headers)\n",
    "    f_csv.writerows(rows)"
   ]
  },
  {
   "cell_type": "markdown",
   "metadata": {},
   "source": [
    "After running the cell above, you should see a table with the 20 most frequently used words."
   ]
  },
  {
   "cell_type": "markdown",
   "metadata": {
    "collapsed": true
   },
   "source": [
    "## Interacting with Topic Models\n",
    "\n",
    "The InPhO Topic Explorer doesn't just work with term frequencies though - it creates LDA topic models. Through the notebook interface these models can be powerfully manipulated to produce new analyses.\n",
    "\n",
    "First, let's select a primary model to investigate, and load it into the variable `v`:"
   ]
  },
  {
   "cell_type": "code",
   "execution_count": 11,
   "metadata": {
    "collapsed": false,
    "scrolled": true
   },
   "outputs": [],
   "source": [
    "# print the number of topics in the first model\n",
    "print topic_range[0]\n",
    "# remember that list indexes start with 0 not 1!\n",
    "\n",
    "# replace 'topic_range[0]' with a specific number, if you like\n",
    "k = topic_range[0]\n",
    "\n",
    "# load the topic model\n",
    "v = lda_v[k]"
   ]
  },
  {
   "cell_type": "markdown",
   "metadata": {},
   "source": [
    "The above code loads the first topic model into a viewer object. We have used the `topic_range[0]` instead of simply stating a number so that this same demo notebook will work with any model settings you've prepared. This portability enables us to write analyses that can be replicated across any corpus, and is one of the real strengths of using the `from corpus import *` model of coding your notebooks. If others are using the Topic Explorer to generate their objects, they can run the exact same analysis on different corpora, so long as the variable names are consistent"
   ]
  },
  {
   "cell_type": "markdown",
   "metadata": {},
   "source": [
    "### `v.topics()`\n",
    "First, lets print a list of topics:"
   ]
  },
  {
   "cell_type": "code",
   "execution_count": 12,
   "metadata": {
    "collapsed": false
   },
   "outputs": [],
   "source": [
    "v.topics()\n",
    "import sys\n",
    "reload(sys)\n",
    "sys.setdefaultencoding(\"utf-8\")\n",
    "count = 0\n",
    "kongzi = []\n",
    "mengzi = []\n",
    "xunzi =[]\n",
    "\n",
    "for label in v.labels[:]:\n",
    "    if '孟子' in label:\n",
    "        mengzi.append(count)\n",
    "    elif '论语' in label:\n",
    "        kongzi.append(count)\n",
    "    elif '荀子' in label:\n",
    "        xunzi.append(count)\n",
    "    count = count+1\n",
    "print 'mengzi has %d files'%len(mengzi)\n",
    "print 'kongzi has %d files'%len(kongzi)\n",
    "print 'xunzi has %d files'%len(xunzi)"
   ]
  },
  {
   "cell_type": "code",
   "execution_count": 3,
   "metadata": {
    "collapsed": false
   },
   "outputs": [
    {
     "data": {
      "text/plain": [
       "<matplotlib.figure.Figure at 0x7fb2790e9e50>"
      ]
     },
     "execution_count": 3,
     "metadata": {},
     "output_type": "execute_result"
    },
    {
     "data": {
      "image/png": "[encoded data removed]",
      "text/plain": [
       "<matplotlib.figure.Figure at 0x7fb27912be50>"
      ]
     },
     "metadata": {},
     "output_type": "display_data"
    },
    {
     "data": {
      "text/plain": [
       "<matplotlib.figure.Figure at 0x7fb2790e9e50>"
      ]
     },
     "metadata": {},
     "output_type": "display_data"
    }
   ],
   "source": [
    "%matplotlib inline\n",
    "import matplotlib.pyplot as plt\n",
    "plt.plot([1,3,2,4])\n",
    "plt.ylabel('some numbers')\n",
    "plt.show()"
   ]
  },
  {
   "cell_type": "code",
   "execution_count": 17,
   "metadata": {
    "collapsed": false
   },
   "outputs": [
    {
     "data": {
      "text/html": [
       "<div>\n",
       "<table border=\"1\" class=\"dataframe\">\n",
       "  <thead>\n",
       "    <tr style=\"text-align: right;\">\n",
       "      <th></th>\n",
       "      <th>marks</th>\n",
       "      <th>name</th>\n",
       "      <th>price</th>\n",
       "    </tr>\n",
       "  </thead>\n",
       "  <tbody>\n",
       "    <tr>\n",
       "      <th>0</th>\n",
       "      <td>200</td>\n",
       "      <td>yahoo</td>\n",
       "      <td>9</td>\n",
       "    </tr>\n",
       "    <tr>\n",
       "      <th>1</th>\n",
       "      <td>400</td>\n",
       "      <td>google</td>\n",
       "      <td>3</td>\n",
       "    </tr>\n",
       "    <tr>\n",
       "      <th>2</th>\n",
       "      <td>800</td>\n",
       "      <td>facebook</td>\n",
       "      <td>7</td>\n",
       "    </tr>\n",
       "  </tbody>\n",
       "</table>\n",
       "</div>"
      ],
      "text/plain": [
       "   marks      name  price\n",
       "0    200     yahoo      9\n",
       "1    400    google      3\n",
       "2    800  facebook      7"
      ]
     },
     "execution_count": 17,
     "metadata": {},
     "output_type": "execute_result"
    }
   ],
   "source": [
    "from pandas import Series,DataFrame\n",
    "import pandas as pd\n",
    "data = {\"name\":[\"yahoo\",\"google\",\"facebook\"], \"marks\":[200,400,800], \"price\":[9, 3, 7]} \n",
    "f = DataFrame(data)\n",
    "f"
   ]
  },
  {
   "cell_type": "code",
   "execution_count": null,
   "metadata": {
    "collapsed": true
   },
   "outputs": [],
   "source": [
    "#在孔孟荀间，求频率\n",
    "wfkmx = []\n",
    "whfkmx = []\n",
    "for i in range(0,1):\n",
    "    whfkmx.append(tf.matrix.getrow(i))\n",
    "    \n",
    "    wfkmx.append(sum(whfkmx[i].data[item] for item in mengzi))\n",
    "print wf[:10]\n",
    "tf.matrix.getrow(0)"
   ]
  },
  {
   "cell_type": "markdown",
   "metadata": {},
   "source": [
    "To change the number of words printed per topic, use the `print_len` argument:"
   ]
  },
  {
   "cell_type": "code",
   "execution_count": 105,
   "metadata": {
    "collapsed": false,
    "scrolled": false
   },
   "outputs": [],
   "source": [
    "v.topics(print_len=20)\n",
    "\n",
    "\n",
    "for i in range(0,100):\n",
    "    x = 0\n",
    "    ww = []\n",
    "    wwa =[]\n",
    "    wwb = []\n",
    "    wwc = []\n",
    "    for a in v.topics():\n",
    "        if x == i:\n",
    "            for b in a: \n",
    "                ww.append(b)\n",
    "        x = x+1\n",
    "    \n",
    "    #print ww\n",
    "    for a in ww[:10]:\n",
    "        wwa.append(a[0].encode('utf-8'))\n",
    "        wwb.append(a[1])\n",
    "        wwc.append(i)\n",
    "    printrow = zip(wwc,wwa,wwb)\n",
    "    \n",
    "    \n",
    "        \n",
    "    with open('topicdweight.csv','a+') as f:\n",
    "        f_csv = csv.writer(f)\n",
    "    #    f_csv.writerow(headers)\n",
    "        f_csv.writerows(printrow)"
   ]
  },
  {
   "cell_type": "code",
   "execution_count": 108,
   "metadata": {
    "collapsed": false
   },
   "outputs": [
    {
     "name": "stdout",
     "output_type": "stream",
     "text": [
      "[0, '\\xe8\\xb0\\x93\\xe4\\xb9\\x8b', '\\xe5\\x90\\xb4', '\\xe9\\xbb\\x8e', '\\xe6\\xa5\\x9a', '\\xe5\\xa4\\xa9', '\\xe9\\x9f\\xb3', '\\xe5\\x8e\\xbf', '\\xe5\\xbf\\x97', '\\xe5\\xb9\\xbf', '\\xe9\\x95\\xbf']\n",
      "[1, '\\xe7\\x8e\\x8b', '\\xe5\\xa4\\xaa\\xe5\\x90\\x8e', '\\xe7\\xab\\x8b', '\\xe5\\xb8\\x9d', '\\xe5\\xad\\x9d', '\\xe5\\x90\\x8e', '\\xe4\\xbe\\xaf', '\\xe5\\x9b\\xbd', '\\xe7\\x9a\\x87\\xe5\\x90\\x8e', '\\xe8\\x96\\xa8']\n",
      "[2, '\\xe5\\x88\\xba', '\\xe9\\xbb\\x83', '\\xe8\\xb6\\xb3', '\\xe7\\x82\\xba', '\\xe9\\x87\\x9d', '\\xe8\\xa1\\x80', '\\xe5\\x85\\xa7', '\\xe8\\x81\\x9e', '\\xe4\\xb8\\x8a', '\\xe9\\xaa\\xa8']\n",
      "[3, '\\xe6\\x9c\\xac', '\\xe9\\xae\\x91', '\\xe6\\x99\\x8f\\xe5\\xad\\x90', '\\xe9\\xbd\\x8a', '\\xe7\\x82\\xba', '\\xe8\\xb6\\x99', '\\xe5\\xa7\\x9a', '\\xe6\\xa5\\x9a', '\\xe4\\xba\\x8c', '\\xe8\\xa3\\x9c']\n",
      "[4, '\\xe5\\xb0\\x86', '\\xe6\\x95\\x8c', '\\xe5\\x85\\xb5', '\\xe5\\xa4\\xaa', '\\xe6\\x88\\x98', '\\xe5\\x86\\x9b', '\\xe5\\x85\\xac\\xe6\\x9b\\xb0', '\\xe5\\x8d\\x92', '\\xe6\\xad\\xa6', '\\xe5\\x87\\xbb']\n",
      "[5, '\\xe5\\x85\\xb5', '\\xe6\\x94\\xbb', '\\xe4\\xb8\\x80', '\\xe4\\xb8\\x8a', '\\xe6\\x88\\x98', '\\xe5\\xae\\x88', '\\xe9\\xa6\\x80', '\\xe5\\x8f\\xaf', '\\xe8\\x83\\x9c', '\\xe4\\xba\\x8c']\n",
      "[6, '\\xe5\\xa4\\xa9', '\\xe6\\xb0\\x94', '\\xe7\\x94\\x9f', '\\xe4\\xbb\\xa5\\xe4\\xb8\\xba', '\\xe6\\x97\\xb6', '\\xe9\\x98\\xb4', '\\xe9\\x98\\xb3', '\\xe6\\xb0\\xb4', '\\xe4\\xb8\\x80', '\\xe7\\x81\\xab']\n",
      "[7, '\\xe8\\x84\\x89', '\\xe7\\x97\\x85', '\\xe6\\xb0\\x94', '\\xe6\\xb5\\xae', '\\xe9\\x98\\xb3', '\\xe9\\x98\\xb4', '\\xe6\\xad\\xbb', '\\xe8\\x82\\x9d', '\\xe6\\x84\\x8f', '\\xe7\\xbb\\x8f']\n",
      "[8, '\\xe4\\xbb\\xa4', '\\xe4\\xba\\x8b', '\\xe5\\xa4\\x8d', '\\xe4\\xb8\\x8a', '\\xe5\\xae\\x98', '\\xe5\\x8f\\x8a', '\\xe5\\xa5\\x8f', '\\xe8\\x87\\xa3', '\\xe6\\x98\\x8e', '\\xe8\\xae\\xae']\n",
      "[9, '\\xe5\\x8d\\x81', '\\xe5\\xa4\\x8f', '\\xe6\\x98\\xa5', '\\xe5\\x86\\xac', '\\xe7\\xa7\\x8b', '\\xe9\\x83\\xa1', '\\xe8\\xaf\\x8f\\xe6\\x9b\\xb0', '\\xe6\\x9c\\x95', '\\xe5\\xa4\\xa9\\xe4\\xb8\\x8b', '\\xe2\\x94\\x80']\n",
      "[10, '\\xe5\\x85\\x89\\xe6\\xad\\xa6', '\\xe4\\xbe\\xaf', '\\xe6\\x9b\\xb4\\xe5\\xa7\\x8b', '\\xe5\\x9a\\xa3', '\\xe5\\xb0\\x86\\xe5\\x86\\x9b', '\\xe5\\xb8\\x9d', '\\xe9\\x99\\x8d', '\\xe8\\xbf\\xb0', '\\xe8\\x8c\\x82', '\\xe5\\xb0\\x81']\n",
      "[11, '\\xe6\\xb0\\x91', '\\xe5\\xbe\\xb7', '\\xe5\\xa4\\xa9\\xe4\\xb8\\x8b', '\\xe7\\xa4\\xbc', '\\xe6\\x98\\x8e', '\\xe4\\xb9\\x90', '\\xe6\\xad\\xa3', '\\xe5\\x88\\xb6', '\\xe5\\xa4\\xa9\\xe5\\x9c\\xb0', '\\xe5\\xa4\\xa9']\n",
      "[12, '\\xe6\\x96\\x87', '\\xe7\\xab\\xa0', '\\xe8\\xa7\\x82', '\\xe8\\xbe\\x9e', '\\xe5\\x9b\\xba', '\\xe8\\xae\\xba', '\\xe8\\xbf\\x9c', '\\xe8\\xb5\\x8b', '\\xe5\\x8d\\xbf', '\\xe5\\xb0\\x9a']\n",
      "[13, '\\xe5\\xb8\\x9d', '\\xe6\\x8b\\x9c', '\\xe9\\x81\\x82', '\\xe5\\x8f\\x8a', '\\xe8\\xaf\\x8f', '\\xe5\\xa4\\x8d', '\\xe8\\xb5\\x90', '\\xe9\\x83\\xa1', '\\xe5\\xae\\xaa', '\\xe6\\xb0\\xb8']\n",
      "[14, '\\xe5\\xad\\x90\\xe6\\x9b\\xb0', '\\xe5\\xa4\\xa9\\xe4\\xb8\\x8b', '\\xe6\\x81\\xb6', '\\xe4\\xbb\\xa5\\xe4\\xb8\\xba', '\\xe5\\x96\\x84', '\\xe4\\xb8\\x8d\\xe7\\x9f\\xa5', '\\xe4\\xba\\x8b', '\\xe8\\xbe\\x9e', '\\xe4\\xb8\\x8d\\xe5\\x8f\\xaf', '\\xe5\\xa4\\xa9']\n",
      "[15, '\\xe4\\xb8\\x80', '\\xe5\\xad\\x97', '\\xe7\\x84\\xa1', '\\xe6\\xa1\\x88', '\\xe6\\x96\\x87', '\\xe8\\xaa\\xaa', '\\xe8\\xa6\\x8b', '\\xe7\\x95\\xb6', '\\xe5\\x89\\x87', '\\xe5\\xad\\xab']\n",
      "[16, '\\xe6\\x96\\xbc', '\\xe5\\x8f\\x8a', '\\xe5\\xbd\\x8a', '\\xe5\\xbc\\x97', '\\xe8\\x87\\xb3\\xe6\\x96\\xbc', '\\xe5\\x8f\\x97', '\\xe9\\x81\\xa9', '\\xe8\\x83\\xbd', '\\xe5\\xb0\\x81', '\\xe5\\x95\\x86']\n",
      "[17, '\\xe6\\x96\\xbc', '\\xe6\\x95\\xb8', '\\xe8\\x90\\xac', '\\xe9\\x87\\x8d', '\\xe7\\xa9\\x80', '\\xe6\\xb0\\x91', '\\xe6\\x99\\x82', '\\xe6\\xa1\\x93\\xe5\\x85\\xac', '\\xe6\\xad\\xb2', '\\xe9\\x87\\x91']\n",
      "[18, '\\xe6\\xb2\\xbb', '\\xe4\\xb9\\x89', '\\xe4\\xb8\\x8a', '\\xe4\\xb9\\xb1', '\\xe5\\x9b\\xbd', '\\xe6\\xb0\\x91', '\\xe4\\xb9\\x8b\\xe8\\xb0\\x93', '\\xe6\\x94\\xbf', '\\xe4\\xb8\\x8d\\xe8\\x83\\xbd', '\\xe5\\x88\\x91']\n",
      "[19, '\\xe4\\xb8\\xa7', '\\xe5\\x93\\xad', '\\xe6\\x9c\\x8d', '\\xe5\\xa6\\x87', '\\xe7\\x88\\xb6', '\\xe6\\xad\\xbb', '\\xe6\\xaf\\x8d', '\\xe5\\xa6\\xbb', '\\xe7\\x88\\xb6\\xe6\\xaf\\x8d', '\\xe5\\x86\\xa0']\n",
      "[20, '\\xe7\\x9a\\x84', '\\xe6\\x8c\\x87', '\\xe6\\x96\\x87', '\\xe5\\xb0\\xb1', '\\xe8\\xbe\\x9e', '\\xe8\\xb5\\x8b', '\\xe8\\xae\\xba', '\\xe4\\xbb\\x96', '\\xe5\\x88\\x9b\\xe4\\xbd\\x9c', '\\xe4\\xb8\\x8a']\n",
      "[21, '\\xe6\\xb5\\x8b', '\\xe6\\xac\\xa1', '\\xe8\\xb4\\x9e', '\\xe4\\xba\\x8c', '\\xe4\\xb8\\x8a', '\\xe5\\x86\\xa5', '\\xe9\\x98\\xb3', '\\xe7\\xa6\\xbb', '\\xe9\\x98\\xb4', '\\xe6\\xb8\\x8a']\n",
      "[22, '\\xe8\\xbd\\xbd', '\\xe4\\xb9\\x90', '\\xe9\\x87\\x87', '\\xe6\\xad\\x8c', '\\xe5\\xbd\\x92', '\\xe8\\xa1\\xa3', '\\xe5\\xa3\\xb0', '\\xe9\\xa3\\x8e', '\\xe6\\x80\\x9d', '\\xe6\\x9c\\x8d']\n",
      "[23, '\\xe5\\xb0\\x86\\xe5\\x86\\x9b', '\\xe5\\xb0\\x86', '\\xe8\\xb4\\xbc', '\\xe7\\xbe\\x8c', '\\xe8\\xbf\\x98', '\\xe7\\x8e\\x8b', '\\xe5\\x87\\xbb', '\\xe5\\xa4\\xaa\\xe5\\xae\\x88', '\\xe9\\xaa\\x91', '\\xe6\\x8b\\x9c']\n",
      "[24, '\\xe5\\x85\\xb5', '\\xe9\\x81\\x82', '\\xe7\\xad\\x89', '\\xe5\\xa4\\x8d', '\\xe5\\x8f\\x8a', '\\xe4\\xbc\\x97', '\\xe5\\x9b\\xa0', '\\xe6\\x97\\xb6', '\\xe4\\xbb\\xa4', '\\xe9\\x81\\xa3']\n",
      "[25, '\\xe7\\x8e\\x8b', '\\xe5\\x91\\xa8', '\\xe6\\xad\\xa6\\xe7\\x8e\\x8b', '\\xe6\\x96\\x87\\xe7\\x8e\\x8b', '\\xe7\\x8e\\x8b\\xe6\\x9b\\xb0', '\\xe4\\xba\\x8c', '\\xe7\\x88\\xb6', '\\xe6\\xad\\xa6', '\\xe4\\xba\\xa1', '\\xe8\\x87\\xa3']\n",
      "[26, '\\xe5\\x96\\x84', '\\xe6\\x80\\xa7', '\\xe5\\x9c\\xa3\\xe4\\xba\\xba', '\\xe5\\xad\\xa6', '\\xe9\\x81\\x93', '\\xe4\\xb9\\x90', '\\xe8\\xb0\\x93\\xe4\\xb9\\x8b', '\\xe5\\xbe\\xb7', '\\xe4\\xbb\\x81', '\\xe4\\xb8\\x87\\xe7\\x89\\xa9']\n",
      "[27, '\\xe4\\xba\\xa1', '\\xe4\\xbc\\xa0', '\\xe6\\xb1\\x89', '\\xe5\\x91\\xa8', '\\xe6\\x98\\xa5\\xe7\\xa7\\x8b', '\\xe5\\x90\\x8e', '\\xe6\\xb0\\x8f', '\\xe8\\xaf\\x97', '\\xe6\\x88\\x90', '\\xe6\\x98\\x93']\n",
      "[28, '\\xe6\\x96\\x87', '\\xe5\\xad\\x9f\\xe5\\xad\\x90', '\\xe5\\xad\\x94\\xe5\\xad\\x90', '\\xe5\\x9c\\xa3\\xe4\\xba\\xba', '\\xe7\\xa4\\xbc', '\\xe6\\xa1\\x88', '\\xe6\\x98\\x8e', '\\xe5\\xad\\x90\\xe4\\xba\\x91', '\\xe6\\x98\\x93', '\\xe5\\xae\\x8b']\n",
      "[29, '\\xe5\\x8c\\x88\\xe5\\xa5\\xb4', '\\xe5\\x8d\\x95\\xe4\\xba\\x8e', '\\xe5\\xb0\\x86\\xe5\\x86\\x9b', '\\xe6\\xb1\\x89', '\\xe9\\xaa\\x91', '\\xe4\\xbe\\xaf', '\\xe4\\xbd\\xbf', '\\xe5\\xb0\\x86', '\\xe5\\x87\\xba', '\\xe5\\x8f\\xb3']\n",
      "[30, '\\xe5\\x90\\x8f', '\\xe6\\xb0\\x91', '\\xe4\\xbb\\xa4', '\\xe6\\xb2\\xbb', '\\xe9\\x92\\xb1', '\\xe7\\xbd\\xaa', '\\xe5\\xa4\\xa9\\xe4\\xb8\\x8b', '\\xe5\\x88\\x91', '\\xe9\\x83\\xa1', '\\xe6\\xb3\\x95']\n",
      "[31, '\\xe4\\xb8\\x8a', '\\xe4\\xb8\\x9e\\xe7\\x9b\\xb8', '\\xe9\\x99\\x9b\\xe4\\xb8\\x8b', '\\xe8\\x87\\xa3', '\\xe5\\xad\\x9d', '\\xe5\\xa4\\xa7\\xe5\\xa4\\xab', '\\xe4\\xbe\\xaf', '\\xe6\\x99\\xaf', '\\xe7\\x9b\\x8e', '\\xe4\\xba\\xba\\xe4\\xb9\\x9f']\n",
      "[32, '\\xe6\\x9b\\xb8', '\\xe6\\xbc\\xa2', '\\xe5\\x8d\\xb7', '\\xe8\\xa8\\x98', '\\xe5\\x82\\xb3', '\\xe5\\xbe\\x8c', '\\xe5\\xbe\\xa1', '\\xe5\\xbc\\x95', '\\xe6\\x9c\\xac', '\\xe7\\x82\\xba']\n",
      "[33, '\\xe6\\xb0\\xb4', '\\xe6\\xb2\\xb3', '\\xe4\\xb8\\x9c', '\\xe8\\xa1\\x8c', '\\xe5\\xb1\\xb1', '\\xe8\\xa5\\xbf', '\\xe5\\x9c\\x9f', '\\xe7\\xa6\\xb9', '\\xe5\\x87\\xba', '\\xe8\\x87\\xb3\\xe4\\xba\\x8e']\n",
      "[34, '\\xe7\\xa7\\xa6', '\\xe7\\x8e\\x8b', '\\xe9\\xad\\x8f', '\\xe6\\x94\\xbb', '\\xe5\\xa4\\xaa\\xe5\\xad\\x90', '\\xe5\\x85\\xb5', '\\xe4\\xbd\\xbf', '\\xe5\\x91\\xa8', '\\xe5\\x9b\\xa0', '\\xe5\\x8d\\x81']\n",
      "[35, '\\xe8\\x8e\\xbd', '\\xe5\\x9b\\xbd', '\\xe4\\xbe\\xaf', '\\xe9\\x83\\xa1', '\\xe6\\x88\\xb7', '\\xe9\\x98\\xb3', '\\xe5\\xb1\\x9e', '\\xe4\\xba\\xad', '\\xe6\\xb0\\xb4', '\\xe5\\x9f\\x8e']\n",
      "[36, '\\xe4\\xbd\\xbf', '\\xe4\\xb8\\x8d\\xe8\\x83\\xbd', '\\xe5\\x91\\xbd', '\\xe8\\xae\\xba', '\\xe5\\xae\\x9e', '\\xe9\\x9a\\xbe', '\\xe6\\x81\\xb6', '\\xe4\\xb8\\x96', '\\xe5\\xae\\x9c', '\\xe5\\x96\\x84']\n",
      "[37, '\\xe6\\xb0\\x91', '\\xe5\\x91\\xbd', '\\xe5\\xb0\\x94', '\\xe5\\x8e\\xa5', '\\xe4\\xba\\x88', '\\xe5\\xbe\\xb7', '\\xe7\\xbb\\xb4', '\\xe7\\x8e\\x8b', '\\xe5\\xa4\\xa9', '\\xe5\\x85\\x8b']\n",
      "[38, '\\xe8\\xb6\\x8a', '\\xe5\\x90\\xb4', '\\xe6\\xa5\\x9a', '\\xe8\\x83\\xa5', '\\xe7\\x8e\\x8b\\xe6\\x9b\\xb0', '\\xe5\\xaf\\xa1\\xe4\\xba\\xba', '\\xe8\\xb6\\x8a\\xe7\\x8e\\x8b', '\\xe4\\xbd\\xbf', '\\xe4\\xbc\\x90', '\\xe5\\x90\\xb4\\xe7\\x8e\\x8b']\n",
      "[39, '\\xe7\\xa5\\xad', '\\xe7\\xa5\\x80', '\\xe5\\xba\\x99', '\\xe5\\xae\\x97', '\\xe9\\x83\\x8a', '\\xe7\\xa5\\x9e', '\\xe7\\xa4\\xbc', '\\xe7\\xab\\x8b', '\\xe5\\xa4\\xa9\\xe5\\xad\\x90', '\\xe6\\x96\\x87']\n",
      "[40, '\\xe6\\xb0\\x8f', '\\xe6\\xbc\\xa2', '\\xe9\\xa1\\x9e', '\\xe5\\xbe\\x8c', '\\xe6\\x9b\\xb8', '\\xe4\\xba\\x8c', '\\xe5\\xa7\\x93', '\\xe7\\x82\\xba', '\\xe6\\xa1\\x88', '\\xe9\\x80\\x9a']\n",
      "[41, '\\xe9\\x99\\xbd', '\\xe5\\x89\\x87', '\\xe9\\x99\\xb0', '\\xe6\\xb0\\xa3', '\\xe8\\x84\\x88', '\\xe4\\xbc\\xaf', '\\xe5\\xb0\\x91', '\\xe5\\xb2\\x90', '\\xe7\\x86\\xb1', '\\xe5\\xa4\\xaa']\n",
      "[42, '\\xe9\\xa9\\xac', '\\xe8\\x83\\xbd', '\\xe4\\xb8\\x80', '\\xe8\\xa1\\x8c', '\\xe5\\x87\\xba', '\\xe4\\xb8\\x8d\\xe5\\x8f\\xaf', '\\xe5\\x86\\x85', '\\xe6\\x95\\xb0', '\\xe4\\xbb\\xa4', '\\xe4\\xbb\\xa5\\xe4\\xb8\\xba']\n",
      "[43, '\\xe6\\x99\\x8b', '\\xe9\\x83\\x91', '\\xe5\\xb8\\x88', '\\xe5\\xb0\\x86', '\\xe4\\xbc\\xaf', '\\xe5\\xae\\x8b', '\\xe5\\x8f\\x94', '\\xe5\\x8f\\x8a', '\\xe4\\xbe\\xaf', '\\xe9\\xbd\\x90']\n",
      "[44, '\\xe8\\xb4\\xa4', '\\xe8\\xbf\\x9b', '\\xe8\\xa1\\x8c', '\\xe6\\xad\\xa3', '\\xe9\\x80\\x9a', '\\xe4\\xb9\\x89', '\\xe5\\xb8\\x88', '\\xe9\\x95\\xbf', '\\xe6\\x81\\xb6', '\\xe4\\xbb\\xbb']\n",
      "[45, '\\xe4\\xbe\\xaf', '\\xe5\\x87\\xbb', '\\xe5\\x86\\x9b', '\\xe7\\xa0\\xb4', '\\xe4\\xb8\\x9c', '\\xe5\\xae\\x9a', '\\xe9\\xbd\\x90', '\\xe6\\x94\\xbb', '\\xe5\\x85\\xb5', '\\xe5\\xa9\\xb4']\n",
      "[46, '\\xe6\\x9c\\x88', '\\xe8\\xa1\\x8c', '\\xe5\\xa7\\x8b', '\\xe5\\x91\\xbd', '\\xe5\\xa4\\xa9\\xe5\\xad\\x90', '\\xe9\\x9f\\xb3', '\\xe4\\xbb\\xa4', '\\xe5\\x85\\x88', '\\xe5\\x9b\\xbd', '\\xe5\\xbe\\x8b']\n",
      "[47, '\\xe5\\xb0\\x86', '\\xe5\\xaf\\xb9\\xe6\\x9b\\xb0', '\\xe4\\xbb\\xa4', '\\xe5\\x9b\\xa0', '\\xe4\\xbe\\xaf', '\\xe5\\x8f\\x94', '\\xe6\\x96\\x87', '\\xe6\\x9d\\x80', '\\xe4\\xbb\\xa5\\xe4\\xb8\\xba', '\\xe8\\xaf\\xb4']\n",
      "[48, '\\xe6\\xb0\\x91', '\\xe5\\x9b\\xbd', '\\xe5\\x88\\xa9', '\\xe5\\xaf\\x8c', '\\xe5\\x8a\\xa1', '\\xe4\\xb8\\x8a', '\\xe8\\xb4\\xa2', '\\xe7\\x99\\xbe\\xe5\\xa7\\x93', '\\xe4\\xb8\\x8d\\xe8\\xb6\\xb3', '\\xe9\\xa3\\x9f']\n",
      "[49, '\\xe7\\x94\\x9f', '\\xe5\\xa4\\xa9', '\\xe6\\x97\\xb6', '\\xe4\\xb9\\x8b\\xe6\\x97\\xb6', '\\xe5\\xb0\\xa7', '\\xe5\\x9c\\xa3', '\\xe5\\xa4\\x8d', '\\xe9\\xbe\\x99', '\\xe4\\xb8\\x80', '\\xe6\\xb0\\x94']\n",
      "[50, '\\xe4\\xbe\\xaf', '\\xe4\\xb8\\x8a', '\\xe5\\xb0\\x86\\xe5\\x86\\x9b', '\\xe5\\xa4\\xaa\\xe5\\x90\\x8e', '\\xe5\\xb0\\x81', '\\xe4\\xb8\\x9e\\xe7\\x9b\\xb8', '\\xe8\\xb5\\x90', '\\xe5\\xb8\\x9d', '\\xe8\\x8e\\xbd', '\\xe7\\xad\\x89']\n",
      "[51, '\\xe6\\x96\\xbc', '\\xe7\\x84\\xa1', '\\xe5\\xbf\\x83', '\\xe5\\xb0\\x87', '\\xe6\\x99\\x82', '\\xe4\\xb8\\x96', '\\xe8\\x80\\x8c\\xe4\\xb8\\x8d', '\\xe5\\x90\\x8d', '\\xe5\\x8f\\xaf', '\\xe7\\x8c\\xb6']\n",
      "[52, '\\xe4\\xb8\\x80', '\\xe8\\x87\\xa3', '\\xe4\\xbd\\x99', '\\xe7\\x9c\\xbe', '\\xe5\\xbf\\x97', '\\xe8\\xb3\\xa2', '\\xe8\\xb2\\x8c', '\\xe9\\xa2\\xa8', '\\xe6\\xa5\\x9a', '\\xe5\\xbf\\xa0']\n",
      "[53, '\\xe7\\x88\\xb5', '\\xe5\\x9d\\x90', '\\xe4\\xb8\\xbb\\xe4\\xba\\xba', '\\xe9\\x99\\x8d', '\\xe5\\xb0\\xb8', '\\xe6\\x8b\\x9c', '\\xe7\\xa5\\xad', '\\xe5\\xa5\\xa0', '\\xe5\\x85\\xb4', '\\xe4\\xbf\\x8e']\n",
      "[54, '\\xe6\\x98\\x9f', '\\xe6\\x97\\xa5', '\\xe5\\x87\\xba', '\\xe5\\xb2\\x81', '\\xe5\\xa4\\xa9', '\\xe5\\x9c\\xb0', '\\xe9\\x98\\xb4', '\\xe5\\x8d\\xa0', '\\xe8\\xbe\\xb0', '\\xe6\\x9c\\x88']\n",
      "[55, '\\xe7\\x82\\xba', '\\xe4\\xb8\\x80', '\\xe8\\x88\\x87', '\\xe5\\xb7\\xb1', '\\xe9\\x95\\xb7', '\\xe9\\x81\\xa0', '\\xe6\\xa8\\x82', '\\xe8\\xa1\\x8c', '\\xe5\\xa4\\xa9', '\\xe6\\x97\\xa5']\n",
      "[56, '\\xe9\\x83\\xa1', '\\xe7\\xbe\\x8c', '\\xe5\\x8d\\x97', '\\xe5\\xa4\\xb7', '\\xe5\\xaf\\x87', '\\xe4\\xba\\x8c', '\\xe5\\xa4\\x8d', '\\xe7\\xa7\\x8d', '\\xe5\\x9c\\xb0', '\\xe7\\xa0\\xb4']\n",
      "[57, '\\xe8\\xb1\\xa1', '\\xe5\\x90\\x89', '\\xe4\\xb8\\x8a', '\\xe8\\xb4\\x9e', '\\xe5\\x92\\x8e', '\\xe5\\x88\\xa9', '\\xe5\\x8d\\xa6', '\\xe5\\x87\\xb6', '\\xe5\\xbe\\x80', '\\xe7\\xbb\\x88']\n",
      "[58, '\\xe7\\x84\\xa1', '\\xe6\\x96\\xbc', '\\xe8\\x88\\x87', '\\xe8\\xac\\x82', '\\xe5\\xa4\\xa9\\xe4\\xb8\\x8b', '\\xe8\\xa6\\x8b', '\\xe8\\x87\\xa3', '\\xe4\\xba\\x8b', '\\xe5\\x95\\x8f', '\\xe8\\xb3\\xa2']\n",
      "[59, '\\xe9\\xbd\\x90', '\\xe6\\x99\\x8b', '\\xe9\\x81\\x82', '\\xe7\\xab\\x8b', '\\xe5\\x8d\\x92', '\\xe4\\xbc\\x90', '\\xe6\\x9d\\x80', '\\xe7\\x8e\\x8b', '\\xe5\\x85\\xac\\xe5\\xad\\x90', '\\xe5\\x9b\\xbd']\n",
      "[60, '\\xe6\\x96\\xbc', '\\xe5\\xbe\\x8c', '\\xe6\\x96\\x87', '\\xe4\\xb8\\x8d\\xe8\\x83\\xbd', '\\xe8\\x83\\xbd', '\\xe6\\xad\\xbb', '\\xe5\\xad\\x94\\xe5\\xad\\x90', '\\xe7\\x89\\xa9', '\\xe7\\xa5\\x9e', '\\xef\\xbc\\x9d']\n",
      "[61, '\\xe8\\x87\\xa3', '\\xe4\\xb8\\x8a', '\\xe9\\x81\\x82', '\\xe5\\xb0\\x86', '\\xe5\\x85\\xb5', '\\xe4\\xbd\\xbf', '\\xe7\\xab\\x8b', '\\xe8\\xaf\\x9b', '\\xe6\\x95\\xb0', '\\xe6\\xad\\xbb']\n",
      "[62, '\\xe4\\xb8\\xbb', '\\xe8\\x87\\xa3', '\\xe6\\xb3\\x95', '\\xe6\\xb2\\xbb', '\\xe6\\x98\\x8e', '\\xe4\\xb8\\x8a', '\\xe4\\xb8\\x8d\\xe8\\x83\\xbd', '\\xe8\\xa1\\x8c', '\\xe4\\xba\\x8b', '\\xe6\\x95\\x85\\xe6\\x9b\\xb0']\n",
      "[63, '\\xe6\\x98\\xa5\\xe7\\xa7\\x8b', '\\xe4\\xb9\\xa6', '\\xe5\\x88\\x97\\xe4\\xbc\\xa0', '\\xe4\\xba\\x8c', '\\xe7\\xac\\xac', '\\xe8\\xbf\\xb0', '\\xe6\\xb1\\x89', '\\xe5\\x8d\\x81\\xe5\\x85\\xab', '\\xe5\\xad\\x94\\xe5\\xad\\x90', '\\xe5\\x8d\\x81\\xe5\\x85\\xad']\n",
      "[64, '\\xe7\\x8e\\x8b', '\\xe5\\xa4\\xaa\\xe5\\xad\\x90', '\\xe5\\xbe\\x8c', '\\xe7\\xab\\x8b', '\\xe5\\xad\\x9d', '\\xe8\\xaf\\xb8\\xe4\\xbe\\xaf', '\\xe5\\xa4\\xa9\\xe5\\xad\\x90', '\\xe6\\xb1\\x89', '\\xe6\\xb7\\xae\\xe5\\x8d\\x97', '\\xe4\\xb8\\x8a']\n",
      "[65, '\\xe7\\xad\\x89', '\\xe5\\x8d\\x93', '\\xe4\\xbb\\xa4', '\\xe8\\xbe\\x9f', '\\xe7\\xbb\\x8d', '\\xe5\\xa4\\xaa\\xe5\\xae\\x88', '\\xe6\\x93\\x8d', '\\xe5\\xa4\\xaa\\xe5\\xb0\\x89', '\\xe5\\xa4\\xa9\\xe4\\xb8\\x8b', '\\xe5\\xb7\\x9e']\n",
      "[66, '\\xe6\\x8e\\x8c', '\\xe5\\xbe\\x92', '\\xe5\\x8f\\xb2', '\\xe7\\x8e\\x8b', '\\xe4\\xba\\x8c', '\\xe5\\x9b\\xbd', '\\xe4\\xb8\\x8b\\xe5\\xa3\\xab', '\\xe5\\xa6\\x82\\xe4\\xb9\\x8b', '\\xe8\\x83\\xa5', '\\xe5\\x85\\xb1']\n",
      "[67, '\\xe7\\xa4\\xbc', '\\xe5\\xad\\x90\\xe6\\x9b\\xb0', '\\xe4\\xba\\xb2', '\\xe4\\xb9\\x89', '\\xe8\\x80\\x85\\xe4\\xb9\\x9f', '\\xe6\\x95\\xac', '\\xe5\\xbc\\x97', '\\xe8\\xa1\\x8c', '\\xe7\\x94\\x9f', '\\xe5\\xad\\x9d']\n",
      "[68, '\\xe4\\xb8\\x80', '\\xe7\\x82\\xba', '\\xe4\\xba\\x8c', '\\xe4\\xb9\\x98', '\\xe5\\xaf\\xa6', '\\xe8\\xa1\\x93', '\\xe6\\x96\\x97', '\\xe8\\x8d\\x85', '\\xe5\\xb9\\xbe', '\\xe5\\x95\\x8f']\n",
      "[69, '\\xe4\\xb8\\x80', '\\xe4\\xbc\\xa0', '\\xe9\\x93\\x8e', '\\xe7\\xaf\\x87', '\\xe6\\xb1\\x89\\xe4\\xb9\\xa6', '\\xe4\\xba\\x8c', '\\xe6\\x8c\\x89', '\\xe5\\xb7\\xa6\\xe4\\xbc\\xa0', '\\xe7\\xba\\xaa', '\\xe5\\x90\\x8e']\n",
      "[70, '\\xe4\\xbe\\xaf', '\\xe9\\xbd\\x90', '\\xe4\\xbc\\x90', '\\xe5\\x8d\\xab', '\\xe5\\x86\\xac', '\\xe5\\xa4\\x8f', '\\xe4\\xbc\\xaf', '\\xe6\\x98\\xa5', '\\xe7\\xa7\\x8b', '\\xe5\\xb8\\x88']\n",
      "[71, '\\xe6\\xb8\\xb8', '\\xe4\\xb8\\x8d\\xe8\\x83\\xbd', '\\xe7\\xa5\\x9e', '\\xe5\\xbd\\xa2', '\\xe6\\x98\\xaf\\xe6\\x95\\x85', '\\xe9\\x80\\x9a', '\\xe7\\x9b\\xb8\\xe5\\xa6\\x82', '\\xe9\\x9d\\xa1', '\\xe5\\xbc\\x97', '\\xe7\\x89\\xa9']\n",
      "[72, '\\xe5\\xbe\\xb7', '\\xe8\\xb0\\x93\\xe4\\xb9\\x8b', '\\xe6\\x96\\x87', '\\xe5\\xbf\\x97', '\\xe4\\xb8\\x96', '\\xe6\\x9c\\x94', '\\xe5\\xa5\\xbd', '\\xe5\\xb9\\xb3', '\\xe5\\xbe\\xa1', '\\xe6\\x9c\\xac']\n",
      "[73, '\\xe6\\xb1\\x89', '\\xe7\\x8e\\x8b', '\\xe5\\x9b\\xbd', '\\xe5\\x8c\\x88\\xe5\\xa5\\xb4', '\\xe5\\xb8\\x88', '\\xe8\\xa5\\xbf', '\\xe6\\x8a\\xa4', '\\xe4\\xbd\\xbf', '\\xe9\\x83\\xbd', '\\xe5\\x85\\xb5']\n",
      "[74, '\\xe5\\xae\\xbe', '\\xe5\\xa4\\xa7\\xe5\\xa4\\xab', '\\xe5\\x8f\\x97', '\\xe4\\xb8\\xbb\\xe4\\xba\\xba', '\\xe5\\xb0\\x84', '\\xe4\\xb8\\x8a', '\\xe8\\xa5\\xbf', '\\xe9\\x98\\xb6', '\\xe5\\x8d\\x87', '\\xe6\\x8b\\x9c']\n",
      "[75, '\\xe6\\x8c\\x89', '\\xe5\\xad\\x97', '\\xe6\\x9c\\xac', '\\xe5\\xbc\\x95', '\\xe4\\xbc\\xa0', '\\xe8\\xaf\\xb4', '\\xe7\\xaf\\x87', '\\xe8\\xaf\\xb4\\xe6\\x96\\x87', '\\xe4\\xb8\\x80', '\\xe6\\x8d\\xae']\n",
      "[76, '\\xe5\\xa4\\xa9\\xe4\\xb8\\x8b', '\\xe8\\x83\\xbd', '\\xe6\\xb0\\x91', '\\xe4\\xba\\x8b', '\\xe5\\x8f\\xaf', '\\xe9\\x81\\x93', '\\xe4\\xb9\\x8b\\xe4\\xbb\\xa5', '\\xe8\\x80\\x8c\\xe4\\xb8\\x8d', '\\xe4\\xbb\\x81', '\\xe5\\x9c\\xa3']\n",
      "[77, '\\xe7\\x82\\xba', '\\xe4\\xba\\x8c', '\\xe6\\x96\\xbc', '\\xe6\\x99\\x89', '\\xe4\\xbe\\xaf', '\\xe5\\x9c\\x8b', '\\xe8\\xac\\x82', '\\xe8\\xab\\xb8', '\\xe5\\xb0\\x87', '\\xe6\\xa5\\x9a']\n",
      "[78, '\\xe5\\x92\\x8c', '\\xe5\\x88\\x98\\xe5\\x8b\\xb0', '\\xe5\\xad\\x97', '\\xe4\\xbd\\x9c\\xe5\\x93\\x81', '\\xe8\\xbf\\x99\\xe9\\x87\\x8c', '\\xe6\\x96\\x87\\xe5\\xad\\xa6', '\\xe7\\xad\\x89', '\\xe5\\xaf\\xb9', '1', '2']\n",
      "[79, '\\xe7\\x99\\xbd', '\\xe8\\xb5\\xa4', '\\xe4\\xb8\\x80', '\\xe9\\x95\\xbf', '\\xe8\\xbd\\xa6', '\\xe9\\xbb\\x91', '\\xe7\\x89\\x9b', '\\xe5\\x99\\xa8', '\\xe7\\x9b\\xb4', '\\xe5\\x8f\\x82']\n",
      "[80, '\\xe7\\x8e\\x8b', '\\xe6\\xb1\\x89', '\\xe6\\xa5\\x9a', '\\xe9\\xa1\\xb9', '\\xe5\\xb0\\x86', '\\xe9\\x99\\x88', '\\xe4\\xbd\\xbf', '\\xe6\\xb1\\x89\\xe7\\x8e\\x8b', '\\xe4\\xbf\\xa1', '\\xe6\\xb2\\x9b']\n",
      "[81, '\\xe9\\xbe\\x9f', '\\xe5\\x90\\x89', '\\xe5\\x8d\\x9c', '\\xe7\\x97\\x85', '\\xe5\\xbe\\x99', '\\xe5\\x87\\xb6', '\\xe5\\x90\\x89\\xe5\\x87\\xb6', '\\xe5\\xae\\x85', '\\xe5\\x85\\x86', '\\xe7\\xa5\\x9e']\n",
      "[82, '\\xe9\\x81\\x93', '\\xe7\\x94\\x9f', '\\xe5\\xbe\\xb7', '\\xe8\\x80\\x8c\\xe4\\xb8\\x8d', '\\xe4\\xb8\\x8d\\xe5\\x8f\\xaf', '\\xe8\\xa1\\x8c', '\\xe6\\x97\\xa5', '\\xe5\\xae\\x88', '\\xe8\\xa7\\x82', '\\xe5\\xbf\\x83']\n",
      "[83, '\\xe6\\xb0\\xa3', '\\xe6\\x96\\xbc', '\\xe7\\x97\\x85', '\\xe5\\xb8\\x9d', '\\xe7\\x82\\xba', '\\xe5\\xaf\\x92', '\\xe6\\xb2\\xbb', '\\xe4\\xb8\\x8a', '\\xe7\\xb6\\x93', '\\xe7\\x94\\x9f']\n",
      "[84, '\\xe5\\x89\\x87', '\\xe7\\x82\\xba', '\\xe5\\x9c\\x8b', '\\xe6\\xb0\\x91', '\\xe6\\xb2\\xbb', '\\xe4\\xbb\\xa4', '\\xe8\\xa1\\x8c', '\\xe4\\xb8\\x8a', '\\xe7\\xbe\\xa9', '\\xe5\\x8b\\x9d']\n",
      "[85, '\\xe5\\x8d\\x87', '\\xe6\\xb1\\xa4', '\\xe6\\x96\\xb9', '\\xe6\\x9c\\x8d', '\\xe4\\xb8\\xbb', '\\xe5\\x91\\xb3', '\\xe5\\x8f\\xb3', '\\xe5\\x8f\\x96', '\\xe7\\x85\\xae', '\\xe5\\x8e\\xbb']\n",
      "[86, '\\xe5\\xad\\x94\\xe5\\xad\\x90', '\\xe5\\xad\\x94', '\\xe9\\x97\\xbb', '\\xe5\\xad\\x90\\xe8\\xb4\\xa1', '\\xe5\\xa4\\xab\\xe5\\xad\\x90', '\\xe9\\xb2\\x81', '\\xe5\\xad\\x90\\xe8\\xb7\\xaf', '\\xe5\\xaf\\xb9\\xe6\\x9b\\xb0', '\\xe5\\xa3\\xab', '\\xe8\\xaf\\x97\\xe6\\x9b\\xb0']\n",
      "[87, '\\xe7\\xa7\\xa6', '\\xe6\\xa5\\x9a', '\\xe9\\xbd\\x90', '\\xe8\\xb5\\xb5', '\\xe9\\x9f\\xa9', '\\xe9\\xad\\x8f', '\\xe5\\xbe\\x8c', '\\xe7\\x87\\x95', '\\xe5\\xa4\\xa9\\xe4\\xb8\\x8b', '\\xe8\\x87\\xa3']\n",
      "[88, '\\xe6\\x97\\xb6', '\\xe5\\x90\\x8f', '\\xe9\\x83\\xa1', '\\xe9\\x97\\xbb', '\\xe5\\xa5\\x8f', '\\xe4\\xb8\\xbe', '\\xe6\\x95\\xb0', '\\xe5\\xae\\x9c', '\\xe4\\xba\\x8b', '\\xe4\\xbd\\xbf']\n",
      "[89, '\\xe5\\x91\\xa8', '\\xe7\\xab\\x8b', '\\xe6\\xae\\xb7', '\\xe5\\xb8\\x9d', '\\xe4\\xbc\\x90', '\\xe8\\xaf\\xb8\\xe4\\xbe\\xaf', '\\xe5\\xbe\\xb7', '\\xe7\\xba\\xa3', '\\xe5\\xa4\\x8f', '\\xe6\\xad\\xa6']\n",
      "[90, '\\xe9\\x81\\x82', '\\xe5\\xa5\\xb3', '\\xe6\\xad\\xbb', '\\xe4\\xbd\\xbf', '\\xe6\\xaf\\x8d', '\\xe5\\xa6\\xbe', '\\xe5\\x8f\\x8a', '\\xe5\\x8e\\xbb', '\\xe5\\xae\\xb6', '\\xe8\\xa7\\xa3']\n",
      "[91, '\\xe7\\xaf\\x87', '\\xe6\\x97\\xb6', '\\xe4\\xbc\\xa0', '\\xe4\\xb9\\xa6', '\\xe6\\x8c\\x87', '\\xe6\\xb1\\x89', '\\xe5\\x8d\\xb7', '\\xe8\\xaf\\xb4', '\\xe6\\xb1\\x89\\xe4\\xb9\\xa6', '\\xe5\\x85\\xb8']\n",
      "[92, '\\xe5\\xae\\x98', '\\xe7\\x9f\\xb3', '\\xe4\\xbb\\xa4', '\\xe4\\xb8\\xbb', '\\xe4\\xb8\\x9e', '\\xe6\\x9c\\xac', '\\xe4\\xba\\x8c', '\\xe9\\x95\\xbf', '\\xe6\\xaf\\x94', '\\xe5\\x8d\\x83\\xe7\\x9f\\xb3']\n",
      "[93, '\\xe6\\xa5\\x9a', '\\xe4\\xbd\\xbf', '\\xe6\\xb0\\x8f', '\\xe5\\x8d\\xab', '\\xe8\\xaf\\xb7', '\\xe4\\xbc\\x90', '\\xe5\\xad\\x99', '\\xe5\\xad\\x90\\xe6\\x9b\\xb0', '\\xe9\\x99\\x88', '\\xe5\\x91\\x8a']\n",
      "[94, '\\xe5\\x8d\\x81', '\\xe6\\x97\\xa5', '\\xe6\\x9c\\x88', '\\xe5\\xba\\xa6', '\\xe4\\xbd\\x99', '\\xe4\\xba\\x8c', '\\xe4\\xb8\\x80', '\\xe6\\xb3\\x95', '\\xe5\\x8e\\x86', '\\xe6\\x9c\\x94']\n",
      "[95, '\\xe6\\xb0\\x8f', '\\xe5\\xa7\\x93', '\\xe6\\x96\\x87', '\\xe7\\x94\\x9f', '\\xe5\\x91\\xa8', '\\xe5\\x8f\\x94', '\\xe5\\x8d\\x81', '\\xe8\\xb5\\xb5', '\\xe6\\x99\\x8b', '\\xe4\\xb8\\x96']\n",
      "[96, '\\xe7\\xa5\\xa0', '\\xe4\\xb8\\x8a', '\\xe6\\xb3\\xb0\\xe5\\xb1\\xb1', '\\xe5\\xb0\\x81', '\\xe5\\xa4\\xa9\\xe5\\xad\\x90', '\\xe9\\xbb\\x84\\xe5\\xb8\\x9d', '\\xe6\\xb3\\xb0', '\\xe4\\xb8\\x80', '\\xe5\\xb0\\x81\\xe7\\xa6\\x85', '\\xe7\\xa5\\x9e']\n",
      "[97, '\\xe8\\x87\\xa3', '\\xe7\\x8e\\x8b', '\\xe8\\xb4\\xa4', '\\xe4\\xb8\\xbb', '\\xe5\\x9b\\xbd', '\\xe4\\xb8\\x8d\\xe8\\x83\\xbd', '\\xe8\\xa1\\x8c', '\\xe6\\xad\\xbb', '\\xe5\\xa4\\xa9\\xe4\\xb8\\x8b', '\\xe4\\xbd\\xbf']\n",
      "[98, '\\xe4\\xba\\x8b', '\\xe5\\xa4\\xa7\\xe5\\xa4\\xab', '\\xe5\\x8f\\x8a', '\\xe9\\xa3\\x9f', '\\xe8\\xaf\\xb8\\xe4\\xbe\\xaf', '\\xe6\\xb2\\xbb', '\\xe6\\xb0\\x91', '\\xe7\\xa4\\xbc', '\\xe5\\xba\\x9c', '\\xe7\\xa5\\xad']\n",
      "[99, '\\xe6\\x97\\xb6', '\\xe6\\x95\\xb0', '\\xe5\\x8f\\x8a', '\\xe5\\xa4\\xa9\\xe4\\xb8\\x8b', '\\xe4\\xbb\\xa5\\xe4\\xb8\\xba', '\\xe4\\xba\\x8b', '\\xe9\\x97\\xbb', '\\xe7\\x94\\xb0', '\\xe5\\x87\\xba', '\\xe7\\x94\\x9f']\n"
     ]
    }
   ],
   "source": [
    "#生成表格 主题+前五个词\n",
    "for i in range(0,100):\n",
    "    x = 0\n",
    "    ww = []\n",
    "    wwa =[]\n",
    "    wwb = []\n",
    "    wwc = []\n",
    "    for a in v.topics():\n",
    "        if x == i:\n",
    "            for b in a: \n",
    "                ww.append(b)\n",
    "        x = x+1\n",
    "    \n",
    "    for a in ww[:10]:\n",
    "        wwa.append(a[0].encode('utf-8'))\n",
    "    printrow = [i]+wwa\n",
    "    print printrow\n",
    "    \n",
    "    \n",
    "        \n",
    "    with open('topic5words.csv','a+') as f:\n",
    "        f_csv = csv.writer(f)\n",
    "    #    f_csv.writerow(headers)\n",
    "        f_csv.writerow(printrow)"
   ]
  },
  {
   "cell_type": "code",
   "execution_count": 103,
   "metadata": {
    "collapsed": false,
    "scrolled": true
   },
   "outputs": [
    {
     "data": {
      "text/plain": [
       "[(0, 4, 0), (1, 5, 1), (2, 6, 2)]"
      ]
     },
     "execution_count": 103,
     "metadata": {},
     "output_type": "execute_result"
    }
   ],
   "source": [
    "v.topics()[2][:5][1][1]\n",
    "\n",
    "# v.topics()[主题数][按照重量排序词语排名][词语数][显示词语名字，或者重量]\n"
   ]
  },
  {
   "cell_type": "markdown",
   "metadata": {},
   "source": [
    "### Viewing Document-topic probabilities\n",
    "The above code shows the topic-word distributions and allows us to estimate the quality of our topics.\n",
    "\n",
    "#### `v.labels`\n",
    "The property `v.labels` (without parentheses) returns a list of all documents in a corpus, and is useful for processing each document generically, wihtout having to look up the identifiers on the file system.\n",
    "\n",
    "Below, we print the first 3 document labels:"
   ]
  },
  {
   "cell_type": "code",
   "execution_count": 91,
   "metadata": {
    "collapsed": false
   },
   "outputs": [
    {
     "name": "stdout",
     "output_type": "stream",
     "text": [
      "mirrorfunctions/兵家/司马法/仁本第一.txt\n",
      "mirrorfunctions/兵家/司马法/定爵第三.txt\n",
      "mirrorfunctions/兵家/司马法/天子之义第二.txt\n"
     ]
    }
   ],
   "source": [
    "for label in v.labels[:3]:\n",
    "    print label"
   ]
  },
  {
   "cell_type": "markdown",
   "metadata": {},
   "source": [
    "#### `v.doc_topics(doc_or_docs)`\n",
    "Each document-topic distribution can be examined with `v.doc_topics()`, which takes as its argument either a single label or a list of labels. Below we view the distribution for the first 3 documents."
   ]
  },
  {
   "cell_type": "code",
   "execution_count": 92,
   "metadata": {
    "collapsed": false
   },
   "outputs": [
    {
     "data": {
      "text/html": [
       "<table><tr><th style=\"text-align: center; background: #A9D0F5;            fontsize: 14px;\" colspan=\"6\"> Distributions over Topics </th></tr><tr><th style=\"text-align: center; background: #CEE3F6;\"                 colspan=\"2\">Doc: mirrorfunctions/兵家/司马法/仁本第一.txt</th><th style=\"text-align: center; background: #CEE3F6;\"                 colspan=\"2\">Doc: mirrorfunctions/兵家/司马法/定爵第三.txt</th><th style=\"text-align: center; background: #CEE3F6;\"                 colspan=\"2\">Doc: mirrorfunctions/兵家/司马法/天子之义第二.txt</th></tr><tr><th style=\"text-align: center; background: #EFF2FB;\">                        Topic</th><th style=\"text-align: center; background: #EFF2FB;\">                        Prob</th><th style=\"text-align: center; background: #EFF2FB;\">                        Topic</th><th style=\"text-align: center; background: #EFF2FB;\">                        Prob</th><th style=\"text-align: center; background: #EFF2FB;\">                        Topic</th><th style=\"text-align: center; background: #EFF2FB;\">                        Prob</th></tr><tr><td>11</td><td>0.40924</td><td>5</td><td>0.33396</td><td>11</td><td>0.21016</td></tr><tr><td>76</td><td>0.15721</td><td>62</td><td>0.20987</td><td>18</td><td>0.17393</td></tr><tr><td>5</td><td>0.12198</td><td>11</td><td>0.15330</td><td>4</td><td>0.14495</td></tr><tr><td>66</td><td>0.07049</td><td>4</td><td>0.07849</td><td>76</td><td>0.07792</td></tr><tr><td>89</td><td>0.05965</td><td>37</td><td>0.06936</td><td>89</td><td>0.06524</td></tr><tr><td>96</td><td>0.05694</td><td>67</td><td>0.06389</td><td>44</td><td>0.06524</td></tr><tr><td>97</td><td>0.04610</td><td>88</td><td>0.06024</td><td>48</td><td>0.06524</td></tr><tr><td>43</td><td>0.04068</td><td>47</td><td>0.02557</td><td>5</td><td>0.06161</td></tr><tr><td>37</td><td>0.03255</td><td>12</td><td>0.00367</td><td>95</td><td>0.03987</td></tr><tr><td>22</td><td>0.00274</td><td>46</td><td>0.00002</td><td>66</td><td>0.03082</td></tr></table>"
      ],
      "text/plain": [
       "[LabeledColumn([(11, 0.40924131870269775), (76, 0.15720871090888977),\n",
       "        (5, 0.12197835743427277), (66, 0.07048782706260681),\n",
       "        (89, 0.05964771658182144), (96, 0.05693768337368965),\n",
       "        (97, 0.04609757661819458), (43, 0.0406775176525116),\n",
       "        (37, 0.03254744037985802), (22, 0.0027371286414563656),\n",
       "        (62, 2.7106067136628553e-05), (34, 2.7100897568743676e-05),\n",
       "        (46, 2.7100897568743676e-05), (45, 2.7100897568743676e-05),\n",
       "        (57, 2.7100897568743676e-05), (58, 2.7100897568743676e-05),\n",
       "        (42, 2.7100897568743676e-05), (39, 2.7100897568743676e-05),\n",
       "        (38, 2.7100897568743676e-05), (59, 2.7100897568743676e-05),\n",
       "        (36, 2.7100897568743676e-05), (47, 2.7100897568743676e-05),\n",
       "        (99, 2.7100897568743676e-05), (33, 2.7100897568743676e-05),\n",
       "        (29, 2.7100897568743676e-05), (61, 2.7100897568743676e-05),\n",
       "        (26, 2.7100897568743676e-05), (24, 2.7100897568743676e-05),\n",
       "        (23, 2.7100897568743676e-05), (21, 2.7100897568743676e-05),\n",
       "        (18, 2.7100897568743676e-05), (14, 2.7100897568743676e-05),\n",
       "        (12, 2.7100897568743676e-05), (10, 2.7100897568743676e-05),\n",
       "        (9, 2.7100897568743676e-05), (7, 2.7100897568743676e-05),\n",
       "        (4, 2.7100897568743676e-05), (27, 2.7100897568743676e-05),\n",
       "        (49, 2.7100897568743676e-05), (0, 2.7100897568743676e-05),\n",
       "        (88, 2.7100897568743676e-05), (70, 2.7100897568743676e-05),\n",
       "        (92, 2.7100897568743676e-05), (69, 2.7100897568743676e-05),\n",
       "        (68, 2.7100897568743676e-05), (90, 2.7100897568743676e-05),\n",
       "        (93, 2.7100897568743676e-05), (72, 2.7100897568743676e-05),\n",
       "        (75, 2.7100897568743676e-05), (86, 2.7100897568743676e-05),\n",
       "        (81, 2.7100897568743676e-05), (65, 2.7100897568743676e-05),\n",
       "        (64, 2.7100897568743676e-05), (84, 2.7100897568743676e-05),\n",
       "        (41, 2.7100277293357067e-05), (87, 2.7100277293357067e-05),\n",
       "        (79, 2.7100277293357067e-05), (28, 2.7100277293357067e-05),\n",
       "        (82, 2.7100277293357067e-05), (94, 2.7100277293357067e-05),\n",
       "        (51, 2.7100277293357067e-05), (54, 2.7100277293357067e-05),\n",
       "        (8, 2.7100251827505417e-05), (19, 2.7100251827505417e-05),\n",
       "        (85, 2.7100251827505417e-05), (1, 2.7100251827505417e-05),\n",
       "        (20, 2.7100251827505417e-05), (2, 2.7100251827505417e-05),\n",
       "        (17, 2.7100251827505417e-05), (3, 2.7100251827505417e-05),\n",
       "        (6, 2.7100251827505417e-05), (16, 2.7100251827505417e-05),\n",
       "        (15, 2.7100251827505417e-05), (95, 2.7100251827505417e-05),\n",
       "        (13, 2.7100251827505417e-05), (91, 2.7100251827505417e-05),\n",
       "        (60, 2.7100251827505417e-05), (83, 2.7100251827505417e-05),\n",
       "        (71, 2.7100251827505417e-05), (56, 2.7100251827505417e-05),\n",
       "        (55, 2.7100251827505417e-05), (53, 2.7100251827505417e-05),\n",
       "        (52, 2.7100251827505417e-05), (50, 2.7100251827505417e-05),\n",
       "        (98, 2.7100251827505417e-05), (48, 2.7100251827505417e-05),\n",
       "        (67, 2.7100251827505417e-05), (44, 2.7100251827505417e-05),\n",
       "        (40, 2.7100251827505417e-05), (25, 2.7100251827505417e-05),\n",
       "        (73, 2.7100251827505417e-05), (74, 2.7100251827505417e-05),\n",
       "        (35, 2.7100251827505417e-05), (77, 2.7100251827505417e-05),\n",
       "        (78, 2.7100251827505417e-05), (32, 2.7100251827505417e-05),\n",
       "        (31, 2.7100251827505417e-05), (63, 2.7100251827505417e-05),\n",
       "        (80, 2.7100251827505417e-05), (30, 2.7100251827505417e-05)], \n",
       "       dtype=[('topic', '<i8'), ('value', '<f4')]),\n",
       " LabeledColumn([(5, 0.33395934104919434), (62, 0.20987194776535034),\n",
       "        (11, 0.15330268442630768), (4, 0.07848528027534485),\n",
       "        (37, 0.06936120986938477), (67, 0.06388676911592484),\n",
       "        (88, 0.060237135738134384), (47, 0.025565657764673233),\n",
       "        (12, 0.0036678779870271683), (46, 1.825204526539892e-05),\n",
       "        (24, 1.825204526539892e-05), (26, 1.825204526539892e-05),\n",
       "        (34, 1.825204526539892e-05), (55, 1.8248563719680533e-05),\n",
       "        (52, 1.8248563719680533e-05), (98, 1.8248563719680533e-05),\n",
       "        (39, 1.8248563719680533e-05), (45, 1.8248563719680533e-05),\n",
       "        (44, 1.8248563719680533e-05), (57, 1.8248563719680533e-05),\n",
       "        (43, 1.8248563719680533e-05), (41, 1.8248563719680533e-05),\n",
       "        (99, 1.8248563719680533e-05), (27, 1.8248563719680533e-05),\n",
       "        (35, 1.8248563719680533e-05), (29, 1.8248563719680533e-05),\n",
       "        (25, 1.8248563719680533e-05), (23, 1.8248563719680533e-05),\n",
       "        (22, 1.8248563719680533e-05), (21, 1.8248563719680533e-05),\n",
       "        (20, 1.8248563719680533e-05), (18, 1.8248563719680533e-05),\n",
       "        (10, 1.8248563719680533e-05), (8, 1.8248563719680533e-05),\n",
       "        (6, 1.8248563719680533e-05), (61, 1.8248563719680533e-05),\n",
       "        (49, 1.8248563719680533e-05), (85, 1.8248563719680533e-05),\n",
       "        (95, 1.8248563719680533e-05), (76, 1.8248563719680533e-05),\n",
       "        (73, 1.8248563719680533e-05), (72, 1.8248563719680533e-05),\n",
       "        (71, 1.8248563719680533e-05), (70, 1.8248563719680533e-05),\n",
       "        (91, 1.8248563719680533e-05), (79, 1.8248563719680533e-05),\n",
       "        (66, 1.8248563719680533e-05), (97, 1.8248563719680533e-05),\n",
       "        (64, 1.8248563719680533e-05), (84, 1.8248563719680533e-05),\n",
       "        (33, 1.824814717110712e-05), (14, 1.824814717110712e-05),\n",
       "        (36, 1.824814717110712e-05), (77, 1.824814717110712e-05),\n",
       "        (38, 1.824814717110712e-05), (32, 1.824814717110712e-05),\n",
       "        (19, 1.824814717110712e-05), (13, 1.824814717110712e-05),\n",
       "        (63, 1.824814717110712e-05), (42, 1.824814717110712e-05),\n",
       "        (48, 1.824814717110712e-05), (50, 1.824814717110712e-05),\n",
       "        (94, 1.824814717110712e-05), (2, 1.824814717110712e-05),\n",
       "        (16, 1.8248128981213085e-05), (1, 1.8248128981213085e-05),\n",
       "        (89, 1.8248128981213085e-05), (90, 1.8248128981213085e-05),\n",
       "        (17, 1.8248128981213085e-05), (87, 1.8248128981213085e-05),\n",
       "        (15, 1.8248128981213085e-05), (92, 1.8248128981213085e-05),\n",
       "        (96, 1.8248128981213085e-05), (7, 1.8248128981213085e-05),\n",
       "        (9, 1.8248128981213085e-05), (93, 1.8248128981213085e-05),\n",
       "        (3, 1.8248128981213085e-05), (31, 1.8248128981213085e-05),\n",
       "        (86, 1.8248128981213085e-05), (83, 1.8248128981213085e-05),\n",
       "        (60, 1.8248128981213085e-05), (59, 1.8248128981213085e-05),\n",
       "        (58, 1.8248128981213085e-05), (65, 1.8248128981213085e-05),\n",
       "        (56, 1.8248128981213085e-05), (54, 1.8248128981213085e-05),\n",
       "        (53, 1.8248128981213085e-05), (68, 1.8248128981213085e-05),\n",
       "        (51, 1.8248128981213085e-05), (69, 1.8248128981213085e-05),\n",
       "        (74, 1.8248128981213085e-05), (75, 1.8248128981213085e-05),\n",
       "        (40, 1.8248128981213085e-05), (78, 1.8248128981213085e-05),\n",
       "        (30, 1.8248128981213085e-05), (80, 1.8248128981213085e-05),\n",
       "        (28, 1.8248128981213085e-05), (81, 1.8248128981213085e-05),\n",
       "        (82, 1.8248128981213085e-05), (0, 1.8248128981213085e-05)], \n",
       "       dtype=[('topic', '<i8'), ('value', '<f4')]),\n",
       " LabeledColumn([(11, 0.21016275882720947), (18, 0.17393091320991516),\n",
       "        (4, 0.1449454426765442), (76, 0.07791655510663986),\n",
       "        (89, 0.06523542106151581), (44, 0.06523542106151581),\n",
       "        (48, 0.06523542106151581), (5, 0.06161223351955414),\n",
       "        (95, 0.0398731492459774), (66, 0.03081517294049263),\n",
       "        (30, 0.025380399078130722), (47, 0.019945627078413963),\n",
       "        (93, 0.016322443261742592), (9, 0.0018297075293958187),\n",
       "        (31, 1.8133607227355242e-05), (14, 1.81197865458671e-05),\n",
       "        (98, 1.81197865458671e-05), (67, 1.81197865458671e-05),\n",
       "        (72, 1.81197865458671e-05), (62, 1.81197865458671e-05),\n",
       "        (25, 1.81197865458671e-05), (79, 1.81197865458671e-05),\n",
       "        (49, 1.8116330466000363e-05), (63, 1.8116330466000363e-05),\n",
       "        (46, 1.8116330466000363e-05), (39, 1.8116330466000363e-05),\n",
       "        (8, 1.8116330466000363e-05), (22, 1.8116330466000363e-05),\n",
       "        (86, 1.8116330466000363e-05), (56, 1.8116330466000363e-05),\n",
       "        (97, 1.8116330466000363e-05), (59, 1.8116330466000363e-05),\n",
       "        (29, 1.8116330466000363e-05), (43, 1.8116330466000363e-05),\n",
       "        (24, 1.8116330466000363e-05), (61, 1.8116330466000363e-05),\n",
       "        (84, 1.8116330466000363e-05), (71, 1.8116330466000363e-05),\n",
       "        (75, 1.8116330466000363e-05), (74, 1.8116330466000363e-05),\n",
       "        (26, 1.8116330466000363e-05), (6, 1.8116330466000363e-05),\n",
       "        (65, 1.8116330466000363e-05), (94, 1.8116330466000363e-05),\n",
       "        (70, 1.8116330466000363e-05), (69, 1.8116330466000363e-05),\n",
       "        (27, 1.8116330466000363e-05), (82, 1.8116330466000363e-05),\n",
       "        (83, 1.8116330466000363e-05), (96, 1.8115915736416355e-05),\n",
       "        (35, 1.8115915736416355e-05), (19, 1.8115915736416355e-05),\n",
       "        (38, 1.8115915736416355e-05), (40, 1.8115915736416355e-05),\n",
       "        (32, 1.8115915736416355e-05), (78, 1.8115915736416355e-05),\n",
       "        (1, 1.8115915736416355e-05), (53, 1.8115915736416355e-05),\n",
       "        (12, 1.8115915736416355e-05), (58, 1.8115915736416355e-05),\n",
       "        (13, 1.8115915736416355e-05), (15, 1.8115915736416355e-05),\n",
       "        (51, 1.8115915736416355e-05), (50, 1.8115915736416355e-05),\n",
       "        (88, 1.8115915736416355e-05), (45, 1.8115915736416355e-05),\n",
       "        (20, 1.8115899365511723e-05), (16, 1.8115899365511723e-05),\n",
       "        (17, 1.8115899365511723e-05), (3, 1.8115899365511723e-05),\n",
       "        (2, 1.8115899365511723e-05), (23, 1.8115899365511723e-05),\n",
       "        (10, 1.8115899365511723e-05), (7, 1.8115899365511723e-05),\n",
       "        (21, 1.8115899365511723e-05), (99, 1.8115899365511723e-05),\n",
       "        (28, 1.8115899365511723e-05), (33, 1.8115899365511723e-05),\n",
       "        (92, 1.8115899365511723e-05), (91, 1.8115899365511723e-05),\n",
       "        (90, 1.8115899365511723e-05), (87, 1.8115899365511723e-05),\n",
       "        (85, 1.8115899365511723e-05), (81, 1.8115899365511723e-05),\n",
       "        (80, 1.8115899365511723e-05), (77, 1.8115899365511723e-05),\n",
       "        (73, 1.8115899365511723e-05), (68, 1.8115899365511723e-05),\n",
       "        (64, 1.8115899365511723e-05), (60, 1.8115899365511723e-05),\n",
       "        (57, 1.8115899365511723e-05), (55, 1.8115899365511723e-05),\n",
       "        (54, 1.8115899365511723e-05), (52, 1.8115899365511723e-05),\n",
       "        (42, 1.8115899365511723e-05), (41, 1.8115899365511723e-05),\n",
       "        (37, 1.8115899365511723e-05), (36, 1.8115899365511723e-05),\n",
       "        (34, 1.8115899365511723e-05), (0, 1.8115899365511723e-05)], \n",
       "       dtype=[('topic', '<i8'), ('value', '<f4')])]"
      ]
     },
     "execution_count": 92,
     "metadata": {},
     "output_type": "execute_result"
    }
   ],
   "source": [
    "v.doc_topics(v.labels[:3])"
   ]
  },
  {
   "cell_type": "markdown",
   "metadata": {},
   "source": [
    "#### `v.aggregate_doc_topics(doc_or_docs, normed_sum=False)`\n",
    "While `v.doc_topics(doc_or_docs)` shows the distribution for each document, `v.aggregate_doc_topics()` shows the average distribution of a collection of documents. The `normed` argument tells the program whether to weight each document by its length (`normed_sum=True`) or to consider them all equally (`normed_sum=False`)."
   ]
  },
  {
   "cell_type": "code",
   "execution_count": 98,
   "metadata": {
    "collapsed": false,
    "scrolled": true
   },
   "outputs": [
    {
     "data": {
      "text/html": [
       "<table style=\"margin: 0\"><tr><th style=\"text-align: center; background: #CEE3F6\" colspan                    =\"2\">Aggregate Distribution over Topics</th></tr><tr><th style=\"text-align: center; background: #EFF2FB; \">Topic                          </th><th style=\"text-align: center; background: #EFF2FB; \">Prob                          </th></tr><tr><td>84                                     </td><td>0.04758                                </td></tr><tr><td>58                                     </td><td>0.04413                                </td></tr><tr><td>37                                     </td><td>0.03669                                </td></tr><tr><td>76                                     </td><td>0.02921                                </td></tr><tr><td>11                                     </td><td>0.02427                                </td></tr><tr><td>85                                     </td><td>0.02150                                </td></tr><tr><td>62                                     </td><td>0.02054                                </td></tr><tr><td>14                                     </td><td>0.01834                                </td></tr><tr><td>22                                     </td><td>0.01717                                </td></tr><tr><td>67                                     </td><td>0.01665                                </td></tr></table>"
      ],
      "text/plain": [
       "LabeledColumn([(84, 0.04758273810148239), (58, 0.044132545590400696),\n",
       "       (37, 0.03668983653187752), (76, 0.029211299493908882),\n",
       "       (11, 0.024269381538033485), (85, 0.0215004775673151),\n",
       "       (62, 0.020538298413157463), (14, 0.018339315429329872),\n",
       "       (22, 0.017165938392281532), (67, 0.016652356833219528),\n",
       "       (48, 0.01645776815712452), (55, 0.01609382964670658),\n",
       "       (32, 0.015221375972032547), (78, 0.01521228812634945),\n",
       "       (18, 0.014924325048923492), (86, 0.01491307932883501),\n",
       "       (7, 0.013880801387131214), (77, 0.013219187036156654),\n",
       "       (88, 0.013021919876337051), (70, 0.012936982326209545),\n",
       "       (59, 0.0128931300714612), (15, 0.012889266945421696),\n",
       "       (20, 0.011940320953726768), (5, 0.011802580207586288),\n",
       "       (3, 0.011598208919167519), (97, 0.011414078064262867),\n",
       "       (61, 0.011190501973032951), (82, 0.011138036847114563),\n",
       "       (27, 0.010929044336080551), (19, 0.010912920348346233),\n",
       "       (42, 0.010506781749427319), (64, 0.01046350970864296),\n",
       "       (8, 0.010075794532895088), (99, 0.00980741623789072),\n",
       "       (68, 0.009746899828314781), (51, 0.00963314063847065),\n",
       "       (17, 0.009429131634533405), (50, 0.009388965554535389),\n",
       "       (44, 0.009153349325060844), (63, 0.009006679989397526),\n",
       "       (38, 0.008982675150036812), (93, 0.008806737139821053),\n",
       "       (6, 0.008798404596745968), (47, 0.008768482133746147),\n",
       "       (90, 0.008648794144392014), (13, 0.008623084984719753),\n",
       "       (45, 0.008581281639635563), (0, 0.00854035560041666),\n",
       "       (87, 0.008451610803604126), (98, 0.008256558328866959),\n",
       "       (74, 0.008093361742794514), (43, 0.00802464410662651),\n",
       "       (12, 0.007958506233990192), (49, 0.007863105274736881),\n",
       "       (53, 0.007817910984158516), (75, 0.0077111185528337955),\n",
       "       (36, 0.007507117465138435), (25, 0.0073712593875825405),\n",
       "       (33, 0.00723433680832386), (39, 0.007172286510467529),\n",
       "       (26, 0.007152920588850975), (4, 0.007138037588447332),\n",
       "       (65, 0.007125802803784609), (91, 0.007053626235574484),\n",
       "       (80, 0.00700575765222311), (89, 0.006806376855820417),\n",
       "       (24, 0.006740304175764322), (34, 0.006661111488938332),\n",
       "       (30, 0.006581971421837807), (1, 0.006446762476116419),\n",
       "       (40, 0.006324945017695427), (92, 0.006309040822088718),\n",
       "       (71, 0.005811174400150776), (9, 0.005784839391708374),\n",
       "       (56, 0.005718000698834658), (29, 0.005711485631763935),\n",
       "       (35, 0.005692628212273121), (16, 0.005431370344012976),\n",
       "       (46, 0.005323102697730064), (69, 0.005279242992401123),\n",
       "       (31, 0.004934318829327822), (54, 0.004917414393275976),\n",
       "       (21, 0.004796462599188089), (96, 0.0045433747582137585),\n",
       "       (79, 0.0044897571206092834), (23, 0.004478572867810726),\n",
       "       (94, 0.004385334439575672), (72, 0.004302702844142914),\n",
       "       (95, 0.004146851599216461), (60, 0.00412630895152688),\n",
       "       (10, 0.0041121020913124084), (66, 0.00394853251054883),\n",
       "       (28, 0.00368591514416039), (57, 0.003602418815717101),\n",
       "       (73, 0.0032854618038982153), (81, 0.0028108989354223013),\n",
       "       (52, 0.002583799883723259), (83, 0.002140066120773554),\n",
       "       (41, 0.0018660805653780699), (2, 0.0016499921912327409)], \n",
       "      dtype=[('i', '<i8'), ('value', '<f4')])"
      ]
     },
     "execution_count": 98,
     "metadata": {},
     "output_type": "execute_result"
    }
   ],
   "source": [
    "v.aggregate_doc_topics(v.labels[:], normed_sum=True)\n"
   ]
  },
  {
   "cell_type": "code",
   "execution_count": 109,
   "metadata": {
    "collapsed": false
   },
   "outputs": [],
   "source": [
    "#输出一个csv，第一列是主题数目，第二列是\n",
    "with open('eachtopicdweight.csv','a+') as f:\n",
    "    f_csv = csv.writer(f)\n",
    "#    f_csv.writerow(headers)\n",
    "    f_csv.writerows(v.aggregate_doc_topics(v.labels[:], normed_sum=True))\n",
    "    \n",
    "eachtopicweight = v.aggregate_doc_topics(v.labels[:], normed_sum=True)\n",
    "\n"
   ]
  },
  {
   "cell_type": "code",
   "execution_count": 112,
   "metadata": {
    "collapsed": false
   },
   "outputs": [],
   "source": [
    "import matplotlib.pyplot as plt\n",
    "\n",
    "plt.plot(eachtopicweight)\n",
    "plt.show()"
   ]
  },
  {
   "cell_type": "markdown",
   "metadata": {},
   "source": [
    "### Comparing documents with `v.dist()`\n",
    "\n",
    "Topic models give us a way to compare the siimilarity between two documents. To do this, we use `v.dist()`:"
   ]
  },
  {
   "cell_type": "code",
   "execution_count": 115,
   "metadata": {
    "collapsed": false
   },
   "outputs": [
    {
     "ename": "AttributeError",
     "evalue": "'LdaCgsViewer' object has no attribute 'lables'",
     "output_type": "error",
     "traceback": [
      "\u001b[1;31m---------------------------------------------------------------------------\u001b[0m",
      "\u001b[1;31mAttributeError\u001b[0m                            Traceback (most recent call last)",
      "\u001b[1;32m<ipython-input-115-fd40259082d6>\u001b[0m in \u001b[0;36m<module>\u001b[1;34m()\u001b[0m\n\u001b[0;32m      1\u001b[0m \u001b[0mv\u001b[0m\u001b[1;33m.\u001b[0m\u001b[0mdist\u001b[0m\u001b[1;33m(\u001b[0m\u001b[0mv\u001b[0m\u001b[1;33m.\u001b[0m\u001b[0mlabels\u001b[0m\u001b[1;33m[\u001b[0m\u001b[1;36m0\u001b[0m\u001b[1;33m]\u001b[0m\u001b[1;33m,\u001b[0m \u001b[0mv\u001b[0m\u001b[1;33m.\u001b[0m\u001b[0mlabels\u001b[0m\u001b[1;33m[\u001b[0m\u001b[1;36m1\u001b[0m\u001b[1;33m]\u001b[0m\u001b[1;33m)\u001b[0m\u001b[1;33m\u001b[0m\u001b[0m\n\u001b[0;32m      2\u001b[0m \u001b[0mv\u001b[0m\u001b[1;33m.\u001b[0m\u001b[0mlabels\u001b[0m\u001b[1;33m[\u001b[0m\u001b[1;36m0\u001b[0m\u001b[1;33m]\u001b[0m\u001b[1;33m\u001b[0m\u001b[0m\n\u001b[1;32m----> 3\u001b[1;33m \u001b[0mv\u001b[0m\u001b[1;33m.\u001b[0m\u001b[0mlables\u001b[0m\u001b[1;33m[\u001b[0m\u001b[1;34mu'mirrorfunctions/\\u5175\\u5bb6/\\u53f8\\u9a6c\\u6cd5/\\u4ec1\\u672c\\u7b2c\\u4e00.txt'\u001b[0m\u001b[1;33m]\u001b[0m\u001b[1;33m\u001b[0m\u001b[0m\n\u001b[0m",
      "\u001b[1;31mAttributeError\u001b[0m: 'LdaCgsViewer' object has no attribute 'lables'"
     ]
    }
   ],
   "source": [
    "v.dist(v.labels[0], v.labels[1])\n"
   ]
  },
  {
   "cell_type": "code",
   "execution_count": 119,
   "metadata": {
    "collapsed": false
   },
   "outputs": [],
   "source": [
    "\n"
   ]
  },
  {
   "cell_type": "markdown",
   "metadata": {},
   "source": [
    "#### Alternative distance measures\n",
    "By default, the Topic Explorer uses the Jensen-Shannon Distance to calculate the distance between documents. The Jensen-Shannon Distance (JSD) is a symmetric measure based on information theory that characterizes the difference between two probability distributions.\n",
    "\n",
    "However, several alternate methods are built into the `vsm.spatial` module. These include the Kullbeck-Liebler Divergence, which is an asymmetric component of the JSD and is used in [Murdock et al. (in review)](http://arxiv.org/abs/1509.07175) to characterize the cognitive surprise of a new text, given previous texts.\n",
    "\n",
    "Rather than using the JSD and assuming symmetric divergence between items, we assume that the second document is encountered after the first, effectively measuring text-to-text divergence."
   ]
  },
  {
   "cell_type": "code",
   "execution_count": null,
   "metadata": {
    "collapsed": false
   },
   "outputs": [],
   "source": [
    "# first import KL divergence:\n",
    "from vsm.spatial import KL_div\n",
    "\n",
    "# calculate KL divergence from the first document to the second\n",
    "print \"First to second\", v.dist(v.labels[0], v.labels[1], dist_fn=KL_div)\n",
    "\n",
    "# calculate KL divergence from the second document to the first, highlighting asymmetry:\n",
    "print \"Second to first\", v.dist(v.labels[1], v.labels[0], dist_fn=KL_div)"
   ]
  },
  {
   "cell_type": "markdown",
   "metadata": {},
   "source": [
    "# Using Python's Help System\n",
    "\n",
    "There are many other functions in the InPhO Topic Explorer and the associated `vsm` library. These are extensively documented within the code. \n",
    "\n",
    "One little-known feature about Python is its capacity for introspection: by using the `help()` method, one can find out all methods and properties of an object. For example, if one wanted to know what methods could be called on their corpus object, you could run:"
   ]
  },
  {
   "cell_type": "code",
   "execution_count": null,
   "metadata": {
    "collapsed": false
   },
   "outputs": [],
   "source": [
    "help(c)"
   ]
  },
  {
   "cell_type": "markdown",
   "metadata": {},
   "source": [
    "You can also get help on particular methods. For example, there are many arguments to `v.topics()` beyond `print_len`. These can be seen by calling `help(v.topics)` without parentheses after `v.topics`:"
   ]
  },
  {
   "cell_type": "code",
   "execution_count": null,
   "metadata": {
    "collapsed": false
   },
   "outputs": [],
   "source": [
    "help(v.topics)"
   ]
  },
  {
   "cell_type": "markdown",
   "metadata": {},
   "source": [
    "Calling `help(v.topics())` *with* parentheses will return help for the object reutrned by `v.topics()`, which is a `DataTable`:"
   ]
  },
  {
   "cell_type": "code",
   "execution_count": null,
   "metadata": {
    "collapsed": false
   },
   "outputs": [],
   "source": [
    "help(v.topics())"
   ]
  },
  {
   "cell_type": "markdown",
   "metadata": {},
   "source": [
    "It is important to emphasize that this functionality can be used with any python library, including the standard library. For example, one could look at all the functions included in the `math` library by using:"
   ]
  },
  {
   "cell_type": "code",
   "execution_count": null,
   "metadata": {
    "collapsed": false
   },
   "outputs": [],
   "source": [
    "import math\n",
    "help(math.log)"
   ]
  },
  {
   "cell_type": "markdown",
   "metadata": {},
   "source": [
    "# Additional Examples\n",
    "\n",
    "This notebook gives some basic building blocks for using the Topic Explorer. Additional examples can be found on GitHub in the [inpho/vsm-demo-notebooks repository](http://github.com/inpho/vsm-demo-notebooks).\n",
    "\n",
    "# Contact Information\n",
    "If you have additional questions regarding the InPhO Topic Explorer or have comments on this tutorial, please e-mail [tutorial@hypershelf.org](mailto:tutorial@hypershelf.org).\n"
   ]
  }
 ],
 "metadata": {
  "kernelspec": {
   "display_name": "Python [Root]",
   "language": "python",
   "name": "Python [Root]"
  },
  "language_info": {
   "codemirror_mode": {
    "name": "ipython",
    "version": 2
   },
   "file_extension": ".py",
   "mimetype": "text/x-python",
   "name": "python",
   "nbconvert_exporter": "python",
   "pygments_lexer": "ipython2",
   "version": "2.7.12"
  }
 },
 "nbformat": 4,
 "nbformat_minor": 0
}
