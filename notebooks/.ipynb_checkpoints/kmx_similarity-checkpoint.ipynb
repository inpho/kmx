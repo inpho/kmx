{
 "cells": [
  {
   "cell_type": "code",
   "execution_count": 1,
   "metadata": {
    "collapsed": false
   },
   "outputs": [
    {
     "name": "stdout",
     "output_type": "stream",
     "text": [
      "Running from notebook, using serial load function.\n",
      "[20, 40, 60, 80, 100]\n",
      "/home/inpho/inpho/kmx/models/kmx-freq5-freq5-N2523342-LDA-K{0}-document-4000.npz\n",
      "Loading LDA data from /home/inpho/inpho/kmx/models/kmx-freq5-freq5-N2523342-LDA-K20-document-4000.npz\n"
     ]
    }
   ],
   "source": [
    "# -*- coding:UTF-8 -*-\n",
    "\n",
    "    \n",
    "from corpus import *\n",
    "from vsm import *\n",
    "from vsm.spatial import KL_div\n",
    "import numpy as np\n",
    "\n",
    "\n",
    "k = topic_range[0]\n",
    "v = lda_v[k]\n",
    "c.words\n",
    "\n",
    "# train the model and create a TfViewer object\n",
    "tf = TF(c, context_type)\n",
    "tf.train()\n",
    "tf_v = TfViewer(c, tf)\n",
    "\n",
    "# print the most frequent terms in the document\n",
    "# remember that IPython automatically prints the last cell of a document\n",
    "tf_v.coll_freqs()\n",
    "\n",
    "\n",
    "\n",
    "\n",
    "#v.topics()\n",
    "\n",
    "#v.doc_topics(v.labels[:3])\n",
    "\n",
    "\n",
    "#v.dist(v.labels[0], v.labels[1])\n",
    "%matplotlib inline\n",
    "import matplotlib.pyplot as plt\n",
    "from numpy.random import randn\n",
    "import numpy as np\n",
    "import matplotlib.font_manager as fm\n",
    "myfont = fm.FontProperties(fname='/home/hongliang/Downloads/msyh.ttf/msyh.ttf')\n",
    "import sys\n",
    "reload(sys)\n",
    "kongzi = []\n",
    "mengzi = []\n",
    "xunzi =[]\n",
    "\n",
    "count = 0\n",
    "for label in v.labels[:]:\n",
    "    if '孟子' in label:\n",
    "        mengzi.append(count)\n",
    "    elif '论语' in label:\n",
    "        kongzi.append(count)\n",
    "    elif '荀子' in label:\n",
    "        xunzi.append(count)\n",
    "    count += 1\n",
    "\n"
   ]
  },
  {
   "cell_type": "code",
   "execution_count": 2,
   "metadata": {
    "collapsed": false
   },
   "outputs": [],
   "source": [
    "def similarity(c1,c2):\n",
    "    A = np.zeros((len(c1),len(c2)))\n",
    "    for m in range(len(c1)):\n",
    "        for n in range(len(c2)):\n",
    "            A[m][n]= v.dist(v.labels[c1[m]],v.labels[c2[n]]) \n",
    "    print \"while k quals\",k,',','JSD goes',np.mean(A)\n",
    "    return np.mean(A)\n",
    "\n",
    "def kl_similarity(c1,c2):\n",
    "    A = np.zeros((len(c1),len(c2)))\n",
    "    for m in range(len(c1)):\n",
    "        for n in range(len(c2)):\n",
    "            A[m][n]= v.dist(v.labels[c1[m]],v.labels[c2[n]], dist_fn=KL_div) \n",
    "    print \"while k quals\",k,',','first to second KLD goes',np.mean(A)\n",
    "    \n",
    "    B = np.zeros((len(c1),len(c2)))\n",
    "    for m in range(len(c1)):\n",
    "        for n in range(len(c2)):\n",
    "            B[m][n]= v.dist(v.labels[c2[n]],v.labels[c1[m]], dist_fn=KL_div) \n",
    "    print \"while k quals\",k,',','second to first KLD goes',np.mean(B)    \n",
    "    return np.mean(A),np.mean(B)\n",
    "\n",
    "def perplexity(theta, corpus, v):\n",
    "    a = (v.phi[corpus] * theta).sum(axis=1)\n",
    "    a = np.log2(a).sum()\n",
    "    return a / len(corpus)"
   ]
  },
  {
   "cell_type": "code",
   "execution_count": 3,
   "metadata": {
    "collapsed": false,
    "scrolled": true
   },
   "outputs": [],
   "source": [
    "corpus = v.corpus.corpus\n",
    "d_value = dict([])\n",
    "for i in range(5):\n",
    "    k = topic_range[i]\n",
    "    v = lda_v[k]\n",
    "    theta = v.aggregate_doc_topics(all_ids)\n",
    "    theta = theta[np.argsort(theta['i'])]\n",
    "    theta = np.array(theta['value'])\n",
    "    P = perplexity(theta, corpus, v)\n",
    "    d_value[str(k)] = []\n",
    "    print 'kongzi mengzi JSD'\n",
    "    d_value[str(k)].append(similarity(kongzi,mengzi))\n",
    "    print 'kongzi xunzi JSD'\n",
    "    d_value[str(k)].append(similarity(kongzi,xunzi))\n",
    "    print 'xunzi mengzi JSD'\n",
    "    d_value[str(k)].append(similarity(xunzi,mengzi))\n",
    "    print 'kongzi mengzi KLD'\n",
    "    d_value[str(k)].append(kl_similarity(kongzi,mengzi)[0])\n",
    "    d_value[str(k)].append(kl_similarity(kongzi,mengzi)[1])\n",
    "    print 'kongzi xunzi KLD'\n",
    "    d_value[str(k)].append(kl_similarity(kongzi,xunzi)[0])\n",
    "    d_value[str(k)].append(kl_similarity(kongzi,xunzi)[1])\n",
    "    print 'xunzi mengzi KLD'\n",
    "    d_value[str(k)].append(kl_similarity(xunzi,mengzi)[0])\n",
    "    d_value[str(k)].append(kl_similarity(xunzi,mengzi)[1])\n",
    "    d_value[str(k)].append(P)\n",
    "    \n"
   ]
  },
  {
   "cell_type": "code",
   "execution_count": 4,
   "metadata": {
    "collapsed": true
   },
   "outputs": [],
   "source": [
    "print d_value"
   ]
  },
  {
   "cell_type": "code",
   "execution_count": 5,
   "metadata": {
    "collapsed": true
   },
   "outputs": [],
   "source": [
    "topicname = []\n",
    "topicname.append('kongzi mengzi JSD')\n",
    "topicname.append('kongzi xunzi JSD')\n",
    "topicname.append ('xunzi mengzi JSD')\n",
    "topicname.append('kongzi mengzi KLD')\n",
    "topicname.append('mengzi kongzi KLD')\n",
    "topicname.append('kongzi xunzi KLD')\n",
    "topicname.append('xunzi kongzi KLD')\n",
    "topicname.append('xunzi mengzi KLD')\n",
    "topicname.append('mengzi xunzi KLD')\n",
    "topicname.append('perplexity')"
   ]
  },
  {
   "cell_type": "code",
   "execution_count": 6,
   "metadata": {
    "collapsed": false
   },
   "outputs": [
    {
     "data": {
      "text/html": [
       "<div>\n",
       "<style>\n",
       "    .dataframe thead tr:only-child th {\n",
       "        text-align: right;\n",
       "    }\n",
       "\n",
       "    .dataframe thead th {\n",
       "        text-align: left;\n",
       "    }\n",
       "\n",
       "    .dataframe tbody tr th {\n",
       "        vertical-align: top;\n",
       "    }\n",
       "</style>\n",
       "<table border=\"1\" class=\"dataframe\">\n",
       "  <thead>\n",
       "    <tr style=\"text-align: right;\">\n",
       "      <th></th>\n",
       "      <th>name</th>\n",
       "      <th>20</th>\n",
       "      <th>40</th>\n",
       "      <th>60</th>\n",
       "      <th>80</th>\n",
       "      <th>100</th>\n",
       "    </tr>\n",
       "  </thead>\n",
       "  <tbody>\n",
       "    <tr>\n",
       "      <th>0</th>\n",
       "      <td>kongzi mengzi JSD</td>\n",
       "      <td>0.531647</td>\n",
       "      <td>0.646536</td>\n",
       "      <td>0.749249</td>\n",
       "      <td>0.798417</td>\n",
       "      <td>0.799113</td>\n",
       "    </tr>\n",
       "    <tr>\n",
       "      <th>1</th>\n",
       "      <td>kongzi xunzi JSD</td>\n",
       "      <td>0.638123</td>\n",
       "      <td>0.773123</td>\n",
       "      <td>0.778506</td>\n",
       "      <td>0.821801</td>\n",
       "      <td>0.855866</td>\n",
       "    </tr>\n",
       "    <tr>\n",
       "      <th>2</th>\n",
       "      <td>xunzi mengzi JSD</td>\n",
       "      <td>0.590297</td>\n",
       "      <td>0.738896</td>\n",
       "      <td>0.783387</td>\n",
       "      <td>0.823514</td>\n",
       "      <td>0.861157</td>\n",
       "    </tr>\n",
       "    <tr>\n",
       "      <th>3</th>\n",
       "      <td>kongzi mengzi KLD</td>\n",
       "      <td>1.898378</td>\n",
       "      <td>3.747505</td>\n",
       "      <td>5.750826</td>\n",
       "      <td>7.590320</td>\n",
       "      <td>6.410788</td>\n",
       "    </tr>\n",
       "    <tr>\n",
       "      <th>4</th>\n",
       "      <td>mengzi kongzi KLD</td>\n",
       "      <td>4.346204</td>\n",
       "      <td>5.882206</td>\n",
       "      <td>7.213173</td>\n",
       "      <td>7.609258</td>\n",
       "      <td>8.250464</td>\n",
       "    </tr>\n",
       "    <tr>\n",
       "      <th>5</th>\n",
       "      <td>kongzi xunzi KLD</td>\n",
       "      <td>3.754624</td>\n",
       "      <td>6.622456</td>\n",
       "      <td>8.445679</td>\n",
       "      <td>8.898572</td>\n",
       "      <td>9.687711</td>\n",
       "    </tr>\n",
       "    <tr>\n",
       "      <th>6</th>\n",
       "      <td>xunzi kongzi KLD</td>\n",
       "      <td>5.363070</td>\n",
       "      <td>7.998917</td>\n",
       "      <td>6.991168</td>\n",
       "      <td>8.471340</td>\n",
       "      <td>9.142293</td>\n",
       "    </tr>\n",
       "    <tr>\n",
       "      <th>7</th>\n",
       "      <td>xunzi mengzi KLD</td>\n",
       "      <td>2.957886</td>\n",
       "      <td>7.193496</td>\n",
       "      <td>8.448962</td>\n",
       "      <td>8.711570</td>\n",
       "      <td>9.839053</td>\n",
       "    </tr>\n",
       "    <tr>\n",
       "      <th>8</th>\n",
       "      <td>mengzi xunzi KLD</td>\n",
       "      <td>4.527284</td>\n",
       "      <td>6.728929</td>\n",
       "      <td>7.830868</td>\n",
       "      <td>9.091030</td>\n",
       "      <td>9.692577</td>\n",
       "    </tr>\n",
       "    <tr>\n",
       "      <th>9</th>\n",
       "      <td>perplexity</td>\n",
       "      <td>-10.309543</td>\n",
       "      <td>-10.309554</td>\n",
       "      <td>-10.309572</td>\n",
       "      <td>-10.309586</td>\n",
       "      <td>-10.309568</td>\n",
       "    </tr>\n",
       "  </tbody>\n",
       "</table>\n",
       "</div>"
      ],
      "text/plain": [
       "                name         20         40         60         80        100\n",
       "0  kongzi mengzi JSD   0.531647   0.646536   0.749249   0.798417   0.799113\n",
       "1   kongzi xunzi JSD   0.638123   0.773123   0.778506   0.821801   0.855866\n",
       "2   xunzi mengzi JSD   0.590297   0.738896   0.783387   0.823514   0.861157\n",
       "3  kongzi mengzi KLD   1.898378   3.747505   5.750826   7.590320   6.410788\n",
       "4  mengzi kongzi KLD   4.346204   5.882206   7.213173   7.609258   8.250464\n",
       "5   kongzi xunzi KLD   3.754624   6.622456   8.445679   8.898572   9.687711\n",
       "6   xunzi kongzi KLD   5.363070   7.998917   6.991168   8.471340   9.142293\n",
       "7   xunzi mengzi KLD   2.957886   7.193496   8.448962   8.711570   9.839053\n",
       "8   mengzi xunzi KLD   4.527284   6.728929   7.830868   9.091030   9.692577\n",
       "9         perplexity -10.309543 -10.309554 -10.309572 -10.309586 -10.309568"
      ]
     },
     "execution_count": 6,
     "metadata": {},
     "output_type": "execute_result"
    }
   ],
   "source": [
    "from pandas import Series,DataFrame\n",
    "import pandas as pd\n",
    "#data = {\"Topics\":top10topics[:10], \"Corpus Weight\":top10topicsweight[:10], \"Topic Name\":[,,,,,,,,,],\"Topic Keywords in Descending Order of Weight\":chunks(word,10)} \n",
    "\n",
    "data3 = {\"name\":topicname,\"20\":d_value['20'],\"40\":d_value['40'],\"60\":d_value['60'],\"80\":d_value['80'],\"100\":d_value['100'],}\n",
    "f3 = DataFrame(data3,columns=['name','20','40','60','80','100'])\n",
    "f3"
   ]
  },
  {
   "cell_type": "markdown",
   "metadata": {},
   "source": [
    "## my method"
   ]
  },
  {
   "cell_type": "code",
   "execution_count": null,
   "metadata": {
    "collapsed": true
   },
   "outputs": [],
   "source": [
    "# from corpus import *\n",
    "# import numpy as np\n",
    "\n",
    "# def perplexity(theta, corpus, v):\n",
    "#    a = (v.phi[corpus] * theta).sum(axis=1)\n",
    "#    a = np.log2(a).sum()\n",
    "#    return a / len(corpus)\n",
    "\n",
    "# v = lda_v[80]\n",
    "# theta = v.aggregate_doc_topics(all_ids)\n",
    "# TMP = []\n",
    "# for a in theta:\n",
    "#    TMP.append(a[1]) \n",
    "# theta = np.array(TMP)\n",
    "# print theta\n",
    "# corpus = v.corpus.corpus\n",
    "# P = perplexity(theta, corpus, v)\n",
    "# print P"
   ]
  },
  {
   "cell_type": "markdown",
   "metadata": {},
   "source": [
    "## each to whole"
   ]
  },
  {
   "cell_type": "code",
   "execution_count": null,
   "metadata": {
    "collapsed": false
   },
   "outputs": [],
   "source": [
    "# def perplexity(theta, corpus, v):\n",
    "#     a = (v.phi[corpus] * theta).sum(axis=1)\n",
    "#     a = np.log2(a).sum()\n",
    "#     return a / len(corpus)\n",
    "\n",
    "# v = lda_v[80]    \n",
    "# perplexity_num = []\n",
    "# theta_all = []\n",
    "# documents = v.corpus.view_contexts('document')\n",
    "# for doc_id,corpus in zip(all_ids,documents):\n",
    "#     theta = v.doc_topic_matrix(doc_id)\n",
    "#     print theta\n",
    "#     theta_all.append(theta)\n",
    "#     perplexity_num.append(perplexity(theta,corpus,v))\n",
    "# perplexity_num = np.array(perplexity_num)\n",
    "# theta_all = np.array(theta_all)\n",
    "# print 'each document way',np.mean(perplexity_num)\n"
   ]
  },
  {
   "cell_type": "markdown",
   "metadata": {},
   "source": [
    "### Jaimie's Final method"
   ]
  },
  {
   "cell_type": "code",
   "execution_count": null,
   "metadata": {
    "collapsed": true
   },
   "outputs": [],
   "source": [
    "# from corpus import *\n",
    "# import numpy as np\n",
    "\n",
    "# def perplexity(theta, corpus, v):\n",
    "#     a = (v.phi[corpus] * theta).sum(axis=1)\n",
    "#     a = np.log2(a).sum()\n",
    "#     return a / len(corpus)\n",
    "\n",
    "# v = lda_v[80]\n",
    "# corpus = v.corpus.corpus\n",
    "\n",
    "# # v.aggregate_doc_topics returns an ndarray instead of just values.\n",
    "# theta = v.aggregate_doc_topics(all_ids)\n",
    "# print 'theta 1 step',theta\n",
    "# theta = theta[np.argsort(theta['i'])]\n",
    "# print 'theat2 step',theta\n",
    "# theta = np.array(theta['value'])\n",
    "# print 'theta3 step',theta\n",
    "\n",
    "# P = perplexity(theta, corpus, v)\n",
    "# print 'whole corpus',P\n"
   ]
  },
  {
   "cell_type": "code",
   "execution_count": null,
   "metadata": {
    "collapsed": true
   },
   "outputs": [],
   "source": []
  },
  {
   "cell_type": "code",
   "execution_count": null,
   "metadata": {
    "collapsed": true
   },
   "outputs": [],
   "source": []
  },
  {
   "cell_type": "code",
   "execution_count": null,
   "metadata": {
    "collapsed": true
   },
   "outputs": [],
   "source": []
  }
 ],
 "metadata": {
  "anaconda-cloud": {},
  "kernelspec": {
   "display_name": "Python [conda root]",
   "language": "python",
   "name": "conda-root-py"
  },
  "language_info": {
   "codemirror_mode": {
    "name": "ipython",
    "version": 2
   },
   "file_extension": ".py",
   "mimetype": "text/x-python",
   "name": "python",
   "nbconvert_exporter": "python",
   "pygments_lexer": "ipython2",
   "version": "2.7.12"
  }
 },
 "nbformat": 4,
 "nbformat_minor": 1
}
