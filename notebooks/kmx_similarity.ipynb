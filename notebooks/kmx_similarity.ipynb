{
 "cells": [
  {
   "cell_type": "code",
   "execution_count": 3,
   "metadata": {},
   "outputs": [],
   "source": [
    "# -*- coding:UTF-8 -*-\n",
    "\n",
    "\n",
    "from corpus import *\n",
    "from vsm import *\n",
    "from vsm.spatial import KL_div\n",
    "import numpy as np\n",
    "\n",
    "\n",
    "k = topic_range[0]\n",
    "v = lda_v[k]\n",
    "c.words\n",
    "\n",
    "# train the model and create a TfViewer object\n",
    "tf = TF(c, context_type)\n",
    "tf.train()\n",
    "tf_v = TfViewer(c, tf)\n",
    "\n",
    "# print the most frequent terms in the document\n",
    "# remember that IPython automatically prints the last cell of a document\n",
    "tf_v.coll_freqs()\n",
    "\n",
    "\n",
    "\n",
    "\n",
    "#v.topics()\n",
    "\n",
    "#v.doc_topics(v.labels[:3])\n",
    "\n",
    "\n",
    "#v.dist(v.labels[0], v.labels[1])\n",
    "%matplotlib inline\n",
    "import matplotlib.pyplot as plt\n",
    "from numpy.random import randn\n",
    "import numpy as np\n",
    "import matplotlib.font_manager as fm\n",
    "myfont = fm.FontProperties(fname='/home/hongliang/Downloads/msyh.ttf/msyh.ttf')\n",
    "import sys\n",
    "reload(sys)\n",
    "kongzi = []\n",
    "mengzi = []\n",
    "xunzi =[]\n",
    "\n",
    "count = 0\n",
    "for label in v.labels[:]:\n",
    "    if '孟子'.decode('utf-8') in label:\n",
    "        mengzi.append(count)\n",
    "    elif '论语'.decode('utf-8') in label:\n",
    "        kongzi.append(count)\n",
    "    elif '荀子'.decode('utf-8') in label:\n",
    "        xunzi.append(count)\n",
    "    count += 1\n",
    "\n"
   ]
  },
  {
   "cell_type": "code",
   "execution_count": 4,
   "metadata": {},
   "outputs": [],
   "source": [
    "def similarity(c1,c2):\n",
    "    A = np.zeros((len(c1),len(c2)))\n",
    "    for m in range(len(c1)):\n",
    "        for n in range(len(c2)):\n",
    "            A[m][n]= v.dist(v.labels[c1[m]],v.labels[c2[n]]) \n",
    "    print \"while k quals\",k,',','JSD goes',np.mean(A)\n",
    "    return np.mean(A)\n",
    "\n",
    "def kl_similarity(c1,c2):\n",
    "    A = np.zeros((len(c1),len(c2)))\n",
    "    for m in range(len(c1)):\n",
    "        for n in range(len(c2)):\n",
    "            A[m][n]= v.dist(v.labels[c1[m]],v.labels[c2[n]], dist_fn=KL_div) \n",
    "    print \"while k quals\",k,',','first to second KLD goes',np.mean(A)\n",
    "    \n",
    "    B = np.zeros((len(c1),len(c2)))\n",
    "    for m in range(len(c1)):\n",
    "        for n in range(len(c2)):\n",
    "            B[m][n]= v.dist(v.labels[c2[n]],v.labels[c1[m]], dist_fn=KL_div) \n",
    "    print \"while k quals\",k,',','second to first KLD goes',np.mean(B)    \n",
    "    return np.mean(A),np.mean(B)\n",
    "\n",
    "def perplexity(theta, corpus, v):\n",
    "    a = (v.phi[corpus] * theta).sum(axis=1)\n",
    "    a = np.log2(a).sum()\n",
    "    return a / len(corpus)"
   ]
  },
  {
   "cell_type": "code",
   "execution_count": 5,
   "metadata": {},
   "outputs": [],
   "source": [
    "# from vsm import viewer\n",
    "# corpus = v.corpus.corpus\n",
    "# model = v.model.model\n",
    "# viewer.ldacgsviewer.LdaCgsViewer(corps,model)"
   ]
  },
  {
   "cell_type": "code",
   "execution_count": 6,
   "metadata": {
    "scrolled": true
   },
   "outputs": [],
   "source": [
    "corpus = v.corpus.corpus\n",
    "d_value = dict([])\n",
    "for i in range(4):\n",
    "    k = topic_range[i]\n",
    "    v = lda_v[k]\n",
    "    theta = v.aggregate_doc_topics(all_ids)\n",
    "    theta = theta[np.argsort(theta['i'])]\n",
    "    theta = np.array(theta['value'])\n",
    "    P = perplexity(theta, corpus, v)\n",
    "    d_value[str(k)] = []\n",
    "    print 'kongzi mengzi JSD'\n",
    "    d_value[str(k)].append(similarity(kongzi,mengzi))\n",
    "    print 'kongzi xunzi JSD'\n",
    "    d_value[str(k)].append(similarity(kongzi,xunzi))\n",
    "    print 'xunzi mengzi JSD'\n",
    "    d_value[str(k)].append(similarity(xunzi,mengzi))\n",
    "    print 'kongzi mengzi KLD'\n",
    "    d_value[str(k)].append(kl_similarity(kongzi,mengzi)[0])\n",
    "    d_value[str(k)].append(kl_similarity(kongzi,mengzi)[1])\n",
    "    print 'kongzi xunzi KLD'\n",
    "    d_value[str(k)].append(kl_similarity(kongzi,xunzi)[0])\n",
    "    d_value[str(k)].append(kl_similarity(kongzi,xunzi)[1])\n",
    "    print 'xunzi mengzi KLD'\n",
    "    d_value[str(k)].append(kl_similarity(xunzi,mengzi)[0])\n",
    "    d_value[str(k)].append(kl_similarity(xunzi,mengzi)[1])\n",
    "    d_value[str(k)].append(P)\n",
    "    \n"
   ]
  },
  {
   "cell_type": "code",
   "execution_count": 7,
   "metadata": {},
   "outputs": [],
   "source": [
    "print d_value"
   ]
  },
  {
   "cell_type": "code",
   "execution_count": 8,
   "metadata": {},
   "outputs": [],
   "source": [
    "topicname = []\n",
    "topicname.append('kongzi mengzi JSD')\n",
    "topicname.append('kongzi xunzi JSD')\n",
    "topicname.append ('xunzi mengzi JSD')\n",
    "topicname.append('kongzi mengzi KLD')\n",
    "topicname.append('mengzi kongzi KLD')\n",
    "topicname.append('kongzi xunzi KLD')\n",
    "topicname.append('xunzi kongzi KLD')\n",
    "topicname.append('xunzi mengzi KLD')\n",
    "topicname.append('mengzi xunzi KLD')\n",
    "topicname.append('perplexity')"
   ]
  },
  {
   "cell_type": "code",
   "execution_count": 9,
   "metadata": {},
   "outputs": [
    {
     "data": {
      "text/html": [
       "<div>\n",
       "<style scoped>\n",
       "    .dataframe tbody tr th:only-of-type {\n",
       "        vertical-align: middle;\n",
       "    }\n",
       "\n",
       "    .dataframe tbody tr th {\n",
       "        vertical-align: top;\n",
       "    }\n",
       "\n",
       "    .dataframe thead th {\n",
       "        text-align: right;\n",
       "    }\n",
       "</style>\n",
       "<table border=\"1\" class=\"dataframe\">\n",
       "  <thead>\n",
       "    <tr style=\"text-align: right;\">\n",
       "      <th></th>\n",
       "      <th>name</th>\n",
       "      <th>20</th>\n",
       "      <th>40</th>\n",
       "      <th>60</th>\n",
       "      <th>80</th>\n",
       "    </tr>\n",
       "  </thead>\n",
       "  <tbody>\n",
       "    <tr>\n",
       "      <th>0</th>\n",
       "      <td>kongzi mengzi JSD</td>\n",
       "      <td>0.531647</td>\n",
       "      <td>0.646536</td>\n",
       "      <td>0.749249</td>\n",
       "      <td>0.798417</td>\n",
       "    </tr>\n",
       "    <tr>\n",
       "      <th>1</th>\n",
       "      <td>kongzi xunzi JSD</td>\n",
       "      <td>0.638123</td>\n",
       "      <td>0.773123</td>\n",
       "      <td>0.778506</td>\n",
       "      <td>0.821801</td>\n",
       "    </tr>\n",
       "    <tr>\n",
       "      <th>2</th>\n",
       "      <td>xunzi mengzi JSD</td>\n",
       "      <td>0.590297</td>\n",
       "      <td>0.738896</td>\n",
       "      <td>0.783387</td>\n",
       "      <td>0.823514</td>\n",
       "    </tr>\n",
       "    <tr>\n",
       "      <th>3</th>\n",
       "      <td>kongzi mengzi KLD</td>\n",
       "      <td>1.898378</td>\n",
       "      <td>3.747505</td>\n",
       "      <td>5.750826</td>\n",
       "      <td>7.590320</td>\n",
       "    </tr>\n",
       "    <tr>\n",
       "      <th>4</th>\n",
       "      <td>mengzi kongzi KLD</td>\n",
       "      <td>4.346204</td>\n",
       "      <td>5.882206</td>\n",
       "      <td>7.213173</td>\n",
       "      <td>7.609258</td>\n",
       "    </tr>\n",
       "    <tr>\n",
       "      <th>5</th>\n",
       "      <td>kongzi xunzi KLD</td>\n",
       "      <td>3.754624</td>\n",
       "      <td>6.622456</td>\n",
       "      <td>8.445679</td>\n",
       "      <td>8.898572</td>\n",
       "    </tr>\n",
       "    <tr>\n",
       "      <th>6</th>\n",
       "      <td>xunzi kongzi KLD</td>\n",
       "      <td>5.363070</td>\n",
       "      <td>7.998917</td>\n",
       "      <td>6.991168</td>\n",
       "      <td>8.471340</td>\n",
       "    </tr>\n",
       "    <tr>\n",
       "      <th>7</th>\n",
       "      <td>xunzi mengzi KLD</td>\n",
       "      <td>2.957886</td>\n",
       "      <td>7.193496</td>\n",
       "      <td>8.448962</td>\n",
       "      <td>8.711570</td>\n",
       "    </tr>\n",
       "    <tr>\n",
       "      <th>8</th>\n",
       "      <td>mengzi xunzi KLD</td>\n",
       "      <td>4.527284</td>\n",
       "      <td>6.728929</td>\n",
       "      <td>7.830868</td>\n",
       "      <td>9.091030</td>\n",
       "    </tr>\n",
       "    <tr>\n",
       "      <th>9</th>\n",
       "      <td>perplexity</td>\n",
       "      <td>-10.309543</td>\n",
       "      <td>-10.309554</td>\n",
       "      <td>-10.309572</td>\n",
       "      <td>-10.309586</td>\n",
       "    </tr>\n",
       "  </tbody>\n",
       "</table>\n",
       "</div>"
      ],
      "text/plain": [
       "                name         20         40         60         80\n",
       "0  kongzi mengzi JSD   0.531647   0.646536   0.749249   0.798417\n",
       "1   kongzi xunzi JSD   0.638123   0.773123   0.778506   0.821801\n",
       "2   xunzi mengzi JSD   0.590297   0.738896   0.783387   0.823514\n",
       "3  kongzi mengzi KLD   1.898378   3.747505   5.750826   7.590320\n",
       "4  mengzi kongzi KLD   4.346204   5.882206   7.213173   7.609258\n",
       "5   kongzi xunzi KLD   3.754624   6.622456   8.445679   8.898572\n",
       "6   xunzi kongzi KLD   5.363070   7.998917   6.991168   8.471340\n",
       "7   xunzi mengzi KLD   2.957886   7.193496   8.448962   8.711570\n",
       "8   mengzi xunzi KLD   4.527284   6.728929   7.830868   9.091030\n",
       "9         perplexity -10.309543 -10.309554 -10.309572 -10.309586"
      ]
     },
     "execution_count": 9,
     "metadata": {},
     "output_type": "execute_result"
    }
   ],
   "source": [
    "from pandas import Series,DataFrame\n",
    "import pandas as pd\n",
    "#data = {\"Topics\":top10topics[:10], \"Corpus Weight\":top10topicsweight[:10], \"Topic Name\":[,,,,,,,,,],\"Topic Keywords in Descending Order of Weight\":chunks(word,10)} \n",
    "\n",
    "#data3 = {\"name\":topicname,\"20\":d_value['20'],\"40\":d_value['40'],\"60\":d_value['60'],\"80\":d_value['80'],\"100\":d_value['100'],}\n",
    "#f3 = DataFrame(data3,columns=['name','20','40','60','80','100'])\n",
    "data3 = {\"name\":topicname,\"20\":d_value['20'],\"40\":d_value['40'],\"60\":d_value['60'],\"80\":d_value['80']}\n",
    "f3 = DataFrame(data3,columns=['name','20','40','60','80'])\n",
    "f3"
   ]
  },
  {
   "cell_type": "markdown",
   "metadata": {},
   "source": [
    "## my method"
   ]
  },
  {
   "cell_type": "code",
   "execution_count": 10,
   "metadata": {
    "collapsed": true
   },
   "outputs": [],
   "source": [
    "# from corpus import *\n",
    "# import numpy as np\n",
    "\n",
    "# def perplexity(theta, corpus, v):\n",
    "#    a = (v.phi[corpus] * theta).sum(axis=1)\n",
    "#    a = np.log2(a).sum()\n",
    "#    return a / len(corpus)\n",
    "\n",
    "# v = lda_v[80]\n",
    "# theta = v.aggregate_doc_topics(all_ids)\n",
    "# TMP = []\n",
    "# for a in theta:\n",
    "#    TMP.append(a[1]) \n",
    "# theta = np.array(TMP)\n",
    "# print theta\n",
    "# corpus = v.corpus.corpus\n",
    "# P = perplexity(theta, corpus, v)\n",
    "# print P"
   ]
  },
  {
   "cell_type": "markdown",
   "metadata": {},
   "source": [
    "## each to whole"
   ]
  },
  {
   "cell_type": "code",
   "execution_count": 11,
   "metadata": {
    "collapsed": true
   },
   "outputs": [],
   "source": [
    "# def perplexity(theta, corpus, v):\n",
    "#     a = (v.phi[corpus] * theta).sum(axis=1)\n",
    "#     a = np.log2(a).sum()\n",
    "#     return a / len(corpus)\n",
    "\n",
    "# v = lda_v[80]    \n",
    "# perplexity_num = []\n",
    "# theta_all = []\n",
    "# documents = v.corpus.view_contexts('document')\n",
    "# for doc_id,corpus in zip(all_ids,documents):\n",
    "#     theta = v.doc_topic_matrix(doc_id)\n",
    "#     print theta\n",
    "#     theta_all.append(theta)\n",
    "#     perplexity_num.append(perplexity(theta,corpus,v))\n",
    "# perplexity_num = np.array(perplexity_num)\n",
    "# theta_all = np.array(theta_all)\n",
    "# print 'each document way',np.mean(perplexity_num)\n"
   ]
  },
  {
   "cell_type": "markdown",
   "metadata": {},
   "source": [
    "### Jaimie's Final method"
   ]
  },
  {
   "cell_type": "code",
   "execution_count": 12,
   "metadata": {
    "collapsed": true
   },
   "outputs": [],
   "source": [
    "# from corpus import *\n",
    "# import numpy as np\n",
    "\n",
    "# def perplexity(theta, corpus, v):\n",
    "#     a = (v.phi[corpus] * theta).sum(axis=1)\n",
    "#     a = np.log2(a).sum()\n",
    "#     return a / len(corpus)\n",
    "\n",
    "# v = lda_v[80]\n",
    "# corpus = v.corpus.corpus\n",
    "\n",
    "# # v.aggregate_doc_topics returns an ndarray instead of just values.\n",
    "# theta = v.aggregate_doc_topics(all_ids)\n",
    "# print 'theta 1 step',theta\n",
    "# theta = theta[np.argsort(theta['i'])]\n",
    "# print 'theat2 step',theta\n",
    "# theta = np.array(theta['value'])\n",
    "# print 'theta3 step',theta\n",
    "\n",
    "# P = perplexity(theta, corpus, v)\n",
    "# print 'whole corpus',P\n"
   ]
  },
  {
   "cell_type": "code",
   "execution_count": 13,
   "metadata": {
    "collapsed": true
   },
   "outputs": [],
   "source": [
    "\n",
    "def topic_entropies(self, print_len=10):\n",
    "    \"\"\"Returns the entropies of the topics of the model as an array sorted\n",
    "    by entropy.\n",
    "\n",
    "    \"\"\"\n",
    "    H_phi = self.H_phi\n",
    "    k_arr = enum_sort(H_phi).view(LabeledColumn)\n",
    "    k_arr.col_header = 'Topic Entropies'\n",
    "    k_arr.subcol_headers = ['Index', 'Entropy']\n",
    "    k_arr.col_len = print_len\n",
    "\n",
    "    return k_arr[::-1]"
   ]
  },
  {
   "cell_type": "code",
   "execution_count": 14,
   "metadata": {},
   "outputs": [
    {
     "ename": "AttributeError",
     "evalue": "'module' object has no attribute 'lda'",
     "output_type": "error",
     "traceback": [
      "\u001b[0;31m---------------------------------------------------------------------------\u001b[0m",
      "\u001b[0;31mAttributeError\u001b[0m                            Traceback (most recent call last)",
      "\u001b[0;32m<ipython-input-14-976016c3e04f>\u001b[0m in \u001b[0;36m<module>\u001b[0;34m()\u001b[0m\n\u001b[1;32m      1\u001b[0m \u001b[0;32mfrom\u001b[0m \u001b[0mvsm\u001b[0m \u001b[0;32mimport\u001b[0m \u001b[0mviewer\u001b[0m\u001b[0;34m\u001b[0m\u001b[0m\n\u001b[1;32m      2\u001b[0m \u001b[0;34m\u001b[0m\u001b[0m\n\u001b[0;32m----> 3\u001b[0;31m \u001b[0mviewer\u001b[0m\u001b[0;34m.\u001b[0m\u001b[0mlda\u001b[0m\u001b[0;34m\u001b[0m\u001b[0m\n\u001b[0m",
      "\u001b[0;31mAttributeError\u001b[0m: 'module' object has no attribute 'lda'"
     ]
    }
   ],
   "source": [
    "# from vsm import viewer\n",
    "\n",
    "# viewer.lda"
   ]
  },
  {
   "cell_type": "code",
   "execution_count": null,
   "metadata": {
    "collapsed": true
   },
   "outputs": [],
   "source": [
    "print k"
   ]
  },
  {
   "cell_type": "code",
   "execution_count": 2,
   "metadata": {},
   "outputs": [
    {
     "name": "stdout",
     "output_type": "stream",
     "text": [
      "Running from notebook, using serial load function.\n",
      "[20, 40, 60, 80, 100]\n",
      "/home/yz/anaconda2/test/kmx_v2/models/kmx-freq5-freq5-N999999-LDA-K{0}-document-2000.npz\n",
      "Loading LDA data from /home/yz/anaconda2/test/kmx_v2/models/kmx-freq5-freq5-N999999-LDA-K100-document-2000.npz\n",
      "Populating the interactive namespace from numpy and matplotlib\n",
      "0 28.3099 1776\n"
     ]
    },
    {
     "name": "stderr",
     "output_type": "stream",
     "text": [
      "/home/yz/anaconda2/lib/python2.7/site-packages/IPython/core/magics/pylab.py:161: UserWarning: pylab import has clobbered these variables: ['__version__']\n",
      "`%matplotlib` prevents importing * from pylab and numpy\n",
      "  \"\\n`%matplotlib` prevents importing * from pylab and numpy\"\n"
     ]
    },
    {
     "name": "stdout",
     "output_type": "stream",
     "text": [
      "1 21.9896 1776\n",
      "2 21.0359 1776\n",
      "3 6.60384 1776\n",
      "4 9.78518 1776\n",
      "5 78.2472 1776\n",
      "6 34.3642 1776\n",
      "7 17.84 1776\n",
      "8 8.13978 1776\n",
      "9 16.9246 1776\n",
      "10 26.8121 1776\n",
      "11 30.8112 1776\n",
      "12 16.4901 1776\n",
      "13 10.0139 1776\n",
      "14 7.54909 1776\n",
      "15 9.37026 1776\n",
      "16 50.2554 1776\n",
      "17 8.98048 1776\n",
      "18 15.2124 1776\n",
      "19 7.45676 1776\n",
      "20 26.2883 1776\n",
      "21 9.43007 1776\n",
      "22 14.2681 1776\n",
      "23 13.4777 1776\n",
      "24 14.8222 1776\n",
      "25 19.2231 1776\n",
      "26 3.68233 1776\n",
      "27 7.70997 1776\n",
      "28 11.3907 1776\n",
      "29 8.48924 1776\n",
      "30 11.4122 1776\n",
      "31 18.8956 1776\n",
      "32 7.30151 1776\n",
      "33 12.2053 1776\n",
      "34 22.1453 1776\n",
      "35 9.18757 1776\n",
      "36 6.51443 1776\n",
      "37 22.9057 1776\n",
      "38 5.92585 1776\n",
      "39 12.1624 1776\n",
      "40 34.1207 1776\n",
      "41 42.0977 1776\n",
      "42 24.6472 1776\n",
      "43 19.2986 1776\n",
      "44 22.8867 1776\n",
      "45 12.103 1776\n",
      "46 8.30009 1776\n",
      "47 24.7014 1776\n",
      "48 23.5965 1776\n",
      "49 13.5982 1776\n",
      "50 13.4023 1776\n",
      "51 47.4398 1776\n",
      "52 17.0847 1776\n",
      "53 10.6649 1776\n",
      "54 17.8799 1776\n",
      "55 24.0771 1776\n",
      "56 5.13424 1776\n",
      "57 12.2899 1776\n",
      "58 6.56177 1776\n",
      "59 22.7526 1776\n",
      "60 4.71196 1776\n",
      "61 8.48317 1776\n",
      "62 20.6921 1776\n",
      "63 26.1699 1776\n",
      "64 6.42574 1776\n",
      "65 11.1814 1776\n",
      "66 12.3042 1776\n",
      "67 4.84193 1776\n",
      "68 12.299 1776\n",
      "69 32.3844 1776\n",
      "70 58.4943 1776\n",
      "71 12.9778 1776\n",
      "72 9.03586 1776\n",
      "73 22.1866 1776\n",
      "74 12.0024 1776\n",
      "75 4.28442 1776\n",
      "76 21.7942 1776\n",
      "77 7.88564 1776\n",
      "78 19.2347 1776\n",
      "79 5.8457 1776\n",
      "80 51.6073 1776\n",
      "81 12.8845 1776\n",
      "82 21.2912 1776\n",
      "83 19.5148 1776\n",
      "84 9.03886 1776\n",
      "85 16.4817 1776\n",
      "86 8.40621 1776\n",
      "87 3.75205 1776\n",
      "88 14.0257 1776\n",
      "89 8.71353 1776\n",
      "90 31.8337 1776\n",
      "91 47.0688 1776\n",
      "92 6.30594 1776\n",
      "93 22.0724 1776\n",
      "94 42.011 1776\n",
      "95 2.96459 1776\n",
      "96 12.5078 1776\n",
      "97 14.3954 1776\n",
      "98 26.1489 1776\n",
      "99 5.4732 1776\n",
      "[0.015940273, 0.012381556, 0.011844549, 0.0037183785, 0.0055096732, 0.044058111, 0.019349201, 0.010045067, 0.0045832107, 0.0095296297, 0.015096881, 0.017348625, 0.0092849666, 0.0056384471, 0.0042506126, 0.0052760448, 0.028296933, 0.0050565749, 0.0085655302, 0.004198628, 0.01480195, 0.0053097266, 0.0080338269, 0.0075888215, 0.0083458209, 0.010823802, 0.0020733825, 0.0043412, 0.0064136768, 0.0047799796, 0.0064257849, 0.010639404, 0.0041112099, 0.006872335, 0.012469194, 0.0051731821, 0.0036680363, 0.012897351, 0.0033366282, 0.0068481872, 0.019212082, 0.02370364, 0.013877939, 0.010866311, 0.012886656, 0.0068147345, 0.0046734754, 0.013908428, 0.013286344, 0.0076566441, 0.007546362, 0.026711619, 0.0096197734, 0.006005025, 0.010067536, 0.013556942, 0.0028909005, 0.0069199856, 0.003694691, 0.012811141, 0.0026531301, 0.0047765579, 0.011650949, 0.01473529, 0.0036180976, 0.0062958272, 0.0069280416, 0.0027263097, 0.0069251391, 0.018234473, 0.032935996, 0.0073073413, 0.0050877566, 0.012492455, 0.006758119, 0.0024123976, 0.012271526, 0.0044401139, 0.010830374, 0.0032914968, 0.02905814, 0.0072547947, 0.011988281, 0.010988053, 0.0050894483, 0.0092802122, 0.0047332258, 0.0021126431, 0.0078973509, 0.0049062665, 0.017924376, 0.026502715, 0.0035506401, 0.01242817, 0.023654835, 0.0016692528, 0.0070426948, 0.008105522, 0.014723476, 0.0030817555]\n"
     ]
    }
   ],
   "source": [
    "from corpus import *\n",
    "from vsm import *\n",
    "\n",
    "# This code calculates the probabilities for topics appearing in a document\n",
    "# run this in a Jupyter Notebook\n",
    "v = lda_v[100]\n",
    "%pylab inline\n",
    "\n",
    "p_tds = []\n",
    "p_tds_var = []\n",
    "for i in range(100):\n",
    "    past_idx = 0\n",
    "    p_td = v.doc_topic_matrix(all_ids)[:,i]\n",
    "    p_tds.append(np.mean(p_td))\n",
    "    p_tds_var.append(np.var(p_td))\n",
    "    print i, np.sum(p_td), len(p_td)\n",
    "print(p_tds)"
   ]
  },
  {
   "cell_type": "code",
   "execution_count": 3,
   "metadata": {},
   "outputs": [
    {
     "data": {
      "text/plain": [
       "<matplotlib.text.Text at 0x7f9497c48ad0>"
      ]
     },
     "execution_count": 3,
     "metadata": {},
     "output_type": "execute_result"
    },
    {
     "data": {
      "image/png": "[encoded data removed]",
      "text/plain": [
       "<matplotlib.figure.Figure at 0x7f94e441de50>"
      ]
     },
     "metadata": {},
     "output_type": "display_data"
    }
   ],
   "source": [
    "scatter(p_tds, np.sqrt(p_tds_var), c='r', alpha=0.3)\n",
    "scatter(p_tds[9], np.sqrt(p_tds_var[9]), marker='*', s=140, c='k')\n",
    "\n",
    "xlabel(\"mean p(t|d))\")\n",
    "ylabel(r\"\\sqrt{var p(t|d)}\")"
   ]
  },
  {
   "cell_type": "code",
   "execution_count": 4,
   "metadata": {
    "collapsed": true
   },
   "outputs": [],
   "source": [
    "def draw(topic):\n",
    "    scatter(p_tds, np.sqrt(p_tds_var), c='r', alpha=0.3)\n",
    "    scatter(p_tds[topic], np.sqrt(p_tds_var[topic]), marker='*', s=140, c='k')\n",
    "    xlabel(\"mean p(t|d))\")\n",
    "    ylabel(r\"\\sqrt{var p(t|d)}\")\n",
    "    return 0"
   ]
  },
  {
   "cell_type": "code",
   "execution_count": 5,
   "metadata": {},
   "outputs": [
    {
     "data": {
      "text/plain": [
       "0"
      ]
     },
     "execution_count": 5,
     "metadata": {},
     "output_type": "execute_result"
    },
    {
     "data": {
      "image/png": "[encoded data removed]",
      "text/plain": [
       "<matplotlib.figure.Figure at 0x7f9497bac450>"
      ]
     },
     "metadata": {},
     "output_type": "display_data"
    }
   ],
   "source": [
    "draw(10)"
   ]
  },
  {
   "cell_type": "code",
   "execution_count": 6,
   "metadata": {},
   "outputs": [
    {
     "data": {
      "text/plain": [
       "0"
      ]
     },
     "execution_count": 6,
     "metadata": {},
     "output_type": "execute_result"
    },
    {
     "data": {
      "image/png": "[encoded data removed]",
      "text/plain": [
       "<matplotlib.figure.Figure at 0x7f9497b19710>"
      ]
     },
     "metadata": {},
     "output_type": "display_data"
    }
   ],
   "source": [
    "draw(5)"
   ]
  },
  {
   "cell_type": "code",
   "execution_count": 7,
   "metadata": {},
   "outputs": [
    {
     "data": {
      "text/plain": [
       "0"
      ]
     },
     "execution_count": 7,
     "metadata": {},
     "output_type": "execute_result"
    },
    {
     "data": {
      "image/png": "[encoded data removed]",
      "text/plain": [
       "<matplotlib.figure.Figure at 0x7f9497b4db90>"
      ]
     },
     "metadata": {},
     "output_type": "display_data"
    }
   ],
   "source": [
    "draw(48)"
   ]
  },
  {
   "cell_type": "code",
   "execution_count": 8,
   "metadata": {},
   "outputs": [
    {
     "data": {
      "text/plain": [
       "0"
      ]
     },
     "execution_count": 8,
     "metadata": {},
     "output_type": "execute_result"
    },
    {
     "data": {
      "image/png": "[encoded data removed]",
      "text/plain": [
       "<matplotlib.figure.Figure at 0x7f9497a15390>"
      ]
     },
     "metadata": {},
     "output_type": "display_data"
    }
   ],
   "source": [
    "draw(25)"
   ]
  },
  {
   "cell_type": "code",
   "execution_count": 9,
   "metadata": {},
   "outputs": [
    {
     "data": {
      "text/plain": [
       "0"
      ]
     },
     "execution_count": 9,
     "metadata": {},
     "output_type": "execute_result"
    },
    {
     "data": {
      "image/png": "[encoded data removed]",
      "text/plain": [
       "<matplotlib.figure.Figure at 0x7f9497a15950>"
      ]
     },
     "metadata": {},
     "output_type": "display_data"
    }
   ],
   "source": [
    "draw(3)"
   ]
  },
  {
   "cell_type": "code",
   "execution_count": 10,
   "metadata": {},
   "outputs": [
    {
     "data": {
      "text/plain": [
       "0"
      ]
     },
     "execution_count": 10,
     "metadata": {},
     "output_type": "execute_result"
    },
    {
     "data": {
      "image/png": "[encoded data removed]",
      "text/plain": [
       "<matplotlib.figure.Figure at 0x7f949784aa50>"
      ]
     },
     "metadata": {},
     "output_type": "display_data"
    }
   ],
   "source": [
    "draw(99)"
   ]
  },
  {
   "cell_type": "code",
   "execution_count": 11,
   "metadata": {},
   "outputs": [
    {
     "data": {
      "text/plain": [
       "0"
      ]
     },
     "execution_count": 11,
     "metadata": {},
     "output_type": "execute_result"
    },
    {
     "data": {
      "image/png": "[encoded data removed]",
      "text/plain": [
       "<matplotlib.figure.Figure at 0x7f94977e8f10>"
      ]
     },
     "metadata": {},
     "output_type": "display_data"
    }
   ],
   "source": [
    "draw(58)"
   ]
  },
  {
   "cell_type": "code",
   "execution_count": 12,
   "metadata": {},
   "outputs": [
    {
     "data": {
      "text/plain": [
       "0"
      ]
     },
     "execution_count": 12,
     "metadata": {},
     "output_type": "execute_result"
    },
    {
     "data": {
      "image/png": "[encoded data removed]",
      "text/plain": [
       "<matplotlib.figure.Figure at 0x7f94976cd050>"
      ]
     },
     "metadata": {},
     "output_type": "display_data"
    }
   ],
   "source": [
    "draw(84)"
   ]
  },
  {
   "cell_type": "code",
   "execution_count": 13,
   "metadata": {},
   "outputs": [
    {
     "data": {
      "text/plain": [
       "0"
      ]
     },
     "execution_count": 13,
     "metadata": {},
     "output_type": "execute_result"
    },
    {
     "data": {
      "image/png": "[encoded data removed]",
      "text/plain": [
       "<matplotlib.figure.Figure at 0x7f9497612090>"
      ]
     },
     "metadata": {},
     "output_type": "display_data"
    }
   ],
   "source": [
    "draw(97)"
   ]
  },
  {
   "cell_type": "code",
   "execution_count": 14,
   "metadata": {},
   "outputs": [
    {
     "data": {
      "text/plain": [
       "0"
      ]
     },
     "execution_count": 14,
     "metadata": {},
     "output_type": "execute_result"
    },
    {
     "data": {
      "image/png": "[encoded data removed]",
      "text/plain": [
       "<matplotlib.figure.Figure at 0x7f9497564710>"
      ]
     },
     "metadata": {},
     "output_type": "display_data"
    }
   ],
   "source": [
    "draw(15)"
   ]
  },
  {
   "cell_type": "markdown",
   "metadata": {},
   "source": [
    "## (0.03,0.15)\n",
    "0.15  high variance , different, shown in few document\n",
    "0,03 3 percent in whole corpus\n",
    "#.7,.2,.1\n",
    "#.7,.2,.1\n",
    "#.45,.45,.1\n",
    "#.5,.5,0\n",
    "t1 and t2 have high prob, high variance; t3 low prob low var\n",
    "\n",
    "\n",
    "using k to measure. y/x\n",
    "\n",
    "    \"interesting topic Q\" in comparing Z and T means p(Q|Z)and p(Q|T) > p(Q|corpus) and var(p(Q|corpus) is high relative to other topics with similar p(t|corpus)\n"
   ]
  },
  {
   "cell_type": "code",
   "execution_count": null,
   "metadata": {
    "collapsed": true
   },
   "outputs": [],
   "source": []
  }
 ],
 "metadata": {
  "anaconda-cloud": {},
  "kernelspec": {
   "display_name": "Python 2",
   "language": "python",
   "name": "python2"
  },
  "language_info": {
   "codemirror_mode": {
    "name": "ipython",
    "version": 2
   },
   "file_extension": ".py",
   "mimetype": "text/x-python",
   "name": "python",
   "nbconvert_exporter": "python",
   "pygments_lexer": "ipython2",
   "version": "2.7.14"
  }
 },
 "nbformat": 4,
 "nbformat_minor": 1
}
