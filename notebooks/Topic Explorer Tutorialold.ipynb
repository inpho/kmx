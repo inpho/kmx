{
 "cells": [
  {
   "cell_type": "markdown",
   "metadata": {},
   "source": [
    "# Topic Explorer Notebook Tutorial\n",
    "\n",
    "The InPhO Topic Explorer features a powerful interactive coding environment that enables direct manipulation of the corpus and models, in contrast to the web visualization.\n",
    "\n",
    "When you run the `vsm notebook` command, several things happen:\n",
    "1.  The Topic Explorer creates a new folder called `notebooks` and places several files inside it:\n",
    "     -  **corpus.py** contains Python code which imports the Corpus object and a function that will load models trained on your corpus. It gathers this information from your `CORPUS.ini` file, where `CORPUS` is the name of the folder you prepared. More information on this special file is below.\n",
    "     -  **Topic Explorer Tutorial.ipynb** is this file, which provides the skeleton documentation for interacting with the models.\n",
    "     -  Other **ipynb** files, containing analyses that can be re-run on your own corpora.\n",
    "2.  The Topic Explorer launches a [Jupyter Notebook](http://jupyter.org/). This allows you to program in Python on your local computer using the browser, rather than a terminal or other program. "
   ]
  },
  {
   "cell_type": "markdown",
   "metadata": {},
   "source": [
    "## Introducing Jupyter\n",
    "If you look in the address bar of your browser, it should start with something like `localhost:8888/notebooks/Topic%20Explorer%20Tutorial.ipynb`. If you open a new tab or browser window and type in `localhost:8888` you will open the same list of files and be able to edit multiple files at once. Note that editing the same file in multiple tabs may cause you to accidentally overwrite your data. Jupyter does not check if the file is already open.\n",
    "\n",
    "Also, note that if the first portion of the url (`localhost:8888`) is different, you will need to enter what it says on your computer to open a new tab. Most likely the \"port number\" (`8888`) will be different, and may indicate you have a second instance of `vsm notebook` or another Jupyter Notebook server running.\n",
    "\n",
    "\n",
    "### Running Cells\n",
    "The Jupyter notebook operates through individual *cells* that run Python code. To run a cell press the \"run cell\" (play) button or select the cell by clicking on it, then select in the Jupyter menu \"Cell > Run Cells\".\n",
    "\n",
    "Try running the cell below:"
   ]
  },
  {
   "cell_type": "code",
   "execution_count": 5,
   "metadata": {},
   "outputs": [
    {
     "name": "stdout",
     "output_type": "stream",
     "text": [
      "Hello world!\n"
     ]
    }
   ],
   "source": [
    "print \"Hello world!\""
   ]
  },
  {
   "cell_type": "markdown",
   "metadata": {},
   "source": [
    "Immediately below the cell, the `Hello world!` should be printed, and to the left of the cell it should say `In [1]:`.\n",
    "\n",
    "#### A note on kernels and brackets\n",
    "If the number `[1]` is different, nothing is wrong, so long as there is a number printed.\n",
    "\n",
    "The number in brackets (`[1]`) counts the number of times you have run a cell in this notebook session. A notebook session is tied to a *kernel*. The kernel runs the Python code. If you wish to reset the numbers and run your code step-by-step, starting from `[1]` again, go to the menu and select \"Kernel > Restart & Run All\".\n",
    "\n",
    "If the number appears as `In [*]:` that means that the cell is currently running. When it changes to a number (`[2]`), then the files have completed importing.\n",
    "\n",
    "If you feel this is taking an absurdly long time to load (in excess of a few seconds), please press the stop button and notify the package developers. There might be a bug in the modeling software."
   ]
  },
  {
   "cell_type": "markdown",
   "metadata": {},
   "source": [
    "### Errors and Debugging\n",
    "Each cell automatically calls `print` on the last line of the cell. Run the cell below to see an example:"
   ]
  },
  {
   "cell_type": "code",
   "execution_count": 1,
   "metadata": {},
   "outputs": [
    {
     "name": "stdout",
     "output_type": "stream",
     "text": [
      "hello\n"
     ]
    }
   ],
   "source": [
    "print 'hello'"
   ]
  },
  {
   "cell_type": "markdown",
   "metadata": {},
   "source": [
    "Let's use this to print `Hello world!` once again:"
   ]
  },
  {
   "cell_type": "markdown",
   "metadata": {},
   "source": [
    "**D'oh!** This should have raised a `SyntaxError: invalid syntax`.\n",
    "\n",
    "Note the message `File \"<ipython-input-5-59ca0efa9f56>\", line 1` (the portion after `ipython-input` may be different). This tells you which line in the program errored. If you have errors in more advanced code, the line number will be very helpful in diagnosing the problem.\n",
    "\n",
    "For now, change the cell above to `\"Hello world!\"` and run again to get the proper output."
   ]
  },
  {
   "cell_type": "markdown",
   "metadata": {},
   "source": [
    "## Importing `corpus.py`\n",
    "Now that you know how to run a cell, we can begin interacting with the topic models. First we will import your corpus objects. Select and run the cell below:"
   ]
  },
  {
   "cell_type": "code",
   "execution_count": 2,
   "metadata": {},
   "outputs": [
    {
     "name": "stdout",
     "output_type": "stream",
     "text": [
      "Running from notebook, using serial load function.\n",
      "[20, 40, 60, 80, 100]\n",
      "/home/inpho/inpho/kmx/models/kmx-freq5-freq5-N2523342-LDA-K{0}-document-200.npz\n"
     ]
    }
   ],
   "source": [
    "from corpus import *"
   ]
  },
  {
   "cell_type": "markdown",
   "metadata": {},
   "source": [
    "You will now have access to several variables, the most important of which are:\n",
    " -  `c` -- The `vsm.Corpus` object\n",
    " -  `lda_v` -- A dictionary containing each of the `vsm.LdaViewer` instances. You can access a particular model with `lda_v[k]`, substituting k for a particular number, like `lda_v[20]` for the 20-topic model. If the model for that number of topics has not been trained, it will error.\n",
    " -  `topic_range` -- A list of the trained models (e.g., `[20, 40, 60, 80]`)\n",
    " -  `context_type` -- A string containing the particular context type modeled (e.g., `\"sentence\"`, `\"document\"`, `\"article\"`)"
   ]
  },
  {
   "cell_type": "markdown",
   "metadata": {},
   "source": [
    "### Introducing the `vsm` module\n",
    "\n",
    "The InPhO Topic Explorer is comprised of two modules:\n",
    "1. The `topicexplorer` module contains code for the visualization and user interfaces.\n",
    "2. The `vsm` module contains code for modeling differnet corpora. \n",
    "\n",
    "In order to make use of the term frequency (TF), term frequency-inverse document frequency (TfIdf), and latent semantic analysis (LSA) models, we must import the main vsm module:"
   ]
  },
  {
   "cell_type": "code",
   "execution_count": 3,
   "metadata": {},
   "outputs": [],
   "source": [
    "from vsm import *"
   ]
  },
  {
   "cell_type": "markdown",
   "metadata": {},
   "source": [
    "## Interacting with the Corpus: Term Frequencies"
   ]
  },
  {
   "cell_type": "markdown",
   "metadata": {},
   "source": [
    "The command above has loaded your `Corpus` object into the `c` variable. You can see the list of all words that are in your corpus by typing `c.words` into a code cell:"
   ]
  },
  {
   "cell_type": "code",
   "execution_count": 4,
   "metadata": {},
   "outputs": [
    {
     "data": {
      "text/plain": [
       "array([u'10', u'11', u'12', ..., u'\\ue859', u'\\ufe51', u'\\ufe56'],\n",
       "      dtype=object)"
      ]
     },
     "execution_count": 4,
     "metadata": {},
     "output_type": "execute_result"
    }
   ],
   "source": [
    "c.words"
   ]
  },
  {
   "cell_type": "markdown",
   "metadata": {},
   "source": [
    "Note that it only shows the first few and last few unique words in the corpus, alphabetically sorted. \n",
    "\n",
    "What if we want to get a list of how often each word occurs? For that, we can use the `vsm.model.TF` to build a frequency distribution over the terms in the corpus:"
   ]
  },
  {
   "cell_type": "code",
   "execution_count": 5,
   "metadata": {},
   "outputs": [
    {
     "data": {
      "text/html": [
       "<table style=\"margin: 0\"><tr><th style=\"text-align: center; background: #CEE3F6\" colspan                    =\"4\">Collection Frequencies</th></tr><tr><th style=\"text-align: center; background: #EFF2FB; \">Word                    </th><th style=\"text-align: center; background: #EFF2FB; \">Counts                    </th><th style=\"text-align: center; background: #EFF2FB; \">Word                    </th><th style=\"text-align: center; background: #EFF2FB; \">Counts                    </th></tr><tr><td>人                          </td><td>58190                      </td><td>年                          </td><td>18621                      </td></tr><tr><td>王                          </td><td>40022                      </td><td>君                          </td><td>18610                      </td></tr><tr><td>天                          </td><td>27953                      </td><td>行                          </td><td>17434                      </td></tr><tr><td>十                          </td><td>27782                      </td><td>侯                          </td><td>17097                      </td></tr><tr><td>一                          </td><td>27692                      </td><td>将                          </td><td>17022                      </td></tr><tr><td>二                          </td><td>24084                      </td><td>使                          </td><td>16665                      </td></tr><tr><td>上                          </td><td>23027                      </td><td>能                          </td><td>16637                      </td></tr><tr><td>国                          </td><td>21488                      </td><td>臣                          </td><td>15908                      </td></tr><tr><td>后                          </td><td>20489                      </td><td>事                          </td><td>15705                      </td></tr><tr><td>可                          </td><td>19979                      </td><td>民                          </td><td>14998                      </td></tr></table>"
      ],
      "text/plain": [
       "LabeledColumn([(u'\\u4eba', 58190), (u'\\u738b', 40022), (u'\\u5929', 27953),\n",
       "               ..., (u'\\u6478',     6), (u'\\u9647\\u4ea9',     6),\n",
       "               (u'\\u7c2c',     6)],\n",
       "              dtype=[('word', '<U14'), ('value', '<i8')])"
      ]
     },
     "execution_count": 5,
     "metadata": {},
     "output_type": "execute_result"
    }
   ],
   "source": [
    "# train the model and create a TfViewer object\n",
    "tf = TF(c, context_type)\n",
    "tf.train()\n",
    "tf_v = TfViewer(c, tf)\n",
    "\n",
    "# print the most frequent terms in the document\n",
    "# remember that IPython automatically prints the last cell of a document\n",
    "tf_v.coll_freqs()\n",
    "\n",
    "\n"
   ]
  },
  {
   "cell_type": "code",
   "execution_count": 11,
   "metadata": {},
   "outputs": [
    {
     "name": "stdout",
     "output_type": "stream",
     "text": [
      "(24709, 1516) (24709, 1) (1, 1516)\n"
     ]
    }
   ],
   "source": [
    "#  tf.matrix是一个矩阵，每一行代表一个词，每一列代表一个文档每个单元：（词语，文档）  词频   获取词频的方法是，.data属性，可以\n",
    "#拿到一个列表，是各个文档中出现的次数\n",
    "#  tf.matrix.getcol(x) 是一个矩阵，只有一列，代表第x个文本中，每一个字出现的频率\n",
    "#  tf.matrix.getraw(x)是一个矩阵，只有一行，代表第x个词，在对应每一个文档中出现的频数\n",
    "\n",
    "print tf.matrix.shape,tf.matrix.getcol(1515).shape,tf.matrix.getrow(1515).shape\n",
    "#wf = []\n",
    "#whf = []\n",
    "#for i in range(0,1516):\n",
    "#    whf.append(tf.matrix.getcol(i))\n",
    "#    \n",
    "#    wf.append(sum(whf[i].data))\n",
    "#print wf[:10]"
   ]
  },
  {
   "cell_type": "code",
   "execution_count": 38,
   "metadata": {},
   "outputs": [
    {
     "data": {
      "text/plain": [
       "<1x1516 sparse matrix of type '<type 'numpy.int32'>'\n",
       "\twith 69 stored elements in Compressed Sparse Row format>"
      ]
     },
     "execution_count": 38,
     "metadata": {},
     "output_type": "execute_result"
    }
   ],
   "source": [
    "tf.matrix.getrow(0)\n"
   ]
  },
  {
   "cell_type": "markdown",
   "metadata": {},
   "source": [
    "After running the cell above, you should see a table with the 20 most frequently used words."
   ]
  },
  {
   "cell_type": "code",
   "execution_count": 8,
   "metadata": {},
   "outputs": [],
   "source": [
    "#此处应该确认一下，是否是对应关系。此字词是从cwords里面依次读取出来的\n",
    "#cwords=[]\n",
    "#for a in c.words:\n",
    "#    cwords.append(''.join(a).encode('utf-8'))\n",
    "#rows = zip(cwords,wf)\n",
    "#import csv\n",
    "#with open('wordsfrequency.csv','w') as f:\n",
    "#    f_csv = csv.writer(f)\n",
    "#    f_csv.writerow(headers)\n",
    "#    f_csv.writerows(rows)"
   ]
  },
  {
   "cell_type": "markdown",
   "metadata": {
    "collapsed": true
   },
   "source": [
    "## Interacting with Topic Models\n",
    "\n",
    "The InPhO Topic Explorer doesn't just work with term frequencies though - it creates LDA topic models. Through the notebook interface these models can be powerfully manipulated to produce new analyses.\n",
    "\n",
    "First, let's select a primary model to investigate, and load it into the variable `v`:"
   ]
  },
  {
   "cell_type": "code",
   "execution_count": 6,
   "metadata": {
    "scrolled": true
   },
   "outputs": [
    {
     "name": "stdout",
     "output_type": "stream",
     "text": [
      "20\n",
      "Loading LDA data from /home/inpho/inpho/kmx/models/kmx-freq5-freq5-N2523342-LDA-K20-document-200.npz\n"
     ]
    }
   ],
   "source": [
    "# print the number of topics in the first model\n",
    "print topic_range[0]\n",
    "# remember that list indexes start with 0 not 1!\n",
    "\n",
    "# replace 'topic_range[0]' with a specific number, if you like\n",
    "k = topic_range[0]\n",
    "\n",
    "# load the topic model\n",
    "v = lda_v[k]"
   ]
  },
  {
   "cell_type": "markdown",
   "metadata": {},
   "source": [
    "The above code loads the first topic model into a viewer object. We have used the `topic_range[0]` instead of simply stating a number so that this same demo notebook will work with any model settings you've prepared. This portability enables us to write analyses that can be replicated across any corpus, and is one of the real strengths of using the `from corpus import *` model of coding your notebooks. If others are using the Topic Explorer to generate their objects, they can run the exact same analysis on different corpora, so long as the variable names are consistent"
   ]
  },
  {
   "cell_type": "markdown",
   "metadata": {},
   "source": [
    "### `v.topics()`\n",
    "First, lets print a list of topics:"
   ]
  },
  {
   "cell_type": "code",
   "execution_count": 7,
   "metadata": {},
   "outputs": [],
   "source": [
    "v.topics()\n",
    "import sys\n",
    "reload(sys)\n",
    "sys.setdefaultencoding(\"utf-8\")\n",
    "count = 0\n",
    "kongzi = []\n",
    "mengzi = []\n",
    "xunzi =[]\n",
    "\n",
    "for label in v.labels[:]:\n",
    "    if '孟子' in label:\n",
    "        mengzi.append(count)\n",
    "    elif '论语' in label:\n",
    "        kongzi.append(count)\n",
    "    elif '荀子' in label:\n",
    "        xunzi.append(count)\n",
    "    count = count+1\n",
    "print 'mengzi has %d files'%len(mengzi)\n",
    "print 'kongzi has %d files'%len(kongzi)\n",
    "print 'xunzi has %d files'%len(xunzi)"
   ]
  },
  {
   "cell_type": "code",
   "execution_count": 54,
   "metadata": {},
   "outputs": [
    {
     "data": {
      "text/html": [
       "<table style=\"margin: 0\"><tr><th style=\"text-align: center; background: #CEE3F6\" colspan            =\"11\">Topics Sorted by Index</th></tr><tr><th style=\"text-align: center; background: #EFF2FB;\"                  >Topic</th><th style=\"text-align: center; background: #EFF2FB;\"                  >Words</th></tr><tr><td style=\"padding-left:0.75em;\">Topic 0</td><td> 谓之, 吴, 黎, 楚, 天, 音, 县, 志, 广, 长           </td></tr><tr><td style=\"padding-left:0.75em;\">Topic 1</td><td> 王, 太后, 立, 帝, 孝, 后, 侯, 国, 皇后, 薨           </td></tr><tr><td style=\"padding-left:0.75em;\">Topic 2</td><td> 刺, 黃, 足, 為, 針, 血, 內, 聞, 上, 骨           </td></tr><tr><td style=\"padding-left:0.75em;\">Topic 3</td><td> 本, 鮑, 晏子, 齊, 為, 趙, 姚, 楚, 二, 補           </td></tr><tr><td style=\"padding-left:0.75em;\">Topic 4</td><td> 将, 敌, 兵, 太, 战, 军, 公曰, 卒, 武, 击           </td></tr><tr><td style=\"padding-left:0.75em;\">Topic 5</td><td> 兵, 攻, 一, 上, 战, 守, 馀, 可, 胜, 二           </td></tr><tr><td style=\"padding-left:0.75em;\">Topic 6</td><td> 天, 气, 生, 以为, 时, 阴, 阳, 水, 一, 火           </td></tr><tr><td style=\"padding-left:0.75em;\">Topic 7</td><td> 脉, 病, 气, 浮, 阳, 阴, 死, 肝, 意, 经           </td></tr><tr><td style=\"padding-left:0.75em;\">Topic 8</td><td> 令, 事, 复, 上, 官, 及, 奏, 臣, 明, 议           </td></tr><tr><td style=\"padding-left:0.75em;\">Topic 9</td><td> 十, 夏, 春, 冬, 秋, 郡, 诏曰, 朕, 天下, ─           </td></tr><tr><td style=\"padding-left:0.75em;\">Topic 10</td><td> 光武, 侯, 更始, 嚣, 将军, 帝, 降, 述, 茂, 封           </td></tr><tr><td style=\"padding-left:0.75em;\">Topic 11</td><td> 民, 德, 天下, 礼, 明, 乐, 正, 制, 天地, 天           </td></tr><tr><td style=\"padding-left:0.75em;\">Topic 12</td><td> 文, 章, 观, 辞, 固, 论, 远, 赋, 卿, 尚           </td></tr><tr><td style=\"padding-left:0.75em;\">Topic 13</td><td> 帝, 拜, 遂, 及, 诏, 复, 赐, 郡, 宪, 永           </td></tr><tr><td style=\"padding-left:0.75em;\">Topic 14</td><td> 子曰, 天下, 恶, 以为, 善, 不知, 事, 辞, 不可, 天           </td></tr><tr><td style=\"padding-left:0.75em;\">Topic 15</td><td> 一, 字, 無, 案, 文, 說, 見, 當, 則, 孫           </td></tr><tr><td style=\"padding-left:0.75em;\">Topic 16</td><td> 於, 及, 彊, 弗, 至於, 受, 適, 能, 封, 商           </td></tr><tr><td style=\"padding-left:0.75em;\">Topic 17</td><td> 於, 數, 萬, 重, 穀, 民, 時, 桓公, 歲, 金           </td></tr><tr><td style=\"padding-left:0.75em;\">Topic 18</td><td> 治, 义, 上, 乱, 国, 民, 之谓, 政, 不能, 刑           </td></tr><tr><td style=\"padding-left:0.75em;\">Topic 19</td><td> 丧, 哭, 服, 妇, 父, 死, 母, 妻, 父母, 冠           </td></tr><tr><td style=\"padding-left:0.75em;\">Topic 20</td><td> 的, 指, 文, 就, 辞, 赋, 论, 他, 创作, 上           </td></tr><tr><td style=\"padding-left:0.75em;\">Topic 21</td><td> 测, 次, 贞, 二, 上, 冥, 阳, 离, 阴, 渊           </td></tr><tr><td style=\"padding-left:0.75em;\">Topic 22</td><td> 载, 乐, 采, 歌, 归, 衣, 声, 风, 思, 服           </td></tr><tr><td style=\"padding-left:0.75em;\">Topic 23</td><td> 将军, 将, 贼, 羌, 还, 王, 击, 太守, 骑, 拜           </td></tr><tr><td style=\"padding-left:0.75em;\">Topic 24</td><td> 兵, 遂, 等, 复, 及, 众, 因, 时, 令, 遣           </td></tr><tr><td style=\"padding-left:0.75em;\">Topic 25</td><td> 王, 周, 武王, 文王, 王曰, 二, 父, 武, 亡, 臣           </td></tr><tr><td style=\"padding-left:0.75em;\">Topic 26</td><td> 善, 性, 圣人, 学, 道, 乐, 谓之, 德, 仁, 万物          </td></tr><tr><td style=\"padding-left:0.75em;\">Topic 27</td><td> 亡, 传, 汉, 周, 春秋, 后, 氏, 诗, 成, 易           </td></tr><tr><td style=\"padding-left:0.75em;\">Topic 28</td><td> 文, 孟子, 孔子, 圣人, 礼, 案, 明, 子云, 易, 宋           </td></tr><tr><td style=\"padding-left:0.75em;\">Topic 29</td><td> 匈奴, 单于, 将军, 汉, 骑, 侯, 使, 将, 出, 右           </td></tr><tr><td style=\"padding-left:0.75em;\">Topic 30</td><td> 吏, 民, 令, 治, 钱, 罪, 天下, 刑, 郡, 法           </td></tr><tr><td style=\"padding-left:0.75em;\">Topic 31</td><td> 上, 丞相, 陛下, 臣, 孝, 大夫, 侯, 景, 盎, 人也          </td></tr><tr><td style=\"padding-left:0.75em;\">Topic 32</td><td> 書, 漢, 卷, 記, 傳, 後, 御, 引, 本, 為           </td></tr><tr><td style=\"padding-left:0.75em;\">Topic 33</td><td> 水, 河, 东, 行, 山, 西, 土, 禹, 出, 至于          </td></tr><tr><td style=\"padding-left:0.75em;\">Topic 34</td><td> 秦, 王, 魏, 攻, 太子, 兵, 使, 周, 因, 十           </td></tr><tr><td style=\"padding-left:0.75em;\">Topic 35</td><td> 莽, 国, 侯, 郡, 户, 阳, 属, 亭, 水, 城           </td></tr><tr><td style=\"padding-left:0.75em;\">Topic 36</td><td> 使, 不能, 命, 论, 实, 难, 恶, 世, 宜, 善           </td></tr><tr><td style=\"padding-left:0.75em;\">Topic 37</td><td> 民, 命, 尔, 厥, 予, 德, 维, 王, 天, 克           </td></tr><tr><td style=\"padding-left:0.75em;\">Topic 38</td><td> 越, 吴, 楚, 胥, 王曰, 寡人, 越王, 使, 伐, 吴王          </td></tr><tr><td style=\"padding-left:0.75em;\">Topic 39</td><td> 祭, 祀, 庙, 宗, 郊, 神, 礼, 立, 天子, 文           </td></tr><tr><td style=\"padding-left:0.75em;\">Topic 40</td><td> 氏, 漢, 類, 後, 書, 二, 姓, 為, 案, 通           </td></tr><tr><td style=\"padding-left:0.75em;\">Topic 41</td><td> 陽, 則, 陰, 氣, 脈, 伯, 少, 岐, 熱, 太           </td></tr><tr><td style=\"padding-left:0.75em;\">Topic 42</td><td> 马, 能, 一, 行, 出, 不可, 内, 数, 令, 以为          </td></tr><tr><td style=\"padding-left:0.75em;\">Topic 43</td><td> 晋, 郑, 师, 将, 伯, 宋, 叔, 及, 侯, 齐           </td></tr><tr><td style=\"padding-left:0.75em;\">Topic 44</td><td> 贤, 进, 行, 正, 通, 义, 师, 长, 恶, 任           </td></tr><tr><td style=\"padding-left:0.75em;\">Topic 45</td><td> 侯, 击, 军, 破, 东, 定, 齐, 攻, 兵, 婴           </td></tr><tr><td style=\"padding-left:0.75em;\">Topic 46</td><td> 月, 行, 始, 命, 天子, 音, 令, 先, 国, 律           </td></tr><tr><td style=\"padding-left:0.75em;\">Topic 47</td><td> 将, 对曰, 令, 因, 侯, 叔, 文, 杀, 以为, 说           </td></tr><tr><td style=\"padding-left:0.75em;\">Topic 48</td><td> 民, 国, 利, 富, 务, 上, 财, 百姓, 不足, 食           </td></tr><tr><td style=\"padding-left:0.75em;\">Topic 49</td><td> 生, 天, 时, 之时, 尧, 圣, 复, 龙, 一, 气           </td></tr><tr><td style=\"padding-left:0.75em;\">Topic 50</td><td> 侯, 上, 将军, 太后, 封, 丞相, 赐, 帝, 莽, 等           </td></tr><tr><td style=\"padding-left:0.75em;\">Topic 51</td><td> 於, 無, 心, 將, 時, 世, 而不, 名, 可, 猶           </td></tr><tr><td style=\"padding-left:0.75em;\">Topic 52</td><td> 一, 臣, 余, 眾, 志, 賢, 貌, 風, 楚, 忠           </td></tr><tr><td style=\"padding-left:0.75em;\">Topic 53</td><td> 爵, 坐, 主人, 降, 尸, 拜, 祭, 奠, 兴, 俎           </td></tr><tr><td style=\"padding-left:0.75em;\">Topic 54</td><td> 星, 日, 出, 岁, 天, 地, 阴, 占, 辰, 月           </td></tr><tr><td style=\"padding-left:0.75em;\">Topic 55</td><td> 為, 一, 與, 己, 長, 遠, 樂, 行, 天, 日           </td></tr><tr><td style=\"padding-left:0.75em;\">Topic 56</td><td> 郡, 羌, 南, 夷, 寇, 二, 复, 种, 地, 破           </td></tr><tr><td style=\"padding-left:0.75em;\">Topic 57</td><td> 象, 吉, 上, 贞, 咎, 利, 卦, 凶, 往, 终           </td></tr><tr><td style=\"padding-left:0.75em;\">Topic 58</td><td> 無, 於, 與, 謂, 天下, 見, 臣, 事, 問, 賢           </td></tr><tr><td style=\"padding-left:0.75em;\">Topic 59</td><td> 齐, 晋, 遂, 立, 卒, 伐, 杀, 王, 公子, 国           </td></tr><tr><td style=\"padding-left:0.75em;\">Topic 60</td><td> 於, 後, 文, 不能, 能, 死, 孔子, 物, 神, ＝           </td></tr><tr><td style=\"padding-left:0.75em;\">Topic 61</td><td> 臣, 上, 遂, 将, 兵, 使, 立, 诛, 数, 死           </td></tr><tr><td style=\"padding-left:0.75em;\">Topic 62</td><td> 主, 臣, 法, 治, 明, 上, 不能, 行, 事, 故曰          </td></tr><tr><td style=\"padding-left:0.75em;\">Topic 63</td><td> 春秋, 书, 列传, 二, 第, 述, 汉, 十八, 孔子, 十六          </td></tr><tr><td style=\"padding-left:0.75em;\">Topic 64</td><td> 王, 太子, 後, 立, 孝, 诸侯, 天子, 汉, 淮南, 上           </td></tr><tr><td style=\"padding-left:0.75em;\">Topic 65</td><td> 等, 卓, 令, 辟, 绍, 太守, 操, 太尉, 天下, 州           </td></tr><tr><td style=\"padding-left:0.75em;\">Topic 66</td><td> 掌, 徒, 史, 王, 二, 国, 下士, 如之, 胥, 共           </td></tr><tr><td style=\"padding-left:0.75em;\">Topic 67</td><td> 礼, 子曰, 亲, 义, 者也, 敬, 弗, 行, 生, 孝           </td></tr><tr><td style=\"padding-left:0.75em;\">Topic 68</td><td> 一, 為, 二, 乘, 實, 術, 斗, 荅, 幾, 問           </td></tr><tr><td style=\"padding-left:0.75em;\">Topic 69</td><td> 一, 传, 铎, 篇, 汉书, 二, 按, 左传, 纪, 后           </td></tr><tr><td style=\"padding-left:0.75em;\">Topic 70</td><td> 侯, 齐, 伐, 卫, 冬, 夏, 伯, 春, 秋, 师           </td></tr><tr><td style=\"padding-left:0.75em;\">Topic 71</td><td> 游, 不能, 神, 形, 是故, 通, 相如, 靡, 弗, 物           </td></tr><tr><td style=\"padding-left:0.75em;\">Topic 72</td><td> 德, 谓之, 文, 志, 世, 朔, 好, 平, 御, 本           </td></tr><tr><td style=\"padding-left:0.75em;\">Topic 73</td><td> 汉, 王, 国, 匈奴, 师, 西, 护, 使, 都, 兵           </td></tr><tr><td style=\"padding-left:0.75em;\">Topic 74</td><td> 宾, 大夫, 受, 主人, 射, 上, 西, 阶, 升, 拜           </td></tr><tr><td style=\"padding-left:0.75em;\">Topic 75</td><td> 按, 字, 本, 引, 传, 说, 篇, 说文, 一, 据           </td></tr><tr><td style=\"padding-left:0.75em;\">Topic 76</td><td> 天下, 能, 民, 事, 可, 道, 之以, 而不, 仁, 圣           </td></tr><tr><td style=\"padding-left:0.75em;\">Topic 77</td><td> 為, 二, 於, 晉, 侯, 國, 謂, 諸, 將, 楚           </td></tr><tr><td style=\"padding-left:0.75em;\">Topic 78</td><td> 和, 刘勰, 字, 作品, 这里, 文学, 等, 对, 1, 2           </td></tr><tr><td style=\"padding-left:0.75em;\">Topic 79</td><td> 白, 赤, 一, 长, 车, 黑, 牛, 器, 直, 参           </td></tr><tr><td style=\"padding-left:0.75em;\">Topic 80</td><td> 王, 汉, 楚, 项, 将, 陈, 使, 汉王, 信, 沛           </td></tr><tr><td style=\"padding-left:0.75em;\">Topic 81</td><td> 龟, 吉, 卜, 病, 徙, 凶, 吉凶, 宅, 兆, 神           </td></tr><tr><td style=\"padding-left:0.75em;\">Topic 82</td><td> 道, 生, 德, 而不, 不可, 行, 日, 守, 观, 心           </td></tr><tr><td style=\"padding-left:0.75em;\">Topic 83</td><td> 氣, 於, 病, 帝, 為, 寒, 治, 上, 經, 生           </td></tr><tr><td style=\"padding-left:0.75em;\">Topic 84</td><td> 則, 為, 國, 民, 治, 令, 行, 上, 義, 勝           </td></tr><tr><td style=\"padding-left:0.75em;\">Topic 85</td><td> 升, 汤, 方, 服, 主, 味, 右, 取, 煮, 去           </td></tr><tr><td style=\"padding-left:0.75em;\">Topic 86</td><td> 孔子, 孔, 闻, 子贡, 夫子, 鲁, 子路, 对曰, 士, 诗曰          </td></tr><tr><td style=\"padding-left:0.75em;\">Topic 87</td><td> 秦, 楚, 齐, 赵, 韩, 魏, 後, 燕, 天下, 臣           </td></tr><tr><td style=\"padding-left:0.75em;\">Topic 88</td><td> 时, 吏, 郡, 闻, 奏, 举, 数, 宜, 事, 使           </td></tr><tr><td style=\"padding-left:0.75em;\">Topic 89</td><td> 周, 立, 殷, 帝, 伐, 诸侯, 德, 纣, 夏, 武           </td></tr><tr><td style=\"padding-left:0.75em;\">Topic 90</td><td> 遂, 女, 死, 使, 母, 妾, 及, 去, 家, 解           </td></tr><tr><td style=\"padding-left:0.75em;\">Topic 91</td><td> 篇, 时, 传, 书, 指, 汉, 卷, 说, 汉书, 典           </td></tr><tr><td style=\"padding-left:0.75em;\">Topic 92</td><td> 官, 石, 令, 主, 丞, 本, 二, 长, 比, 千石          </td></tr><tr><td style=\"padding-left:0.75em;\">Topic 93</td><td> 楚, 使, 氏, 卫, 请, 伐, 孙, 子曰, 陈, 告           </td></tr><tr><td style=\"padding-left:0.75em;\">Topic 94</td><td> 十, 日, 月, 度, 余, 二, 一, 法, 历, 朔           </td></tr><tr><td style=\"padding-left:0.75em;\">Topic 95</td><td> 氏, 姓, 文, 生, 周, 叔, 十, 赵, 晋, 世           </td></tr><tr><td style=\"padding-left:0.75em;\">Topic 96</td><td> 祠, 上, 泰山, 封, 天子, 黄帝, 泰, 一, 封禅, 神           </td></tr><tr><td style=\"padding-left:0.75em;\">Topic 97</td><td> 臣, 王, 贤, 主, 国, 不能, 行, 死, 天下, 使           </td></tr><tr><td style=\"padding-left:0.75em;\">Topic 98</td><td> 事, 大夫, 及, 食, 诸侯, 治, 民, 礼, 府, 祭           </td></tr><tr><td style=\"padding-left:0.75em;\">Topic 99</td><td> 时, 数, 及, 天下, 以为, 事, 闻, 田, 出, 生           </td></tr></table>"
      ],
      "text/plain": [
       "[LabeledColumn([(u'\\u8c13\\u4e4b', 0.03985420987010002),\n",
       "        (u'\\u5434', 0.01346581894904375), (u'\\u9ece', 0.013388433493673801),\n",
       "        ..., (u'\\u7e8d', 7.738523777334194e-07),\n",
       "        (u'\\u5bbd\\u4ec1', 7.738523777334194e-07),\n",
       "        (u'\\u65e0\\u95e8', 7.738523777334194e-07)], \n",
       "       dtype=[('word', 'O'), ('value', '<f4')]),\n",
       " LabeledColumn([(u'\\u738b', 0.049134571105241776),\n",
       "        (u'\\u592a\\u540e', 0.029029248282313347),\n",
       "        (u'\\u7acb', 0.02793656662106514), ...,\n",
       "        (u'\\u5bb9\\u5bb9', 3.6422653693080065e-07),\n",
       "        (u'\\u5bb9\\u57ce', 3.6422653693080065e-07),\n",
       "        (u'\\u5916\\u51fa', 3.6422653693080065e-07)], \n",
       "       dtype=[('word', 'O'), ('value', '<f4')]),\n",
       " LabeledColumn([(u'\\u523a', 0.025155026465654373),\n",
       "        (u'\\u9ec3', 0.024106917902827263), (u'\\u8db3', 0.02153031900525093),\n",
       "        ..., (u'\\u52b3\\u9038', 4.367111898773146e-07),\n",
       "        (u'\\u8ae6', 4.367111898773146e-07),\n",
       "        (u'\\u56f0\\u4e4f', 4.367111898773146e-07)], \n",
       "       dtype=[('word', 'O'), ('value', '<f4')]),\n",
       " LabeledColumn([(u'\\u672c', 0.07875248789787292), (u'\\u9b91', 0.0564035028219223),\n",
       "        (u'\\u664f\\u5b50', 0.043091654777526855), ...,\n",
       "        (u'\\u53c8\\u5982', 2.868929982469126e-07),\n",
       "        (u'\\u8825', 2.868929982469126e-07), (u'1', 2.868929982469126e-07)], \n",
       "       dtype=[('word', 'O'), ('value', '<f4')]),\n",
       " LabeledColumn([(u'\\u5c06', 0.021530315279960632), (u'\\u654c', 0.0199192576110363),\n",
       "        (u'\\u5175', 0.017795590683817863), ...,\n",
       "        (u'\\u7f01', 7.322980195567652e-07),\n",
       "        (u'\\u5be5\\u5ed3', 7.322980195567652e-07),\n",
       "        (u'1', 7.322980195567652e-07)], \n",
       "       dtype=[('word', 'O'), ('value', '<f4')]),\n",
       " LabeledColumn([(u'\\u5175', 0.02680499106645584), (u'\\u653b', 0.0189720019698143),\n",
       "        (u'\\u4e00', 0.017750343307852745), ...,\n",
       "        (u'\\u6709\\u53f8', 3.5931105912823114e-07),\n",
       "        (u'\\u6709\\u52b3', 3.5931105912823114e-07),\n",
       "        (u'1', 3.5931105912823114e-07)], \n",
       "       dtype=[('word', 'O'), ('value', '<f4')]),\n",
       " LabeledColumn([(u'\\u5929', 0.016604341566562653),\n",
       "        (u'\\u6c14', 0.015994135290384293),\n",
       "        (u'\\u751f', 0.015962019562721252), ...,\n",
       "        (u'\\u5b9a\\u5236', 3.2116059855979984e-07),\n",
       "        (u'\\u5b9a\\u5219', 3.2116059855979984e-07),\n",
       "        (u'1', 3.2116059855979984e-07)], \n",
       "       dtype=[('word', 'O'), ('value', '<f4')]),\n",
       " LabeledColumn([(u'\\u8109', 0.050137318670749664),\n",
       "        (u'\\u75c5', 0.034695375710725784),\n",
       "        (u'\\u6c14', 0.014799023978412151), ...,\n",
       "        (u'\\u628a', 4.949336016579764e-07),\n",
       "        (u'\\u6287', 4.949336016579764e-07), (u'1', 4.949336016579764e-07)], \n",
       "       dtype=[('word', 'O'), ('value', '<f4')]),\n",
       " LabeledColumn([(u'\\u4ee4', 0.02019626833498478), (u'\\u4e8b', 0.014113979414105415),\n",
       "        (u'\\u590d', 0.013662771321833134), ...,\n",
       "        (u'\\u7bc1', 1.8048318395358365e-07),\n",
       "        (u'\\u5b88\\u5fc3', 1.8048318395358365e-07),\n",
       "        (u'\\u65e0\\u95e8', 1.8048318395358365e-07)], \n",
       "       dtype=[('word', 'O'), ('value', '<f4')]),\n",
       " LabeledColumn([(u'\\u5341', 0.017458830028772354),\n",
       "        (u'\\u590f', 0.016696278005838394),\n",
       "        (u'\\u6625', 0.015572517178952694), ...,\n",
       "        (u'\\u7fe5', 4.013427883364784e-07),\n",
       "        (u'\\u7fe9', 4.013427883364784e-07),\n",
       "        (u'\\u65e0\\u95e8', 4.013427883364784e-07)], \n",
       "       dtype=[('word', 'O'), ('value', '<f4')]),\n",
       " LabeledColumn([(u'\\u5149\\u6b66', 0.019788367673754692),\n",
       "        (u'\\u4faf', 0.018736353144049644),\n",
       "        (u'\\u66f4\\u59cb', 0.01823539473116398), ...,\n",
       "        (u'\\u82b3\\u9999', 5.009581514059391e-07),\n",
       "        (u'\\u5739', 5.009581514059391e-07),\n",
       "        (u'\\u58af', 5.009581514059391e-07)], \n",
       "       dtype=[('word', 'O'), ('value', '<f4')]),\n",
       " LabeledColumn([(u'\\u6c11', 0.01723650097846985), (u'\\u5fb7', 0.016636084765195847),\n",
       "        (u'\\u5929\\u4e0b', 0.014527304098010063), ...,\n",
       "        (u'\\u7cf1', 1.4644298573784909e-07),\n",
       "        (u'\\u5bab\\u6bbf', 1.4644298573784909e-07),\n",
       "        (u'1', 1.4644298573784909e-07)], \n",
       "       dtype=[('word', 'O'), ('value', '<f4')]),\n",
       " LabeledColumn([(u'\\u6587', 0.009310265071690083),\n",
       "        (u'\\u7ae0', 0.008885877206921577),\n",
       "        (u'\\u89c2', 0.007824908941984177), ...,\n",
       "        (u'\\u7a77\\u5bc7', 2.6524190843701945e-07),\n",
       "        (u'\\u7a77\\u6781', 2.6524190843701945e-07),\n",
       "        (u'\\u65e0\\u95e8', 2.6524190843701945e-07)], \n",
       "       dtype=[('word', 'O'), ('value', '<f4')]),\n",
       " LabeledColumn([(u'\\u5e1d', 0.02911340817809105), (u'\\u62dc', 0.011859615333378315),\n",
       "        (u'\\u9042', 0.011509597301483154), ...,\n",
       "        (u'\\u6234\\u80dc', 2.0589232008205727e-07),\n",
       "        (u'\\u56de\\u56de', 2.0589232008205727e-07),\n",
       "        (u'\\u8131\\u8eab', 2.0589232008205727e-07)], \n",
       "       dtype=[('word', 'O'), ('value', '<f4')]),\n",
       " LabeledColumn([(u'\\u5b50\\u66f0', 0.04522109404206276),\n",
       "        (u'\\u5929\\u4e0b', 0.01441928744316101),\n",
       "        (u'\\u6076', 0.010049281641840935), ...,\n",
       "        (u'\\u5b98\\u7235', 1.9251109506512876e-07),\n",
       "        (u'\\u5b98\\u5bfa', 1.9251109506512876e-07),\n",
       "        (u'1', 1.9251109506512876e-07)], \n",
       "       dtype=[('word', 'O'), ('value', '<f4')]),\n",
       " LabeledColumn([(u'\\u4e00', 0.05686400458216667), (u'\\u5b57', 0.03689082711935043),\n",
       "        (u'\\u7121', 0.02037198469042778), ...,\n",
       "        (u'\\u61c8\\u6020', 2.2143198918911366e-07),\n",
       "        (u'\\u61c3', 2.2143198918911366e-07), (u'1', 2.2143198918911366e-07)], \n",
       "       dtype=[('word', 'O'), ('value', '<f4')]),\n",
       " LabeledColumn([(u'\\u65bc', 0.3716878294944763), (u'\\u53ca', 0.0153174614533782),\n",
       "        (u'\\u5f4a', 0.013727468438446522), ...,\n",
       "        (u'\\u5bdf\\u5bdf', 5.299971235217527e-07),\n",
       "        (u'\\u7feb', 5.299971235217527e-07),\n",
       "        (u'\\u65e0\\u95e8', 5.299971235217527e-07)], \n",
       "       dtype=[('word', 'O'), ('value', '<f4')]),\n",
       " LabeledColumn([(u'\\u65bc', 0.03712174668908119), (u'\\u6578', 0.033626869320869446),\n",
       "        (u'\\u842c', 0.022103216499090195), ...,\n",
       "        (u'\\u5929\\u5d29', 4.722803907952766e-07),\n",
       "        (u'\\u5929\\u5e9c', 4.722803907952766e-07),\n",
       "        (u'1', 4.722803907952766e-07)], \n",
       "       dtype=[('word', 'O'), ('value', '<f4')]),\n",
       " LabeledColumn([(u'\\u6cbb', 0.024762477725744247), (u'\\u4e49', 0.01447899267077446),\n",
       "        (u'\\u4e0a', 0.012202301062643528), ...,\n",
       "        (u'\\u660e\\u5a01', 2.558078335823666e-07),\n",
       "        (u'\\u660e\\u5929', 2.558078335823666e-07),\n",
       "        (u'1', 2.558078335823666e-07)], \n",
       "       dtype=[('word', 'O'), ('value', '<f4')]),\n",
       " LabeledColumn([(u'\\u4e27', 0.02769184671342373), (u'\\u54ed', 0.019479019567370415),\n",
       "        (u'\\u670d', 0.017286065965890884), ...,\n",
       "        (u'\\u5bc6\\u8fe9', 4.29990507200273e-07),\n",
       "        (u'\\u5bc6\\u4ee4', 4.29990507200273e-07),\n",
       "        (u'\\u8365', 4.29990507200273e-07)], \n",
       "       dtype=[('word', 'O'), ('value', '<f4')]),\n",
       " LabeledColumn([(u'\\u7684', 0.2032945156097412), (u'\\u6307', 0.02908245660364628),\n",
       "        (u'\\u6587', 0.019143134355545044), ...,\n",
       "        (u'\\u6240\\u601d', 1.5652460660930956e-07),\n",
       "        (u'\\u6240\\u5f97', 1.5652460660930956e-07),\n",
       "        (u'1', 1.5652460660930956e-07)], \n",
       "       dtype=[('word', 'O'), ('value', '<f4')]),\n",
       " LabeledColumn([(u'\\u6d4b', 0.052008870989084244), (u'\\u6b21', 0.05077521875500679),\n",
       "        (u'\\u8d1e', 0.008116789162158966), ...,\n",
       "        (u'\\u591a\\u53d1', 6.492905413324479e-07),\n",
       "        (u'\\u81ea\\u5c3d', 6.492905413324479e-07),\n",
       "        (u'\\u68e3\\u68e3', 6.492905413324479e-07)], \n",
       "       dtype=[('word', 'O'), ('value', '<f4')]),\n",
       " LabeledColumn([(u'\\u8f7d', 0.00891873799264431), (u'\\u4e50', 0.008836161345243454),\n",
       "        (u'\\u91c7', 0.00813425611704588), ...,\n",
       "        (u'\\u5b9d\\u5251', 4.1288501506642206e-07),\n",
       "        (u'\\u7c3f', 4.1288501506642206e-07),\n",
       "        (u'\\uff5e', 4.1288501506642206e-07)], \n",
       "       dtype=[('word', 'O'), ('value', '<f4')]),\n",
       " LabeledColumn([(u'\\u5c06\\u519b', 0.03453574702143669),\n",
       "        (u'\\u5c06', 0.022968292236328125),\n",
       "        (u'\\u8d3c', 0.016537286341190338), ...,\n",
       "        (u'\\u5b66\\u4e1a', 4.175973060682736e-07),\n",
       "        (u'\\u5b65', 4.175973060682736e-07),\n",
       "        (u'\\u65e0\\u95e8', 4.175973060682736e-07)], \n",
       "       dtype=[('word', 'O'), ('value', '<f4')]),\n",
       " LabeledColumn([(u'\\u5175', 0.02408575639128685), (u'\\u9042', 0.020558955147862434),\n",
       "        (u'\\u7b49', 0.019412027671933174), ...,\n",
       "        (u'\\u5b89\\u80fd', 2.8673150609392906e-07),\n",
       "        (u'\\u5b89\\u7f6e', 2.8673150609392906e-07),\n",
       "        (u'\\u5889', 2.8673150609392906e-07)], \n",
       "       dtype=[('word', 'O'), ('value', '<f4')]),\n",
       " LabeledColumn([(u'\\u738b', 0.11346512287855148), (u'\\u5468', 0.021677158772945404),\n",
       "        (u'\\u6b66\\u738b', 0.01650272123515606), ...,\n",
       "        (u'\\u5bb9\\u57ce', 4.6616494842055545e-07),\n",
       "        (u'\\u7edd\\u65e0', 4.6616494842055545e-07),\n",
       "        (u'\\u65e0\\u95e8', 4.6616494842055545e-07)], \n",
       "       dtype=[('word', 'O'), ('value', '<f4')]),\n",
       " LabeledColumn([(u'\\u5584', 0.01605807989835739), (u'\\u6027', 0.015659356489777565),\n",
       "        (u'\\u5723\\u4eba', 0.014789411798119545), ...,\n",
       "        (u'\\u5996\\u8a00', 3.624763564857858e-07),\n",
       "        (u'\\u90b0', 3.624763564857858e-07),\n",
       "        (u'\\u820a', 3.624763564857858e-07)], \n",
       "       dtype=[('word', 'O'), ('value', '<f4')]),\n",
       " LabeledColumn([(u'\\u4ea1', 0.012049442157149315),\n",
       "        (u'\\u4f20', 0.011946982704102993),\n",
       "        (u'\\u6c49', 0.010615008883178234), ...,\n",
       "        (u'\\u5961', 2.0491880547979235e-07),\n",
       "        (u'\\u6c49\\u5e73\\u5e1d', 2.0491880547979235e-07),\n",
       "        (u'\\u7ef8', 2.0491880547979235e-07)], \n",
       "       dtype=[('word', 'O'), ('value', '<f4')]),\n",
       " LabeledColumn([(u'\\u6587', 0.014948173426091671),\n",
       "        (u'\\u5b5f\\u5b50', 0.014413127675652504),\n",
       "        (u'\\u5b54\\u5b50', 0.012172624468803406), ...,\n",
       "        (u'\\u65e0\\u95fb', 3.344032393215457e-07),\n",
       "        (u'\\u65e0\\u95f4', 3.344032393215457e-07),\n",
       "        (u'1', 3.344032393215457e-07)], \n",
       "       dtype=[('word', 'O'), ('value', '<f4')]),\n",
       " LabeledColumn([(u'\\u5308\\u5974', 0.03655511513352394),\n",
       "        (u'\\u5355\\u4e8e', 0.03505327180027962),\n",
       "        (u'\\u5c06\\u519b', 0.03397194668650627), ...,\n",
       "        (u'\\u6240\\u8bbe', 3.003679580615426e-07),\n",
       "        (u'\\u556e', 3.003679580615426e-07),\n",
       "        (u'\\u71a0', 3.003679580615426e-07)], \n",
       "       dtype=[('word', 'O'), ('value', '<f4')]),\n",
       " LabeledColumn([(u'\\u540f', 0.03955674171447754), (u'\\u6c11', 0.03234080970287323),\n",
       "        (u'\\u4ee4', 0.02010653167963028), ...,\n",
       "        (u'\\u5bab\\u5ba4', 3.279964744251629e-07),\n",
       "        (u'\\u5bab\\u5211', 3.279964744251629e-07),\n",
       "        (u'\\u821e\\u8005', 3.279964744251629e-07)], \n",
       "       dtype=[('word', 'O'), ('value', '<f4')]),\n",
       " LabeledColumn([(u'\\u4e0a', 0.04114341363310814),\n",
       "        (u'\\u4e1e\\u76f8', 0.02312738634645939),\n",
       "        (u'\\u965b\\u4e0b', 0.01690908707678318), ...,\n",
       "        (u'\\u5baa', 4.2591045712470077e-07),\n",
       "        (u'\\u5ba6\\u5b98', 4.2591045712470077e-07),\n",
       "        (u'\\u65e0\\u95e8', 4.2591045712470077e-07)], \n",
       "       dtype=[('word', 'O'), ('value', '<f4')]),\n",
       " LabeledColumn([(u'\\u66f8', 0.054637275636196136),\n",
       "        (u'\\u6f22', 0.026682907715439796),\n",
       "        (u'\\u5377', 0.024639127776026726), ...,\n",
       "        (u'\\u5316\\u4eba', 2.2708643143687368e-07),\n",
       "        (u'\\u5316\\u6210', 2.2708643143687368e-07),\n",
       "        (u'\\u6613\\u6797', 2.2708643143687368e-07)], \n",
       "       dtype=[('word', 'O'), ('value', '<f4')]),\n",
       " LabeledColumn([(u'\\u6c34', 0.02430334873497486), (u'\\u6cb3', 0.019588593393564224),\n",
       "        (u'\\u4e1c', 0.015019655227661133), ...,\n",
       "        (u'\\u5b98\\u5bfa', 4.86056762838416e-07),\n",
       "        (u'\\u5b98\\u540f', 4.86056762838416e-07),\n",
       "        (u'\\u82e8', 4.86056762838416e-07)], \n",
       "       dtype=[('word', 'O'), ('value', '<f4')]),\n",
       " LabeledColumn([(u'\\u79e6', 0.10488219559192657), (u'\\u738b', 0.1038598120212555),\n",
       "        (u'\\u9b4f', 0.0363476388156414), ...,\n",
       "        (u'\\u5bf9\\u95e8', 3.5254365116088593e-07),\n",
       "        (u'\\u7ed3\\u9a77\\u8fde\\u9a91', 3.5254365116088593e-07),\n",
       "        (u'\\u65e0\\u95e8', 3.5254365116088593e-07)], \n",
       "       dtype=[('word', 'O'), ('value', '<f4')]),\n",
       " LabeledColumn([(u'\\u83bd', 0.049124542623758316), (u'\\u56fd', 0.03105342574417591),\n",
       "        (u'\\u4faf', 0.023247048258781433), ...,\n",
       "        (u'\\u5b58\\u8eab', 4.3129116988893657e-07),\n",
       "        (u'\\u5b58\\u629a', 4.3129116988893657e-07),\n",
       "        (u'\\u8205', 4.3129116988893657e-07)], \n",
       "       dtype=[('word', 'O'), ('value', '<f4')]),\n",
       " LabeledColumn([(u'\\u4f7f', 0.012909277342259884),\n",
       "        (u'\\u4e0d\\u80fd', 0.012120719067752361),\n",
       "        (u'\\u547d', 0.011302955448627472), ...,\n",
       "        (u'\\u5b89\\u5bcc', 2.9205818918853765e-07),\n",
       "        (u'\\u7d70', 2.9205818918853765e-07), (u'1', 2.9205818918853765e-07)], \n",
       "       dtype=[('word', 'O'), ('value', '<f4')]),\n",
       " LabeledColumn([(u'\\u6c11', 0.021990660578012466),\n",
       "        (u'\\u547d', 0.018430538475513458), (u'\\u5c14', 0.01501572597771883),\n",
       "        ..., (u'\\u65f6\\u6c14', 2.421849956135702e-07),\n",
       "        (u'\\u65f6\\u65f6', 2.421849956135702e-07),\n",
       "        (u'\\u65e0\\u95e8', 2.421849956135702e-07)], \n",
       "       dtype=[('word', 'O'), ('value', '<f4')]),\n",
       " LabeledColumn([(u'\\u8d8a', 0.03716869652271271), (u'\\u5434', 0.03173961490392685),\n",
       "        (u'\\u695a', 0.027841808274388313), ...,\n",
       "        (u'\\u5b89\\u4e0a', 3.4801792025973555e-07),\n",
       "        (u'\\u7d6a', 3.4801792025973555e-07),\n",
       "        (u'\\u65e0\\u95e8', 3.4801792025973555e-07)], \n",
       "       dtype=[('word', 'O'), ('value', '<f4')]),\n",
       " LabeledColumn([(u'\\u796d', 0.05099332705140114), (u'\\u7940', 0.03428058698773384),\n",
       "        (u'\\u5e99', 0.021223757416009903), ...,\n",
       "        (u'\\u66b4\\u5175', 4.747933246562752e-07),\n",
       "        (u'\\u66b1', 4.747933246562752e-07),\n",
       "        (u'\\u65e0\\u95e8', 4.747933246562752e-07)], \n",
       "       dtype=[('word', 'O'), ('value', '<f4')]),\n",
       " LabeledColumn([(u'\\u6c0f', 0.032031454145908356),\n",
       "        (u'\\u6f22', 0.023375172168016434),\n",
       "        (u'\\u985e', 0.019382206723093987), ...,\n",
       "        (u'\\u57ce\\u4e0b\\u4e4b\\u76df', 2.914570700340846e-07),\n",
       "        (u'\\u57ce\\u5b50', 2.914570700340846e-07),\n",
       "        (u'1', 2.914570700340846e-07)], \n",
       "       dtype=[('word', 'O'), ('value', '<f4')]),\n",
       " LabeledColumn([(u'\\u967d', 0.04713216423988342), (u'\\u5247', 0.0467274934053421),\n",
       "        (u'\\u9670', 0.0435139536857605), ...,\n",
       "        (u'\\u51ac\\u5bd2', 2.380398029799835e-07),\n",
       "        (u'\\u51ac\\u81f3', 2.380398029799835e-07),\n",
       "        (u'1', 2.380398029799835e-07)], \n",
       "       dtype=[('word', 'O'), ('value', '<f4')]),\n",
       " LabeledColumn([(u'\\u9a6c', 0.016171786934137344),\n",
       "        (u'\\u80fd', 0.012843173928558826),\n",
       "        (u'\\u4e00', 0.011345298029482365), ...,\n",
       "        (u'\\u5bc6\\u53bf', 2.773840890313295e-07),\n",
       "        (u'\\u5bc6\\u4e91', 2.773840890313295e-07),\n",
       "        (u'\\uff5e', 2.773840890313295e-07)], \n",
       "       dtype=[('word', 'O'), ('value', '<f4')]),\n",
       " LabeledColumn([(u'\\u664b', 0.037845127284526825),\n",
       "        (u'\\u90d1', 0.026244133710861206), (u'\\u5e08', 0.02176622487604618),\n",
       "        ..., (u'\\u5931\\u548c', 1.8894110098699457e-07),\n",
       "        (u'\\u5931\\u52bf', 1.8894110098699457e-07),\n",
       "        (u'\\u65e0\\u95e8', 1.8894110098699457e-07)], \n",
       "       dtype=[('word', 'O'), ('value', '<f4')]),\n",
       " LabeledColumn([(u'\\u8d24', 0.021233929321169853),\n",
       "        (u'\\u8fdb', 0.014293746091425419),\n",
       "        (u'\\u884c', 0.011760029010474682), ...,\n",
       "        (u'\\u66f4\\u59cb', 2.754038064267661e-07),\n",
       "        (u'\\u66f4\\u591a', 2.754038064267661e-07),\n",
       "        (u'1', 2.754038064267661e-07)], \n",
       "       dtype=[('word', 'O'), ('value', '<f4')]),\n",
       " LabeledColumn([(u'\\u4faf', 0.0339982695877552), (u'\\u51fb', 0.03068503364920616),\n",
       "        (u'\\u519b', 0.01647692732512951), ...,\n",
       "        (u'\\u62d2\\u7edd', 2.984893683333212e-07),\n",
       "        (u'\\u71ac', 2.984893683333212e-07),\n",
       "        (u'\\u76f8\\u9a6c', 2.984893683333212e-07)], \n",
       "       dtype=[('word', 'O'), ('value', '<f4')]),\n",
       " LabeledColumn([(u'\\u6708', 0.018668852746486664), (u'\\u884c', 0.01835472136735916),\n",
       "        (u'\\u59cb', 0.01512365136295557), ...,\n",
       "        (u'\\u5ba2\\u6c14', 4.487592661917006e-07),\n",
       "        (u'\\u5ba2\\u6b7b', 4.487592661917006e-07),\n",
       "        (u'\\u65e0\\u95e8', 4.487592661917006e-07)], \n",
       "       dtype=[('word', 'O'), ('value', '<f4')]),\n",
       " LabeledColumn([(u'\\u5c06', 0.01627190411090851),\n",
       "        (u'\\u5bf9\\u66f0', 0.010896985419094563),\n",
       "        (u'\\u4ee4', 0.009487170726060867), ...,\n",
       "        (u'\\u65f6\\u5149', 2.9371108212217223e-07),\n",
       "        (u'\\u65f6\\u4f1a', 2.9371108212217223e-07),\n",
       "        (u'1', 2.9371108212217223e-07)], \n",
       "       dtype=[('word', 'O'), ('value', '<f4')]),\n",
       " LabeledColumn([(u'\\u6c11', 0.028796644881367683),\n",
       "        (u'\\u56fd', 0.008902767673134804),\n",
       "        (u'\\u5229', 0.007807062938809395), ...,\n",
       "        (u'\\u660e\\u5e1d', 1.7120360951139446e-07),\n",
       "        (u'\\u660e\\u5bdf', 1.7120360951139446e-07),\n",
       "        (u'1', 1.7120360951139446e-07)], \n",
       "       dtype=[('word', 'O'), ('value', '<f4')]),\n",
       " LabeledColumn([(u'\\u751f', 0.017341535538434982),\n",
       "        (u'\\u5929', 0.014378154650330544),\n",
       "        (u'\\u65f6', 0.011112949810922146), ...,\n",
       "        (u'\\u5b89\\u5750', 2.743867639765085e-07),\n",
       "        (u'\\u5b89\\u548c', 2.743867639765085e-07),\n",
       "        (u'\\u81f4\\u6b7b', 2.743867639765085e-07)], \n",
       "       dtype=[('word', 'O'), ('value', '<f4')]),\n",
       " LabeledColumn([(u'\\u4faf', 0.03651526942849159), (u'\\u4e0a', 0.01837024837732315),\n",
       "        (u'\\u5c06\\u519b', 0.015342668630182743), ...,\n",
       "        (u'\\u5b59\\u745e', 2.0456599258977803e-07),\n",
       "        (u'\\u5b59\\u6743', 2.0456599258977803e-07),\n",
       "        (u'\\u65e0\\u95e8', 2.0456599258977803e-07)], \n",
       "       dtype=[('word', 'O'), ('value', '<f4')]),\n",
       " LabeledColumn([(u'\\u65bc', 0.05484941974282265), (u'\\u7121', 0.04188794270157814),\n",
       "        (u'\\u5fc3', 0.016868216916918755), ...,\n",
       "        (u'\\u534e\\u9634', 2.2580958614071278e-07),\n",
       "        (u'\\u86fe\\u7709', 2.2580958614071278e-07),\n",
       "        (u'1', 2.2580958614071278e-07)], \n",
       "       dtype=[('word', 'O'), ('value', '<f4')]),\n",
       " LabeledColumn([(u'\\u4e00', 0.027000056579709053),\n",
       "        (u'\\u81e3', 0.009829455986618996),\n",
       "        (u'\\u4f59', 0.008463148958981037), ...,\n",
       "        (u'\\u591c\\u601d', 2.039261914887902e-07),\n",
       "        (u'\\u591c\\u884c', 2.039261914887902e-07),\n",
       "        (u'\\u5584\\u56e0', 2.039261914887902e-07)], \n",
       "       dtype=[('word', 'O'), ('value', '<f4')]),\n",
       " LabeledColumn([(u'\\u7235', 0.04113970696926117), (u'\\u5750', 0.030295096337795258),\n",
       "        (u'\\u4e3b\\u4eba', 0.026211904361844063), ...,\n",
       "        (u'\\u5929\\u5e74', 4.390525987219007e-07),\n",
       "        (u'\\u800c\\u540e', 4.390525987219007e-07),\n",
       "        (u'\\u5793', 4.390525987219007e-07)], \n",
       "       dtype=[('word', 'O'), ('value', '<f4')]),\n",
       " LabeledColumn([(u'\\u661f', 0.03674963489174843), (u'\\u65e5', 0.033282727003097534),\n",
       "        (u'\\u51fa', 0.021755266934633255), ...,\n",
       "        (u'\\u5bbf\\u6614', 4.333627998676093e-07),\n",
       "        (u'\\u5bbf\\u536b', 4.333627998676093e-07),\n",
       "        (u'\\uff5e', 4.333627998676093e-07)], \n",
       "       dtype=[('word', 'O'), ('value', '<f4')]),\n",
       " LabeledColumn([(u'\\u70ba', 0.036175504326820374),\n",
       "        (u'\\u4e00', 0.023863889276981354),\n",
       "        (u'\\u8207', 0.018973883241415024), ...,\n",
       "        (u'\\u71ce', 1.3324250858204323e-07),\n",
       "        (u'\\u86db', 1.3324250858204323e-07), (u'1', 1.3324250858204323e-07)], \n",
       "       dtype=[('word', 'O'), ('value', '<f4')]),\n",
       " LabeledColumn([(u'\\u90e1', 0.024123169481754303),\n",
       "        (u'\\u7f8c', 0.014518999494612217),\n",
       "        (u'\\u5357', 0.012399015948176384), ...,\n",
       "        (u'\\u6298\\u8170', 3.2120939863489184e-07),\n",
       "        (u'\\u8349\\u4e66', 3.2120939863489184e-07),\n",
       "        (u'\\u5819', 3.2120939863489184e-07)], \n",
       "       dtype=[('word', 'O'), ('value', '<f4')]),\n",
       " LabeledColumn([(u'\\u8c61', 0.050112802535295486),\n",
       "        (u'\\u5409', 0.029669441282749176),\n",
       "        (u'\\u4e0a', 0.023470010608434677), ...,\n",
       "        (u'\\u5bf9', 7.380267561529763e-07),\n",
       "        (u'\\u5bf8', 7.380267561529763e-07),\n",
       "        (u'\\u65e0\\u95e8', 7.380267561529763e-07)], \n",
       "       dtype=[('word', 'O'), ('value', '<f4')]),\n",
       " LabeledColumn([(u'\\u7121', 0.037997353821992874),\n",
       "        (u'\\u65bc', 0.021516937762498856),\n",
       "        (u'\\u8207', 0.014983917586505413), ...,\n",
       "        (u'\\u58ec\\u5348', 8.961610831192957e-08),\n",
       "        (u'\\u58ec\\u5b50', 8.961610831192957e-08),\n",
       "        (u'1', 8.961610831192957e-08)], \n",
       "       dtype=[('word', 'O'), ('value', '<f4')]),\n",
       " LabeledColumn([(u'\\u9f50', 0.023351144045591354),\n",
       "        (u'\\u664b', 0.019997868686914444),\n",
       "        (u'\\u9042', 0.018245020881295204), ...,\n",
       "        (u'\\u5b64\\u5f31', 1.5242146389482514e-07),\n",
       "        (u'\\u5b64\\u5be1', 1.5242146389482514e-07),\n",
       "        (u'\\u65e0\\u95e8', 1.5242146389482514e-07)], \n",
       "       dtype=[('word', 'O'), ('value', '<f4')]),\n",
       " LabeledColumn([(u'\\u65bc', 0.05347537249326706), (u'\\u5f8c', 0.02508748136460781),\n",
       "        (u'\\u6587', 0.019044263288378716), ...,\n",
       "        (u'\\u660e\\u660e', 5.078330218566407e-07),\n",
       "        (u'\\u660e\\u65f6', 5.078330218566407e-07),\n",
       "        (u'1', 5.078330218566407e-07)], \n",
       "       dtype=[('word', 'O'), ('value', '<f4')]),\n",
       " LabeledColumn([(u'\\u81e3', 0.026071006432175636),\n",
       "        (u'\\u4e0a', 0.019796626642346382),\n",
       "        (u'\\u9042', 0.014860548079013824), ...,\n",
       "        (u'\\u5b89\\u606f', 1.738053896360725e-07),\n",
       "        (u'\\u5b89\\u5fc3', 1.738053896360725e-07),\n",
       "        (u'\\u5750\\u5b9a', 1.738053896360725e-07)], \n",
       "       dtype=[('word', 'O'), ('value', '<f4')]),\n",
       " LabeledColumn([(u'\\u4e3b', 0.03506515175104141), (u'\\u81e3', 0.03359448164701462),\n",
       "        (u'\\u6cd5', 0.01733309030532837), ...,\n",
       "        (u'\\u5baa\\u7ae0', 2.100953224726254e-07),\n",
       "        (u'\\u5ba4\\u5185', 2.100953224726254e-07),\n",
       "        (u'\\u65e0\\u95e8', 2.100953224726254e-07)], \n",
       "       dtype=[('word', 'O'), ('value', '<f4')]),\n",
       " LabeledColumn([(u'\\u6625\\u79cb', 0.018919367343187332),\n",
       "        (u'\\u4e66', 0.018652906641364098),\n",
       "        (u'\\u5217\\u4f20', 0.015615234151482582), ...,\n",
       "        (u'\\u5c06\\u4f7f', 5.329243890628277e-07),\n",
       "        (u'\\u5c06\\u4f1a', 5.329243890628277e-07),\n",
       "        (u'\\u65e0\\u95e8', 5.329243890628277e-07)], \n",
       "       dtype=[('word', 'O'), ('value', '<f4')]),\n",
       " LabeledColumn([(u'\\u738b', 0.06789073348045349),\n",
       "        (u'\\u592a\\u5b50', 0.01630282960832119),\n",
       "        (u'\\u5f8c', 0.015584411099553108), ...,\n",
       "        (u'\\u7f28', 2.7631418220153137e-07),\n",
       "        (u'\\u7f2e', 2.7631418220153137e-07),\n",
       "        (u'\\u65e0\\u95e8', 2.7631418220153137e-07)], \n",
       "       dtype=[('word', 'O'), ('value', '<f4')]),\n",
       " LabeledColumn([(u'\\u7b49', 0.010328308679163456),\n",
       "        (u'\\u5353', 0.007327419705688953),\n",
       "        (u'\\u4ee4', 0.007277404889464378), ...,\n",
       "        (u'\\u6590', 2.5007381054820144e-07),\n",
       "        (u'\\u658c', 2.5007381054820144e-07),\n",
       "        (u'\\u65e0\\u95e8', 2.5007381054820144e-07)], \n",
       "       dtype=[('word', 'O'), ('value', '<f4')]),\n",
       " LabeledColumn([(u'\\u638c', 0.03396722674369812), (u'\\u5f92', 0.01944025605916977),\n",
       "        (u'\\u53f2', 0.01769701950252056), ...,\n",
       "        (u'\\u663e\\u51fa', 5.282529400574276e-07),\n",
       "        (u'\\u663c\\u6666', 5.282529400574276e-07),\n",
       "        (u'1', 5.282529400574276e-07)], \n",
       "       dtype=[('word', 'O'), ('value', '<f4')]),\n",
       " LabeledColumn([(u'\\u793c', 0.03454701602458954),\n",
       "        (u'\\u5b50\\u66f0', 0.02586415410041809),\n",
       "        (u'\\u4eb2', 0.01721208170056343), ...,\n",
       "        (u'\\u5bb6\\u5974', 3.07902638496671e-07),\n",
       "        (u'\\u5bb6\\u5728', 3.07902638496671e-07),\n",
       "        (u'\\uff5e', 3.07902638496671e-07)], \n",
       "       dtype=[('word', 'O'), ('value', '<f4')]),\n",
       " LabeledColumn([(u'\\u4e00', 0.044302619993686676),\n",
       "        (u'\\u70ba', 0.025457676500082016), (u'\\u4e8c', 0.02347399853169918),\n",
       "        ..., (u'\\u742c', 4.7230389554897556e-07),\n",
       "        (u'\\u5404\\u51fa', 4.7230389554897556e-07),\n",
       "        (u'\\u8258', 4.7230389554897556e-07)], \n",
       "       dtype=[('word', 'O'), ('value', '<f4')]),\n",
       " LabeledColumn([(u'\\u4e00', 0.042286526411771774), (u'\\u4f20', 0.04086238145828247),\n",
       "        (u'\\u94ce', 0.037101175636053085), ...,\n",
       "        (u'\\u7ecf\\u7eaa', 3.651651070413209e-07),\n",
       "        (u'\\u5b5d\\u987a', 3.651651070413209e-07),\n",
       "        (u'\\u65e0\\u95e8', 3.651651070413209e-07)], \n",
       "       dtype=[('word', 'O'), ('value', '<f4')]),\n",
       " LabeledColumn([(u'\\u4faf', 0.020845530554652214),\n",
       "        (u'\\u9f50', 0.020659826695919037), (u'\\u4f10', 0.01873314566910267),\n",
       "        ..., (u'\\u592b\\u541b', 2.3213004851641017e-07),\n",
       "        (u'\\u7f8e\\u8d28', 2.3213004851641017e-07),\n",
       "        (u'\\u65e0\\u95e8', 2.3213004851641017e-07)], \n",
       "       dtype=[('word', 'O'), ('value', '<f4')]),\n",
       " LabeledColumn([(u'\\u6e38', 0.010324498638510704),\n",
       "        (u'\\u4e0d\\u80fd', 0.010015659965574741),\n",
       "        (u'\\u795e', 0.009177381172776222), ...,\n",
       "        (u'\\u7df0', 4.411986083141528e-07),\n",
       "        (u'\\u5bb0\\u76f8', 4.411986083141528e-07),\n",
       "        (u'1', 4.411986083141528e-07)], \n",
       "       dtype=[('word', 'O'), ('value', '<f4')]),\n",
       " LabeledColumn([(u'\\u5fb7', 0.02844858169555664),\n",
       "        (u'\\u8c13\\u4e4b', 0.01563079096376896),\n",
       "        (u'\\u6587', 0.011112287640571594), ...,\n",
       "        (u'\\u7c4d\\u7530', 4.6107120965643844e-07),\n",
       "        (u'\\u7c53', 4.6107120965643844e-07), (u'1', 4.6107120965643844e-07)], \n",
       "       dtype=[('word', 'O'), ('value', '<f4')]),\n",
       " LabeledColumn([(u'\\u6c49', 0.02187761291861534), (u'\\u738b', 0.020974429324269295),\n",
       "        (u'\\u56fd', 0.01881682500243187), ...,\n",
       "        (u'\\u7f57\\u7f51', 5.017681132812868e-07),\n",
       "        (u'\\u5b8b\\u534e', 5.017681132812868e-07),\n",
       "        (u'\\u65e0\\u95e8', 5.017681132812868e-07)], \n",
       "       dtype=[('word', 'O'), ('value', '<f4')]),\n",
       " LabeledColumn([(u'\\u5bbe', 0.05647636950016022),\n",
       "        (u'\\u5927\\u592b', 0.02982272580265999),\n",
       "        (u'\\u53d7', 0.027026887983083725), ...,\n",
       "        (u'\\u800c\\u6b62', 4.659723344957456e-07),\n",
       "        (u'\\u5929\\u6c34', 4.659723344957456e-07),\n",
       "        (u'\\u5784', 4.659723344957456e-07)], \n",
       "       dtype=[('word', 'O'), ('value', '<f4')]),\n",
       " LabeledColumn([(u'\\u6309', 0.03436213731765747), (u'\\u5b57', 0.02964152581989765),\n",
       "        (u'\\u672c', 0.020779520273208618), ...,\n",
       "        (u'\\u5982\\u547d', 1.4480387733328826e-07),\n",
       "        (u'\\u7acb\\u5fb7', 1.4480387733328826e-07),\n",
       "        (u'\\u65e0\\u95e8', 1.4480387733328826e-07)], \n",
       "       dtype=[('word', 'O'), ('value', '<f4')]),\n",
       " LabeledColumn([(u'\\u5929\\u4e0b', 0.032830413430929184),\n",
       "        (u'\\u80fd', 0.01077854260802269), (u'\\u6c11', 0.009986428543925285),\n",
       "        ..., (u'\\u5b89\\u53ef', 1.4144869453502906e-07),\n",
       "        (u'\\u7c20', 1.4144869453502906e-07), (u'1', 1.4144869453502906e-07)], \n",
       "       dtype=[('word', 'O'), ('value', '<f4')]),\n",
       " LabeledColumn([(u'\\u70ba', 0.023867662996053696),\n",
       "        (u'\\u4e8c', 0.021224454045295715), (u'\\u65bc', 0.01892145909368992),\n",
       "        ..., (u'\\u6e34', 2.617037182517379e-07),\n",
       "        (u'\\u5fc3\\u5fd7', 2.617037182517379e-07),\n",
       "        (u'\\u808c\\u8089', 2.617037182517379e-07)], \n",
       "       dtype=[('word', 'O'), ('value', '<f4')]),\n",
       " LabeledColumn([(u'\\u548c', 0.013866249471902847),\n",
       "        (u'\\u5218\\u52f0', 0.01205090805888176),\n",
       "        (u'\\u5b57', 0.009475954808294773), ...,\n",
       "        (u'\\u5f12', 1.2874751575964183e-07),\n",
       "        (u'\\u6f66', 1.2874751575964183e-07),\n",
       "        (u'\\u65e0\\u95e8', 1.2874751575964183e-07)], \n",
       "       dtype=[('word', 'O'), ('value', '<f4')]),\n",
       " LabeledColumn([(u'\\u767d', 0.012115185149013996),\n",
       "        (u'\\u8d64', 0.011076814495027065),\n",
       "        (u'\\u4e00', 0.011076814495027065), ...,\n",
       "        (u'\\u6700\\u65e9', 8.653076406517357e-07),\n",
       "        (u'\\u6700\\u5f3a', 8.653076406517357e-07),\n",
       "        (u'1', 8.653076406517357e-07)], \n",
       "       dtype=[('word', 'O'), ('value', '<f4')]),\n",
       " LabeledColumn([(u'\\u738b', 0.03716417774558067), (u'\\u6c49', 0.021993417292833328),\n",
       "        (u'\\u695a', 0.019180690869688988), ...,\n",
       "        (u'\\u5a01\\u5fb7', 2.992258032463724e-07),\n",
       "        (u'\\u5a01\\u540d', 2.992258032463724e-07),\n",
       "        (u'\\u57ce\\u5317', 2.992258032463724e-07)], \n",
       "       dtype=[('word', 'O'), ('value', '<f4')]),\n",
       " LabeledColumn([(u'\\u9f9f', 0.021072259172797203),\n",
       "        (u'\\u5409', 0.018320076167583466),\n",
       "        (u'\\u535c', 0.017976053059101105), ...,\n",
       "        (u'\\u5bf9\\u7b56', 8.600562182436988e-07),\n",
       "        (u'\\u5bf9\\u6bd4', 8.600562182436988e-07),\n",
       "        (u'1', 8.600562182436988e-07)], \n",
       "       dtype=[('word', 'O'), ('value', '<f4')]),\n",
       " LabeledColumn([(u'\\u9053', 0.019440816715359688),\n",
       "        (u'\\u751f', 0.012936080805957317),\n",
       "        (u'\\u5fb7', 0.011070570908486843), ...,\n",
       "        (u'\\u66a7', 2.454615355418355e-07),\n",
       "        (u'\\u66a0', 2.454615355418355e-07), (u'1', 2.454615355418355e-07)], \n",
       "       dtype=[('word', 'O'), ('value', '<f4')]),\n",
       " LabeledColumn([(u'\\u6c23', 0.052213020622730255), (u'\\u65bc', 0.04629038646817207),\n",
       "        (u'\\u75c5', 0.039557281881570816), ...,\n",
       "        (u'\\u5317\\u6597', 3.117173719147104e-07),\n",
       "        (u'\\u8a5f', 3.117173719147104e-07),\n",
       "        (u'\\u81da', 3.117173719147104e-07)], \n",
       "       dtype=[('word', 'O'), ('value', '<f4')]),\n",
       " LabeledColumn([(u'\\u5247', 0.06096234545111656), (u'\\u70ba', 0.040077924728393555),\n",
       "        (u'\\u570b', 0.031785305589437485), ...,\n",
       "        (u'\\u7cb3\\u7c73', 9.553705382359112e-08),\n",
       "        (u'\\u7cb2\\u7136', 9.553705382359112e-08),\n",
       "        (u'1', 9.553705382359112e-08)], \n",
       "       dtype=[('word', 'O'), ('value', '<f4')]),\n",
       " LabeledColumn([(u'\\u5347', 0.0272100567817688), (u'\\u6c64', 0.024817997589707375),\n",
       "        (u'\\u65b9', 0.018912598490715027), ...,\n",
       "        (u'\\u9053\\u5bb6', 3.7375900774350157e-07),\n",
       "        (u'\\u60d5', 3.7375900774350157e-07), (u'1', 3.7375900774350157e-07)], \n",
       "       dtype=[('word', 'O'), ('value', '<f4')]),\n",
       " LabeledColumn([(u'\\u5b54\\u5b50', 0.036204155534505844),\n",
       "        (u'\\u5b54', 0.03314213454723358), (u'\\u95fb', 0.020894048735499382),\n",
       "        ..., (u'\\u5b50\\u6b32\\u5c45\\u4e5d\\u5937', 2.5731245045790274e-07),\n",
       "        (u'\\u7cbe\\u5999', 2.5731245045790274e-07),\n",
       "        (u'\\u65e0\\u95e8', 2.5731245045790274e-07)], \n",
       "       dtype=[('word', 'O'), ('value', '<f4')]),\n",
       " LabeledColumn([(u'\\u79e6', 0.057659752666950226), (u'\\u695a', 0.03455693647265434),\n",
       "        (u'\\u9f50', 0.034199003130197525), ...,\n",
       "        (u'\\u7ed3\\u9a77\\u8fde\\u9a91', 3.253914826473192e-07),\n",
       "        (u'\\u5b50\\u8bf4', 3.253914826473192e-07),\n",
       "        (u'1', 3.253914826473192e-07)], \n",
       "       dtype=[('word', 'O'), ('value', '<f4')]),\n",
       " LabeledColumn([(u'\\u65f6', 0.021844929084181786),\n",
       "        (u'\\u540f', 0.013342137448489666),\n",
       "        (u'\\u90e1', 0.010088657960295677), ...,\n",
       "        (u'\\u5af1', 1.3670070586613292e-07),\n",
       "        (u'\\u5aee', 1.3670070586613292e-07),\n",
       "        (u'\\u65e0\\u95e8', 1.3670070586613292e-07)], \n",
       "       dtype=[('word', 'O'), ('value', '<f4')]),\n",
       " LabeledColumn([(u'\\u5468', 0.02599743753671646), (u'\\u7acb', 0.02247527986764908),\n",
       "        (u'\\u6bb7', 0.021301226690411568), ...,\n",
       "        (u'\\u5927\\u5e73', 5.590720775217051e-07),\n",
       "        (u'\\u7387\\u5c14', 5.590720775217051e-07),\n",
       "        (u'\\u6bcc', 5.590720775217051e-07)], \n",
       "       dtype=[('word', 'O'), ('value', '<f4')]),\n",
       " LabeledColumn([(u'\\u9042', 0.0129771763458848), (u'\\u5973', 0.011310668662190437),\n",
       "        (u'\\u6b7b', 0.010764272883534431), ...,\n",
       "        (u'\\u7cc5', 2.731976849190687e-07),\n",
       "        (u'\\u7cc8', 2.731976849190687e-07),\n",
       "        (u'\\u65e0\\u95e8', 2.731976849190687e-07)], \n",
       "       dtype=[('word', 'O'), ('value', '<f4')]),\n",
       " LabeledColumn([(u'\\u7bc7', 0.020797457545995712),\n",
       "        (u'\\u65f6', 0.018730495125055313), (u'\\u4f20', 0.01615317352116108),\n",
       "        ..., (u'\\u6211\\u5f80', 2.551801401295961e-07),\n",
       "        (u'\\u8258', 2.551801401295961e-07),\n",
       "        (u'\\u56fd\\u7acb', 2.551801401295961e-07)], \n",
       "       dtype=[('word', 'O'), ('value', '<f4')]),\n",
       " LabeledColumn([(u'\\u5b98', 0.023702699691057205),\n",
       "        (u'\\u77f3', 0.021761571988463402),\n",
       "        (u'\\u4ee4', 0.019258538261055946), ...,\n",
       "        (u'\\u5c0a\\u957f', 5.108225309413683e-07),\n",
       "        (u'\\u7fc1\\u4e3b', 5.108225309413683e-07),\n",
       "        (u'\\u65e0\\u95e8', 5.108225309413683e-07)], \n",
       "       dtype=[('word', 'O'), ('value', '<f4')]),\n",
       " LabeledColumn([(u'\\u695a', 0.024455493316054344), (u'\\u4f7f', 0.02285425364971161),\n",
       "        (u'\\u6c0f', 0.012682735919952393), ...,\n",
       "        (u'\\u62db\\u6447', 1.8195898121575738e-07),\n",
       "        (u'\\u62d8\\u7559', 1.8195898121575738e-07),\n",
       "        (u'1', 1.8195898121575738e-07)], \n",
       "       dtype=[('word', 'O'), ('value', '<f4')]),\n",
       " LabeledColumn([(u'\\u5341', 0.025775982066988945), (u'\\u65e5', 0.02322165109217167),\n",
       "        (u'\\u6708', 0.016255294904112816), ...,\n",
       "        (u'\\u884c\\u6c14', 4.644232944883697e-07),\n",
       "        (u'\\u6298\\u8877', 4.644232944883697e-07),\n",
       "        (u'\\u5916\\u5fc3', 4.644232944883697e-07)], \n",
       "       dtype=[('word', 'O'), ('value', '<f4')]),\n",
       " LabeledColumn([(u'\\u6c0f', 0.07355865091085434), (u'\\u59d3', 0.02254963107407093),\n",
       "        (u'\\u6587', 0.019189512357115746), ...,\n",
       "        (u'\\u5ba3\\u6c49', 4.0483311636307917e-07),\n",
       "        (u'\\u5ba3\\u626c', 4.0483311636307917e-07),\n",
       "        (u'\\uff5e', 4.0483311636307917e-07)], \n",
       "       dtype=[('word', 'O'), ('value', '<f4')]),\n",
       " LabeledColumn([(u'\\u7960', 0.034819334745407104), (u'\\u4e0a', 0.02074362151324749),\n",
       "        (u'\\u6cf0\\u5c71', 0.01231671404093504), ...,\n",
       "        (u'\\u590f\\u6840', 4.630164767149836e-07),\n",
       "        (u'\\u590f\\u6708', 4.630164767149836e-07),\n",
       "        (u'\\u65e0\\u95e8', 4.630164767149836e-07)], \n",
       "       dtype=[('word', 'O'), ('value', '<f4')]),\n",
       " LabeledColumn([(u'\\u81e3', 0.04501279070973396), (u'\\u738b', 0.02103758603334427),\n",
       "        (u'\\u8d24', 0.015476598404347897), ...,\n",
       "        (u'\\u81ea\\u91cd', 2.62310521748077e-07),\n",
       "        (u'\\u5802', 2.62310521748077e-07), (u'\\u57e4', 2.62310521748077e-07)], \n",
       "       dtype=[('word', 'O'), ('value', '<f4')]),\n",
       " LabeledColumn([(u'\\u4e8b', 0.01516540627926588),\n",
       "        (u'\\u5927\\u592b', 0.014876548200845718),\n",
       "        (u'\\u53ca', 0.014768226072192192), ...,\n",
       "        (u'\\u65e2\\u800c', 3.6107215350966726e-07),\n",
       "        (u'\\u65e2\\u7136', 3.6107215350966726e-07),\n",
       "        (u'\\u65e0\\u95e8', 3.6107215350966726e-07)], \n",
       "       dtype=[('word', 'O'), ('value', '<f4')]),\n",
       " LabeledColumn([(u'\\u65f6', 0.016481172293424606), (u'\\u6570', 0.01567063480615616),\n",
       "        (u'\\u53ca', 0.014657462015748024), ...,\n",
       "        (u'\\u7e20', 2.2514933561978978e-07),\n",
       "        (u'\\u7e22', 2.2514933561978978e-07),\n",
       "        (u'\\u820d\\u5df1', 2.2514933561978978e-07)], \n",
       "       dtype=[('word', 'O'), ('value', '<f4')])]"
      ]
     },
     "execution_count": 54,
     "metadata": {},
     "output_type": "execute_result"
    }
   ],
   "source": [
    "v.topics()\n"
   ]
  },
  {
   "cell_type": "code",
   "execution_count": 53,
   "metadata": {},
   "outputs": [
    {
     "data": {
      "image/png": "[encoded data removed]",
      "text/plain": [
       "<matplotlib.figure.Figure at 0x7f21bcd40110>"
      ]
     },
     "metadata": {},
     "output_type": "display_data"
    },
    {
     "data": {
      "image/png": "[encoded data removed]",
      "text/plain": [
       "<matplotlib.figure.Figure at 0x7f21bd038690>"
      ]
     },
     "metadata": {},
     "output_type": "display_data"
    }
   ],
   "source": [
    "%matplotlib inline\n",
    "import matplotlib.pyplot as plt\n",
    "from numpy.random import randn\n",
    "import matplotlib.font_manager as fm\n",
    "myfont = fm.FontProperties(fname='/home/hongliang/Downloads/msyh.ttf/msyh.ttf')\n",
    "import sys\n",
    "reload(sys)\n",
    "sys.setdefaultencoding(\"utf-8\")\n",
    "\n",
    "word = []\n",
    "wordweight = []\n",
    "for a in v.topics()[0]:\n",
    "    word.append(a[0])\n",
    "    wordweight.append(a[1])\n",
    "wordsweight = zip(word[:10],wordweight[:10])\n",
    "print wordsweight[:1]\n",
    "\n",
    "fig = plt.figure(figsize=(8,8))\n",
    "ax1 = fig.add_subplot(2,2,1)  \n",
    "ticks = ax1.set_xticks(range(0,10))\n",
    "#labels = ax1.set_xticklabels(['我','a','','a','a,','a','a','a,','a,','a'])\n",
    "labels = ax1.set_xticklabels(word[:10],fontproperties=myfont)\n",
    "plt.plot(wordweight[:10],'ko--')\n",
    "\n",
    "ax2 = fig.add_subplot(2,2,2)\n",
    "plt.plot(wordweight[:10])\n",
    "ax3 = fig.add_subplot(2,2,3)\n",
    "ax3.hist(randn(100),bins=20,color='k',alpha=0.3)\n",
    "plt.subplots_adjust(wspace = 0.5,hspace = 0.5)\n",
    "ax1.set_xlabel('characters')\n",
    "ax1.set_ylabel('weight')\n",
    "d=1\n",
    "ax1.set_title('Topic:%d'%d)\n",
    "fig2 = plt.figure()\n",
    "ax4 = fig2.add_subplot(2,1,2)"
   ]
  },
  {
   "cell_type": "code",
   "execution_count": 48,
   "metadata": {},
   "outputs": [
    {
     "data": {
      "text/plain": [
       "<matplotlib.text.Text at 0x7f21bb5f6210>"
      ]
     },
     "execution_count": 48,
     "metadata": {},
     "output_type": "execute_result"
    },
    {
     "data": {
      "image/png": "[encoded data removed]",
      "text/plain": [
       "<matplotlib.figure.Figure at 0x7f21bccb1d10>"
      ]
     },
     "metadata": {},
     "output_type": "display_data"
    }
   ],
   "source": []
  },
  {
   "cell_type": "code",
   "execution_count": 4,
   "metadata": {},
   "outputs": [
    {
     "data": {
      "image/png": "[encoded data removed]",
      "text/plain": [
       "<matplotlib.figure.Figure at 0x7fb27936d510>"
      ]
     },
     "metadata": {},
     "output_type": "display_data"
    }
   ],
   "source": [
    "%matplotlib inline\n",
    "import matplotlib.pyplot as plt\n",
    "plt.plot([1,3,2,4])\n",
    "plt.ylabel('some numbers')\n",
    "plt.show()"
   ]
  },
  {
   "cell_type": "code",
   "execution_count": 3,
   "metadata": {},
   "outputs": [
    {
     "data": {
      "text/html": [
       "<div>\n",
       "<table border=\"1\" class=\"dataframe\">\n",
       "  <thead>\n",
       "    <tr style=\"text-align: right;\">\n",
       "      <th></th>\n",
       "      <th>marks</th>\n",
       "      <th>name</th>\n",
       "      <th>price</th>\n",
       "    </tr>\n",
       "  </thead>\n",
       "  <tbody>\n",
       "    <tr>\n",
       "      <th>0</th>\n",
       "      <td>200</td>\n",
       "      <td>握草</td>\n",
       "      <td>9</td>\n",
       "    </tr>\n",
       "    <tr>\n",
       "      <th>1</th>\n",
       "      <td>400</td>\n",
       "      <td>google</td>\n",
       "      <td>3</td>\n",
       "    </tr>\n",
       "    <tr>\n",
       "      <th>2</th>\n",
       "      <td>800</td>\n",
       "      <td>facebook</td>\n",
       "      <td>7</td>\n",
       "    </tr>\n",
       "  </tbody>\n",
       "</table>\n",
       "</div>"
      ],
      "text/plain": [
       "   marks      name  price\n",
       "0    200        握草      9\n",
       "1    400    google      3\n",
       "2    800  facebook      7"
      ]
     },
     "execution_count": 3,
     "metadata": {},
     "output_type": "execute_result"
    }
   ],
   "source": [
    "from pandas import Series,DataFrame\n",
    "import pandas as pd\n",
    "data = {\"name\":[\"握草\",\"google\",\"facebook\"], \"marks\":[200,400,800], \"price\":[9, 3, 7]} \n",
    "f = DataFrame(data)\n",
    "f"
   ]
  },
  {
   "cell_type": "code",
   "execution_count": null,
   "metadata": {
    "collapsed": true
   },
   "outputs": [],
   "source": [
    "#在孔孟荀间，求频率\n",
    "wfkmx = []\n",
    "whfkmx = []\n",
    "for i in range(0,1):\n",
    "    whfkmx.append(tf.matrix.getrow(i))\n",
    "    \n",
    "    wfkmx.append(sum(whfkmx[i].data[item] for item in mengzi))\n",
    "print wf[:10]\n",
    "tf.matrix.getrow(0)"
   ]
  },
  {
   "cell_type": "markdown",
   "metadata": {},
   "source": [
    "To change the number of words printed per topic, use the `print_len` argument:"
   ]
  },
  {
   "cell_type": "code",
   "execution_count": 105,
   "metadata": {
    "scrolled": false
   },
   "outputs": [],
   "source": [
    "v.topics(print_len=20)\n",
    "\n",
    "\n",
    "for i in range(0,100):\n",
    "    x = 0\n",
    "    ww = []\n",
    "    wwa =[]\n",
    "    wwb = []\n",
    "    wwc = []\n",
    "    for a in v.topics():\n",
    "        if x == i:\n",
    "            for b in a: \n",
    "                ww.append(b)\n",
    "        x = x+1\n",
    "    \n",
    "    #print ww\n",
    "    for a in ww[:10]:\n",
    "        wwa.append(a[0].encode('utf-8'))\n",
    "        wwb.append(a[1])\n",
    "        wwc.append(i)\n",
    "    printrow = zip(wwc,wwa,wwb)\n",
    "    \n",
    "    \n",
    "        \n",
    "    with open('topicdweight.csv','a+') as f:\n",
    "        f_csv = csv.writer(f)\n",
    "    #    f_csv.writerow(headers)\n",
    "        f_csv.writerows(printrow)"
   ]
  },
  {
   "cell_type": "code",
   "execution_count": 108,
   "metadata": {},
   "outputs": [
    {
     "name": "stdout",
     "output_type": "stream",
     "text": [
      "[0, '\\xe8\\xb0\\x93\\xe4\\xb9\\x8b', '\\xe5\\x90\\xb4', '\\xe9\\xbb\\x8e', '\\xe6\\xa5\\x9a', '\\xe5\\xa4\\xa9', '\\xe9\\x9f\\xb3', '\\xe5\\x8e\\xbf', '\\xe5\\xbf\\x97', '\\xe5\\xb9\\xbf', '\\xe9\\x95\\xbf']\n",
      "[1, '\\xe7\\x8e\\x8b', '\\xe5\\xa4\\xaa\\xe5\\x90\\x8e', '\\xe7\\xab\\x8b', '\\xe5\\xb8\\x9d', '\\xe5\\xad\\x9d', '\\xe5\\x90\\x8e', '\\xe4\\xbe\\xaf', '\\xe5\\x9b\\xbd', '\\xe7\\x9a\\x87\\xe5\\x90\\x8e', '\\xe8\\x96\\xa8']\n",
      "[2, '\\xe5\\x88\\xba', '\\xe9\\xbb\\x83', '\\xe8\\xb6\\xb3', '\\xe7\\x82\\xba', '\\xe9\\x87\\x9d', '\\xe8\\xa1\\x80', '\\xe5\\x85\\xa7', '\\xe8\\x81\\x9e', '\\xe4\\xb8\\x8a', '\\xe9\\xaa\\xa8']\n",
      "[3, '\\xe6\\x9c\\xac', '\\xe9\\xae\\x91', '\\xe6\\x99\\x8f\\xe5\\xad\\x90', '\\xe9\\xbd\\x8a', '\\xe7\\x82\\xba', '\\xe8\\xb6\\x99', '\\xe5\\xa7\\x9a', '\\xe6\\xa5\\x9a', '\\xe4\\xba\\x8c', '\\xe8\\xa3\\x9c']\n",
      "[4, '\\xe5\\xb0\\x86', '\\xe6\\x95\\x8c', '\\xe5\\x85\\xb5', '\\xe5\\xa4\\xaa', '\\xe6\\x88\\x98', '\\xe5\\x86\\x9b', '\\xe5\\x85\\xac\\xe6\\x9b\\xb0', '\\xe5\\x8d\\x92', '\\xe6\\xad\\xa6', '\\xe5\\x87\\xbb']\n",
      "[5, '\\xe5\\x85\\xb5', '\\xe6\\x94\\xbb', '\\xe4\\xb8\\x80', '\\xe4\\xb8\\x8a', '\\xe6\\x88\\x98', '\\xe5\\xae\\x88', '\\xe9\\xa6\\x80', '\\xe5\\x8f\\xaf', '\\xe8\\x83\\x9c', '\\xe4\\xba\\x8c']\n",
      "[6, '\\xe5\\xa4\\xa9', '\\xe6\\xb0\\x94', '\\xe7\\x94\\x9f', '\\xe4\\xbb\\xa5\\xe4\\xb8\\xba', '\\xe6\\x97\\xb6', '\\xe9\\x98\\xb4', '\\xe9\\x98\\xb3', '\\xe6\\xb0\\xb4', '\\xe4\\xb8\\x80', '\\xe7\\x81\\xab']\n",
      "[7, '\\xe8\\x84\\x89', '\\xe7\\x97\\x85', '\\xe6\\xb0\\x94', '\\xe6\\xb5\\xae', '\\xe9\\x98\\xb3', '\\xe9\\x98\\xb4', '\\xe6\\xad\\xbb', '\\xe8\\x82\\x9d', '\\xe6\\x84\\x8f', '\\xe7\\xbb\\x8f']\n",
      "[8, '\\xe4\\xbb\\xa4', '\\xe4\\xba\\x8b', '\\xe5\\xa4\\x8d', '\\xe4\\xb8\\x8a', '\\xe5\\xae\\x98', '\\xe5\\x8f\\x8a', '\\xe5\\xa5\\x8f', '\\xe8\\x87\\xa3', '\\xe6\\x98\\x8e', '\\xe8\\xae\\xae']\n",
      "[9, '\\xe5\\x8d\\x81', '\\xe5\\xa4\\x8f', '\\xe6\\x98\\xa5', '\\xe5\\x86\\xac', '\\xe7\\xa7\\x8b', '\\xe9\\x83\\xa1', '\\xe8\\xaf\\x8f\\xe6\\x9b\\xb0', '\\xe6\\x9c\\x95', '\\xe5\\xa4\\xa9\\xe4\\xb8\\x8b', '\\xe2\\x94\\x80']\n",
      "[10, '\\xe5\\x85\\x89\\xe6\\xad\\xa6', '\\xe4\\xbe\\xaf', '\\xe6\\x9b\\xb4\\xe5\\xa7\\x8b', '\\xe5\\x9a\\xa3', '\\xe5\\xb0\\x86\\xe5\\x86\\x9b', '\\xe5\\xb8\\x9d', '\\xe9\\x99\\x8d', '\\xe8\\xbf\\xb0', '\\xe8\\x8c\\x82', '\\xe5\\xb0\\x81']\n",
      "[11, '\\xe6\\xb0\\x91', '\\xe5\\xbe\\xb7', '\\xe5\\xa4\\xa9\\xe4\\xb8\\x8b', '\\xe7\\xa4\\xbc', '\\xe6\\x98\\x8e', '\\xe4\\xb9\\x90', '\\xe6\\xad\\xa3', '\\xe5\\x88\\xb6', '\\xe5\\xa4\\xa9\\xe5\\x9c\\xb0', '\\xe5\\xa4\\xa9']\n",
      "[12, '\\xe6\\x96\\x87', '\\xe7\\xab\\xa0', '\\xe8\\xa7\\x82', '\\xe8\\xbe\\x9e', '\\xe5\\x9b\\xba', '\\xe8\\xae\\xba', '\\xe8\\xbf\\x9c', '\\xe8\\xb5\\x8b', '\\xe5\\x8d\\xbf', '\\xe5\\xb0\\x9a']\n",
      "[13, '\\xe5\\xb8\\x9d', '\\xe6\\x8b\\x9c', '\\xe9\\x81\\x82', '\\xe5\\x8f\\x8a', '\\xe8\\xaf\\x8f', '\\xe5\\xa4\\x8d', '\\xe8\\xb5\\x90', '\\xe9\\x83\\xa1', '\\xe5\\xae\\xaa', '\\xe6\\xb0\\xb8']\n",
      "[14, '\\xe5\\xad\\x90\\xe6\\x9b\\xb0', '\\xe5\\xa4\\xa9\\xe4\\xb8\\x8b', '\\xe6\\x81\\xb6', '\\xe4\\xbb\\xa5\\xe4\\xb8\\xba', '\\xe5\\x96\\x84', '\\xe4\\xb8\\x8d\\xe7\\x9f\\xa5', '\\xe4\\xba\\x8b', '\\xe8\\xbe\\x9e', '\\xe4\\xb8\\x8d\\xe5\\x8f\\xaf', '\\xe5\\xa4\\xa9']\n",
      "[15, '\\xe4\\xb8\\x80', '\\xe5\\xad\\x97', '\\xe7\\x84\\xa1', '\\xe6\\xa1\\x88', '\\xe6\\x96\\x87', '\\xe8\\xaa\\xaa', '\\xe8\\xa6\\x8b', '\\xe7\\x95\\xb6', '\\xe5\\x89\\x87', '\\xe5\\xad\\xab']\n",
      "[16, '\\xe6\\x96\\xbc', '\\xe5\\x8f\\x8a', '\\xe5\\xbd\\x8a', '\\xe5\\xbc\\x97', '\\xe8\\x87\\xb3\\xe6\\x96\\xbc', '\\xe5\\x8f\\x97', '\\xe9\\x81\\xa9', '\\xe8\\x83\\xbd', '\\xe5\\xb0\\x81', '\\xe5\\x95\\x86']\n",
      "[17, '\\xe6\\x96\\xbc', '\\xe6\\x95\\xb8', '\\xe8\\x90\\xac', '\\xe9\\x87\\x8d', '\\xe7\\xa9\\x80', '\\xe6\\xb0\\x91', '\\xe6\\x99\\x82', '\\xe6\\xa1\\x93\\xe5\\x85\\xac', '\\xe6\\xad\\xb2', '\\xe9\\x87\\x91']\n",
      "[18, '\\xe6\\xb2\\xbb', '\\xe4\\xb9\\x89', '\\xe4\\xb8\\x8a', '\\xe4\\xb9\\xb1', '\\xe5\\x9b\\xbd', '\\xe6\\xb0\\x91', '\\xe4\\xb9\\x8b\\xe8\\xb0\\x93', '\\xe6\\x94\\xbf', '\\xe4\\xb8\\x8d\\xe8\\x83\\xbd', '\\xe5\\x88\\x91']\n",
      "[19, '\\xe4\\xb8\\xa7', '\\xe5\\x93\\xad', '\\xe6\\x9c\\x8d', '\\xe5\\xa6\\x87', '\\xe7\\x88\\xb6', '\\xe6\\xad\\xbb', '\\xe6\\xaf\\x8d', '\\xe5\\xa6\\xbb', '\\xe7\\x88\\xb6\\xe6\\xaf\\x8d', '\\xe5\\x86\\xa0']\n",
      "[20, '\\xe7\\x9a\\x84', '\\xe6\\x8c\\x87', '\\xe6\\x96\\x87', '\\xe5\\xb0\\xb1', '\\xe8\\xbe\\x9e', '\\xe8\\xb5\\x8b', '\\xe8\\xae\\xba', '\\xe4\\xbb\\x96', '\\xe5\\x88\\x9b\\xe4\\xbd\\x9c', '\\xe4\\xb8\\x8a']\n",
      "[21, '\\xe6\\xb5\\x8b', '\\xe6\\xac\\xa1', '\\xe8\\xb4\\x9e', '\\xe4\\xba\\x8c', '\\xe4\\xb8\\x8a', '\\xe5\\x86\\xa5', '\\xe9\\x98\\xb3', '\\xe7\\xa6\\xbb', '\\xe9\\x98\\xb4', '\\xe6\\xb8\\x8a']\n",
      "[22, '\\xe8\\xbd\\xbd', '\\xe4\\xb9\\x90', '\\xe9\\x87\\x87', '\\xe6\\xad\\x8c', '\\xe5\\xbd\\x92', '\\xe8\\xa1\\xa3', '\\xe5\\xa3\\xb0', '\\xe9\\xa3\\x8e', '\\xe6\\x80\\x9d', '\\xe6\\x9c\\x8d']\n",
      "[23, '\\xe5\\xb0\\x86\\xe5\\x86\\x9b', '\\xe5\\xb0\\x86', '\\xe8\\xb4\\xbc', '\\xe7\\xbe\\x8c', '\\xe8\\xbf\\x98', '\\xe7\\x8e\\x8b', '\\xe5\\x87\\xbb', '\\xe5\\xa4\\xaa\\xe5\\xae\\x88', '\\xe9\\xaa\\x91', '\\xe6\\x8b\\x9c']\n",
      "[24, '\\xe5\\x85\\xb5', '\\xe9\\x81\\x82', '\\xe7\\xad\\x89', '\\xe5\\xa4\\x8d', '\\xe5\\x8f\\x8a', '\\xe4\\xbc\\x97', '\\xe5\\x9b\\xa0', '\\xe6\\x97\\xb6', '\\xe4\\xbb\\xa4', '\\xe9\\x81\\xa3']\n",
      "[25, '\\xe7\\x8e\\x8b', '\\xe5\\x91\\xa8', '\\xe6\\xad\\xa6\\xe7\\x8e\\x8b', '\\xe6\\x96\\x87\\xe7\\x8e\\x8b', '\\xe7\\x8e\\x8b\\xe6\\x9b\\xb0', '\\xe4\\xba\\x8c', '\\xe7\\x88\\xb6', '\\xe6\\xad\\xa6', '\\xe4\\xba\\xa1', '\\xe8\\x87\\xa3']\n",
      "[26, '\\xe5\\x96\\x84', '\\xe6\\x80\\xa7', '\\xe5\\x9c\\xa3\\xe4\\xba\\xba', '\\xe5\\xad\\xa6', '\\xe9\\x81\\x93', '\\xe4\\xb9\\x90', '\\xe8\\xb0\\x93\\xe4\\xb9\\x8b', '\\xe5\\xbe\\xb7', '\\xe4\\xbb\\x81', '\\xe4\\xb8\\x87\\xe7\\x89\\xa9']\n",
      "[27, '\\xe4\\xba\\xa1', '\\xe4\\xbc\\xa0', '\\xe6\\xb1\\x89', '\\xe5\\x91\\xa8', '\\xe6\\x98\\xa5\\xe7\\xa7\\x8b', '\\xe5\\x90\\x8e', '\\xe6\\xb0\\x8f', '\\xe8\\xaf\\x97', '\\xe6\\x88\\x90', '\\xe6\\x98\\x93']\n",
      "[28, '\\xe6\\x96\\x87', '\\xe5\\xad\\x9f\\xe5\\xad\\x90', '\\xe5\\xad\\x94\\xe5\\xad\\x90', '\\xe5\\x9c\\xa3\\xe4\\xba\\xba', '\\xe7\\xa4\\xbc', '\\xe6\\xa1\\x88', '\\xe6\\x98\\x8e', '\\xe5\\xad\\x90\\xe4\\xba\\x91', '\\xe6\\x98\\x93', '\\xe5\\xae\\x8b']\n",
      "[29, '\\xe5\\x8c\\x88\\xe5\\xa5\\xb4', '\\xe5\\x8d\\x95\\xe4\\xba\\x8e', '\\xe5\\xb0\\x86\\xe5\\x86\\x9b', '\\xe6\\xb1\\x89', '\\xe9\\xaa\\x91', '\\xe4\\xbe\\xaf', '\\xe4\\xbd\\xbf', '\\xe5\\xb0\\x86', '\\xe5\\x87\\xba', '\\xe5\\x8f\\xb3']\n",
      "[30, '\\xe5\\x90\\x8f', '\\xe6\\xb0\\x91', '\\xe4\\xbb\\xa4', '\\xe6\\xb2\\xbb', '\\xe9\\x92\\xb1', '\\xe7\\xbd\\xaa', '\\xe5\\xa4\\xa9\\xe4\\xb8\\x8b', '\\xe5\\x88\\x91', '\\xe9\\x83\\xa1', '\\xe6\\xb3\\x95']\n",
      "[31, '\\xe4\\xb8\\x8a', '\\xe4\\xb8\\x9e\\xe7\\x9b\\xb8', '\\xe9\\x99\\x9b\\xe4\\xb8\\x8b', '\\xe8\\x87\\xa3', '\\xe5\\xad\\x9d', '\\xe5\\xa4\\xa7\\xe5\\xa4\\xab', '\\xe4\\xbe\\xaf', '\\xe6\\x99\\xaf', '\\xe7\\x9b\\x8e', '\\xe4\\xba\\xba\\xe4\\xb9\\x9f']\n",
      "[32, '\\xe6\\x9b\\xb8', '\\xe6\\xbc\\xa2', '\\xe5\\x8d\\xb7', '\\xe8\\xa8\\x98', '\\xe5\\x82\\xb3', '\\xe5\\xbe\\x8c', '\\xe5\\xbe\\xa1', '\\xe5\\xbc\\x95', '\\xe6\\x9c\\xac', '\\xe7\\x82\\xba']\n",
      "[33, '\\xe6\\xb0\\xb4', '\\xe6\\xb2\\xb3', '\\xe4\\xb8\\x9c', '\\xe8\\xa1\\x8c', '\\xe5\\xb1\\xb1', '\\xe8\\xa5\\xbf', '\\xe5\\x9c\\x9f', '\\xe7\\xa6\\xb9', '\\xe5\\x87\\xba', '\\xe8\\x87\\xb3\\xe4\\xba\\x8e']\n",
      "[34, '\\xe7\\xa7\\xa6', '\\xe7\\x8e\\x8b', '\\xe9\\xad\\x8f', '\\xe6\\x94\\xbb', '\\xe5\\xa4\\xaa\\xe5\\xad\\x90', '\\xe5\\x85\\xb5', '\\xe4\\xbd\\xbf', '\\xe5\\x91\\xa8', '\\xe5\\x9b\\xa0', '\\xe5\\x8d\\x81']\n",
      "[35, '\\xe8\\x8e\\xbd', '\\xe5\\x9b\\xbd', '\\xe4\\xbe\\xaf', '\\xe9\\x83\\xa1', '\\xe6\\x88\\xb7', '\\xe9\\x98\\xb3', '\\xe5\\xb1\\x9e', '\\xe4\\xba\\xad', '\\xe6\\xb0\\xb4', '\\xe5\\x9f\\x8e']\n",
      "[36, '\\xe4\\xbd\\xbf', '\\xe4\\xb8\\x8d\\xe8\\x83\\xbd', '\\xe5\\x91\\xbd', '\\xe8\\xae\\xba', '\\xe5\\xae\\x9e', '\\xe9\\x9a\\xbe', '\\xe6\\x81\\xb6', '\\xe4\\xb8\\x96', '\\xe5\\xae\\x9c', '\\xe5\\x96\\x84']\n",
      "[37, '\\xe6\\xb0\\x91', '\\xe5\\x91\\xbd', '\\xe5\\xb0\\x94', '\\xe5\\x8e\\xa5', '\\xe4\\xba\\x88', '\\xe5\\xbe\\xb7', '\\xe7\\xbb\\xb4', '\\xe7\\x8e\\x8b', '\\xe5\\xa4\\xa9', '\\xe5\\x85\\x8b']\n",
      "[38, '\\xe8\\xb6\\x8a', '\\xe5\\x90\\xb4', '\\xe6\\xa5\\x9a', '\\xe8\\x83\\xa5', '\\xe7\\x8e\\x8b\\xe6\\x9b\\xb0', '\\xe5\\xaf\\xa1\\xe4\\xba\\xba', '\\xe8\\xb6\\x8a\\xe7\\x8e\\x8b', '\\xe4\\xbd\\xbf', '\\xe4\\xbc\\x90', '\\xe5\\x90\\xb4\\xe7\\x8e\\x8b']\n",
      "[39, '\\xe7\\xa5\\xad', '\\xe7\\xa5\\x80', '\\xe5\\xba\\x99', '\\xe5\\xae\\x97', '\\xe9\\x83\\x8a', '\\xe7\\xa5\\x9e', '\\xe7\\xa4\\xbc', '\\xe7\\xab\\x8b', '\\xe5\\xa4\\xa9\\xe5\\xad\\x90', '\\xe6\\x96\\x87']\n",
      "[40, '\\xe6\\xb0\\x8f', '\\xe6\\xbc\\xa2', '\\xe9\\xa1\\x9e', '\\xe5\\xbe\\x8c', '\\xe6\\x9b\\xb8', '\\xe4\\xba\\x8c', '\\xe5\\xa7\\x93', '\\xe7\\x82\\xba', '\\xe6\\xa1\\x88', '\\xe9\\x80\\x9a']\n",
      "[41, '\\xe9\\x99\\xbd', '\\xe5\\x89\\x87', '\\xe9\\x99\\xb0', '\\xe6\\xb0\\xa3', '\\xe8\\x84\\x88', '\\xe4\\xbc\\xaf', '\\xe5\\xb0\\x91', '\\xe5\\xb2\\x90', '\\xe7\\x86\\xb1', '\\xe5\\xa4\\xaa']\n",
      "[42, '\\xe9\\xa9\\xac', '\\xe8\\x83\\xbd', '\\xe4\\xb8\\x80', '\\xe8\\xa1\\x8c', '\\xe5\\x87\\xba', '\\xe4\\xb8\\x8d\\xe5\\x8f\\xaf', '\\xe5\\x86\\x85', '\\xe6\\x95\\xb0', '\\xe4\\xbb\\xa4', '\\xe4\\xbb\\xa5\\xe4\\xb8\\xba']\n",
      "[43, '\\xe6\\x99\\x8b', '\\xe9\\x83\\x91', '\\xe5\\xb8\\x88', '\\xe5\\xb0\\x86', '\\xe4\\xbc\\xaf', '\\xe5\\xae\\x8b', '\\xe5\\x8f\\x94', '\\xe5\\x8f\\x8a', '\\xe4\\xbe\\xaf', '\\xe9\\xbd\\x90']\n",
      "[44, '\\xe8\\xb4\\xa4', '\\xe8\\xbf\\x9b', '\\xe8\\xa1\\x8c', '\\xe6\\xad\\xa3', '\\xe9\\x80\\x9a', '\\xe4\\xb9\\x89', '\\xe5\\xb8\\x88', '\\xe9\\x95\\xbf', '\\xe6\\x81\\xb6', '\\xe4\\xbb\\xbb']\n",
      "[45, '\\xe4\\xbe\\xaf', '\\xe5\\x87\\xbb', '\\xe5\\x86\\x9b', '\\xe7\\xa0\\xb4', '\\xe4\\xb8\\x9c', '\\xe5\\xae\\x9a', '\\xe9\\xbd\\x90', '\\xe6\\x94\\xbb', '\\xe5\\x85\\xb5', '\\xe5\\xa9\\xb4']\n",
      "[46, '\\xe6\\x9c\\x88', '\\xe8\\xa1\\x8c', '\\xe5\\xa7\\x8b', '\\xe5\\x91\\xbd', '\\xe5\\xa4\\xa9\\xe5\\xad\\x90', '\\xe9\\x9f\\xb3', '\\xe4\\xbb\\xa4', '\\xe5\\x85\\x88', '\\xe5\\x9b\\xbd', '\\xe5\\xbe\\x8b']\n",
      "[47, '\\xe5\\xb0\\x86', '\\xe5\\xaf\\xb9\\xe6\\x9b\\xb0', '\\xe4\\xbb\\xa4', '\\xe5\\x9b\\xa0', '\\xe4\\xbe\\xaf', '\\xe5\\x8f\\x94', '\\xe6\\x96\\x87', '\\xe6\\x9d\\x80', '\\xe4\\xbb\\xa5\\xe4\\xb8\\xba', '\\xe8\\xaf\\xb4']\n",
      "[48, '\\xe6\\xb0\\x91', '\\xe5\\x9b\\xbd', '\\xe5\\x88\\xa9', '\\xe5\\xaf\\x8c', '\\xe5\\x8a\\xa1', '\\xe4\\xb8\\x8a', '\\xe8\\xb4\\xa2', '\\xe7\\x99\\xbe\\xe5\\xa7\\x93', '\\xe4\\xb8\\x8d\\xe8\\xb6\\xb3', '\\xe9\\xa3\\x9f']\n",
      "[49, '\\xe7\\x94\\x9f', '\\xe5\\xa4\\xa9', '\\xe6\\x97\\xb6', '\\xe4\\xb9\\x8b\\xe6\\x97\\xb6', '\\xe5\\xb0\\xa7', '\\xe5\\x9c\\xa3', '\\xe5\\xa4\\x8d', '\\xe9\\xbe\\x99', '\\xe4\\xb8\\x80', '\\xe6\\xb0\\x94']\n",
      "[50, '\\xe4\\xbe\\xaf', '\\xe4\\xb8\\x8a', '\\xe5\\xb0\\x86\\xe5\\x86\\x9b', '\\xe5\\xa4\\xaa\\xe5\\x90\\x8e', '\\xe5\\xb0\\x81', '\\xe4\\xb8\\x9e\\xe7\\x9b\\xb8', '\\xe8\\xb5\\x90', '\\xe5\\xb8\\x9d', '\\xe8\\x8e\\xbd', '\\xe7\\xad\\x89']\n",
      "[51, '\\xe6\\x96\\xbc', '\\xe7\\x84\\xa1', '\\xe5\\xbf\\x83', '\\xe5\\xb0\\x87', '\\xe6\\x99\\x82', '\\xe4\\xb8\\x96', '\\xe8\\x80\\x8c\\xe4\\xb8\\x8d', '\\xe5\\x90\\x8d', '\\xe5\\x8f\\xaf', '\\xe7\\x8c\\xb6']\n",
      "[52, '\\xe4\\xb8\\x80', '\\xe8\\x87\\xa3', '\\xe4\\xbd\\x99', '\\xe7\\x9c\\xbe', '\\xe5\\xbf\\x97', '\\xe8\\xb3\\xa2', '\\xe8\\xb2\\x8c', '\\xe9\\xa2\\xa8', '\\xe6\\xa5\\x9a', '\\xe5\\xbf\\xa0']\n",
      "[53, '\\xe7\\x88\\xb5', '\\xe5\\x9d\\x90', '\\xe4\\xb8\\xbb\\xe4\\xba\\xba', '\\xe9\\x99\\x8d', '\\xe5\\xb0\\xb8', '\\xe6\\x8b\\x9c', '\\xe7\\xa5\\xad', '\\xe5\\xa5\\xa0', '\\xe5\\x85\\xb4', '\\xe4\\xbf\\x8e']\n",
      "[54, '\\xe6\\x98\\x9f', '\\xe6\\x97\\xa5', '\\xe5\\x87\\xba', '\\xe5\\xb2\\x81', '\\xe5\\xa4\\xa9', '\\xe5\\x9c\\xb0', '\\xe9\\x98\\xb4', '\\xe5\\x8d\\xa0', '\\xe8\\xbe\\xb0', '\\xe6\\x9c\\x88']\n",
      "[55, '\\xe7\\x82\\xba', '\\xe4\\xb8\\x80', '\\xe8\\x88\\x87', '\\xe5\\xb7\\xb1', '\\xe9\\x95\\xb7', '\\xe9\\x81\\xa0', '\\xe6\\xa8\\x82', '\\xe8\\xa1\\x8c', '\\xe5\\xa4\\xa9', '\\xe6\\x97\\xa5']\n",
      "[56, '\\xe9\\x83\\xa1', '\\xe7\\xbe\\x8c', '\\xe5\\x8d\\x97', '\\xe5\\xa4\\xb7', '\\xe5\\xaf\\x87', '\\xe4\\xba\\x8c', '\\xe5\\xa4\\x8d', '\\xe7\\xa7\\x8d', '\\xe5\\x9c\\xb0', '\\xe7\\xa0\\xb4']\n",
      "[57, '\\xe8\\xb1\\xa1', '\\xe5\\x90\\x89', '\\xe4\\xb8\\x8a', '\\xe8\\xb4\\x9e', '\\xe5\\x92\\x8e', '\\xe5\\x88\\xa9', '\\xe5\\x8d\\xa6', '\\xe5\\x87\\xb6', '\\xe5\\xbe\\x80', '\\xe7\\xbb\\x88']\n",
      "[58, '\\xe7\\x84\\xa1', '\\xe6\\x96\\xbc', '\\xe8\\x88\\x87', '\\xe8\\xac\\x82', '\\xe5\\xa4\\xa9\\xe4\\xb8\\x8b', '\\xe8\\xa6\\x8b', '\\xe8\\x87\\xa3', '\\xe4\\xba\\x8b', '\\xe5\\x95\\x8f', '\\xe8\\xb3\\xa2']\n",
      "[59, '\\xe9\\xbd\\x90', '\\xe6\\x99\\x8b', '\\xe9\\x81\\x82', '\\xe7\\xab\\x8b', '\\xe5\\x8d\\x92', '\\xe4\\xbc\\x90', '\\xe6\\x9d\\x80', '\\xe7\\x8e\\x8b', '\\xe5\\x85\\xac\\xe5\\xad\\x90', '\\xe5\\x9b\\xbd']\n",
      "[60, '\\xe6\\x96\\xbc', '\\xe5\\xbe\\x8c', '\\xe6\\x96\\x87', '\\xe4\\xb8\\x8d\\xe8\\x83\\xbd', '\\xe8\\x83\\xbd', '\\xe6\\xad\\xbb', '\\xe5\\xad\\x94\\xe5\\xad\\x90', '\\xe7\\x89\\xa9', '\\xe7\\xa5\\x9e', '\\xef\\xbc\\x9d']\n",
      "[61, '\\xe8\\x87\\xa3', '\\xe4\\xb8\\x8a', '\\xe9\\x81\\x82', '\\xe5\\xb0\\x86', '\\xe5\\x85\\xb5', '\\xe4\\xbd\\xbf', '\\xe7\\xab\\x8b', '\\xe8\\xaf\\x9b', '\\xe6\\x95\\xb0', '\\xe6\\xad\\xbb']\n",
      "[62, '\\xe4\\xb8\\xbb', '\\xe8\\x87\\xa3', '\\xe6\\xb3\\x95', '\\xe6\\xb2\\xbb', '\\xe6\\x98\\x8e', '\\xe4\\xb8\\x8a', '\\xe4\\xb8\\x8d\\xe8\\x83\\xbd', '\\xe8\\xa1\\x8c', '\\xe4\\xba\\x8b', '\\xe6\\x95\\x85\\xe6\\x9b\\xb0']\n",
      "[63, '\\xe6\\x98\\xa5\\xe7\\xa7\\x8b', '\\xe4\\xb9\\xa6', '\\xe5\\x88\\x97\\xe4\\xbc\\xa0', '\\xe4\\xba\\x8c', '\\xe7\\xac\\xac', '\\xe8\\xbf\\xb0', '\\xe6\\xb1\\x89', '\\xe5\\x8d\\x81\\xe5\\x85\\xab', '\\xe5\\xad\\x94\\xe5\\xad\\x90', '\\xe5\\x8d\\x81\\xe5\\x85\\xad']\n",
      "[64, '\\xe7\\x8e\\x8b', '\\xe5\\xa4\\xaa\\xe5\\xad\\x90', '\\xe5\\xbe\\x8c', '\\xe7\\xab\\x8b', '\\xe5\\xad\\x9d', '\\xe8\\xaf\\xb8\\xe4\\xbe\\xaf', '\\xe5\\xa4\\xa9\\xe5\\xad\\x90', '\\xe6\\xb1\\x89', '\\xe6\\xb7\\xae\\xe5\\x8d\\x97', '\\xe4\\xb8\\x8a']\n",
      "[65, '\\xe7\\xad\\x89', '\\xe5\\x8d\\x93', '\\xe4\\xbb\\xa4', '\\xe8\\xbe\\x9f', '\\xe7\\xbb\\x8d', '\\xe5\\xa4\\xaa\\xe5\\xae\\x88', '\\xe6\\x93\\x8d', '\\xe5\\xa4\\xaa\\xe5\\xb0\\x89', '\\xe5\\xa4\\xa9\\xe4\\xb8\\x8b', '\\xe5\\xb7\\x9e']\n",
      "[66, '\\xe6\\x8e\\x8c', '\\xe5\\xbe\\x92', '\\xe5\\x8f\\xb2', '\\xe7\\x8e\\x8b', '\\xe4\\xba\\x8c', '\\xe5\\x9b\\xbd', '\\xe4\\xb8\\x8b\\xe5\\xa3\\xab', '\\xe5\\xa6\\x82\\xe4\\xb9\\x8b', '\\xe8\\x83\\xa5', '\\xe5\\x85\\xb1']\n",
      "[67, '\\xe7\\xa4\\xbc', '\\xe5\\xad\\x90\\xe6\\x9b\\xb0', '\\xe4\\xba\\xb2', '\\xe4\\xb9\\x89', '\\xe8\\x80\\x85\\xe4\\xb9\\x9f', '\\xe6\\x95\\xac', '\\xe5\\xbc\\x97', '\\xe8\\xa1\\x8c', '\\xe7\\x94\\x9f', '\\xe5\\xad\\x9d']\n",
      "[68, '\\xe4\\xb8\\x80', '\\xe7\\x82\\xba', '\\xe4\\xba\\x8c', '\\xe4\\xb9\\x98', '\\xe5\\xaf\\xa6', '\\xe8\\xa1\\x93', '\\xe6\\x96\\x97', '\\xe8\\x8d\\x85', '\\xe5\\xb9\\xbe', '\\xe5\\x95\\x8f']\n",
      "[69, '\\xe4\\xb8\\x80', '\\xe4\\xbc\\xa0', '\\xe9\\x93\\x8e', '\\xe7\\xaf\\x87', '\\xe6\\xb1\\x89\\xe4\\xb9\\xa6', '\\xe4\\xba\\x8c', '\\xe6\\x8c\\x89', '\\xe5\\xb7\\xa6\\xe4\\xbc\\xa0', '\\xe7\\xba\\xaa', '\\xe5\\x90\\x8e']\n",
      "[70, '\\xe4\\xbe\\xaf', '\\xe9\\xbd\\x90', '\\xe4\\xbc\\x90', '\\xe5\\x8d\\xab', '\\xe5\\x86\\xac', '\\xe5\\xa4\\x8f', '\\xe4\\xbc\\xaf', '\\xe6\\x98\\xa5', '\\xe7\\xa7\\x8b', '\\xe5\\xb8\\x88']\n",
      "[71, '\\xe6\\xb8\\xb8', '\\xe4\\xb8\\x8d\\xe8\\x83\\xbd', '\\xe7\\xa5\\x9e', '\\xe5\\xbd\\xa2', '\\xe6\\x98\\xaf\\xe6\\x95\\x85', '\\xe9\\x80\\x9a', '\\xe7\\x9b\\xb8\\xe5\\xa6\\x82', '\\xe9\\x9d\\xa1', '\\xe5\\xbc\\x97', '\\xe7\\x89\\xa9']\n",
      "[72, '\\xe5\\xbe\\xb7', '\\xe8\\xb0\\x93\\xe4\\xb9\\x8b', '\\xe6\\x96\\x87', '\\xe5\\xbf\\x97', '\\xe4\\xb8\\x96', '\\xe6\\x9c\\x94', '\\xe5\\xa5\\xbd', '\\xe5\\xb9\\xb3', '\\xe5\\xbe\\xa1', '\\xe6\\x9c\\xac']\n",
      "[73, '\\xe6\\xb1\\x89', '\\xe7\\x8e\\x8b', '\\xe5\\x9b\\xbd', '\\xe5\\x8c\\x88\\xe5\\xa5\\xb4', '\\xe5\\xb8\\x88', '\\xe8\\xa5\\xbf', '\\xe6\\x8a\\xa4', '\\xe4\\xbd\\xbf', '\\xe9\\x83\\xbd', '\\xe5\\x85\\xb5']\n",
      "[74, '\\xe5\\xae\\xbe', '\\xe5\\xa4\\xa7\\xe5\\xa4\\xab', '\\xe5\\x8f\\x97', '\\xe4\\xb8\\xbb\\xe4\\xba\\xba', '\\xe5\\xb0\\x84', '\\xe4\\xb8\\x8a', '\\xe8\\xa5\\xbf', '\\xe9\\x98\\xb6', '\\xe5\\x8d\\x87', '\\xe6\\x8b\\x9c']\n",
      "[75, '\\xe6\\x8c\\x89', '\\xe5\\xad\\x97', '\\xe6\\x9c\\xac', '\\xe5\\xbc\\x95', '\\xe4\\xbc\\xa0', '\\xe8\\xaf\\xb4', '\\xe7\\xaf\\x87', '\\xe8\\xaf\\xb4\\xe6\\x96\\x87', '\\xe4\\xb8\\x80', '\\xe6\\x8d\\xae']\n",
      "[76, '\\xe5\\xa4\\xa9\\xe4\\xb8\\x8b', '\\xe8\\x83\\xbd', '\\xe6\\xb0\\x91', '\\xe4\\xba\\x8b', '\\xe5\\x8f\\xaf', '\\xe9\\x81\\x93', '\\xe4\\xb9\\x8b\\xe4\\xbb\\xa5', '\\xe8\\x80\\x8c\\xe4\\xb8\\x8d', '\\xe4\\xbb\\x81', '\\xe5\\x9c\\xa3']\n",
      "[77, '\\xe7\\x82\\xba', '\\xe4\\xba\\x8c', '\\xe6\\x96\\xbc', '\\xe6\\x99\\x89', '\\xe4\\xbe\\xaf', '\\xe5\\x9c\\x8b', '\\xe8\\xac\\x82', '\\xe8\\xab\\xb8', '\\xe5\\xb0\\x87', '\\xe6\\xa5\\x9a']\n",
      "[78, '\\xe5\\x92\\x8c', '\\xe5\\x88\\x98\\xe5\\x8b\\xb0', '\\xe5\\xad\\x97', '\\xe4\\xbd\\x9c\\xe5\\x93\\x81', '\\xe8\\xbf\\x99\\xe9\\x87\\x8c', '\\xe6\\x96\\x87\\xe5\\xad\\xa6', '\\xe7\\xad\\x89', '\\xe5\\xaf\\xb9', '1', '2']\n",
      "[79, '\\xe7\\x99\\xbd', '\\xe8\\xb5\\xa4', '\\xe4\\xb8\\x80', '\\xe9\\x95\\xbf', '\\xe8\\xbd\\xa6', '\\xe9\\xbb\\x91', '\\xe7\\x89\\x9b', '\\xe5\\x99\\xa8', '\\xe7\\x9b\\xb4', '\\xe5\\x8f\\x82']\n",
      "[80, '\\xe7\\x8e\\x8b', '\\xe6\\xb1\\x89', '\\xe6\\xa5\\x9a', '\\xe9\\xa1\\xb9', '\\xe5\\xb0\\x86', '\\xe9\\x99\\x88', '\\xe4\\xbd\\xbf', '\\xe6\\xb1\\x89\\xe7\\x8e\\x8b', '\\xe4\\xbf\\xa1', '\\xe6\\xb2\\x9b']\n",
      "[81, '\\xe9\\xbe\\x9f', '\\xe5\\x90\\x89', '\\xe5\\x8d\\x9c', '\\xe7\\x97\\x85', '\\xe5\\xbe\\x99', '\\xe5\\x87\\xb6', '\\xe5\\x90\\x89\\xe5\\x87\\xb6', '\\xe5\\xae\\x85', '\\xe5\\x85\\x86', '\\xe7\\xa5\\x9e']\n",
      "[82, '\\xe9\\x81\\x93', '\\xe7\\x94\\x9f', '\\xe5\\xbe\\xb7', '\\xe8\\x80\\x8c\\xe4\\xb8\\x8d', '\\xe4\\xb8\\x8d\\xe5\\x8f\\xaf', '\\xe8\\xa1\\x8c', '\\xe6\\x97\\xa5', '\\xe5\\xae\\x88', '\\xe8\\xa7\\x82', '\\xe5\\xbf\\x83']\n",
      "[83, '\\xe6\\xb0\\xa3', '\\xe6\\x96\\xbc', '\\xe7\\x97\\x85', '\\xe5\\xb8\\x9d', '\\xe7\\x82\\xba', '\\xe5\\xaf\\x92', '\\xe6\\xb2\\xbb', '\\xe4\\xb8\\x8a', '\\xe7\\xb6\\x93', '\\xe7\\x94\\x9f']\n",
      "[84, '\\xe5\\x89\\x87', '\\xe7\\x82\\xba', '\\xe5\\x9c\\x8b', '\\xe6\\xb0\\x91', '\\xe6\\xb2\\xbb', '\\xe4\\xbb\\xa4', '\\xe8\\xa1\\x8c', '\\xe4\\xb8\\x8a', '\\xe7\\xbe\\xa9', '\\xe5\\x8b\\x9d']\n",
      "[85, '\\xe5\\x8d\\x87', '\\xe6\\xb1\\xa4', '\\xe6\\x96\\xb9', '\\xe6\\x9c\\x8d', '\\xe4\\xb8\\xbb', '\\xe5\\x91\\xb3', '\\xe5\\x8f\\xb3', '\\xe5\\x8f\\x96', '\\xe7\\x85\\xae', '\\xe5\\x8e\\xbb']\n",
      "[86, '\\xe5\\xad\\x94\\xe5\\xad\\x90', '\\xe5\\xad\\x94', '\\xe9\\x97\\xbb', '\\xe5\\xad\\x90\\xe8\\xb4\\xa1', '\\xe5\\xa4\\xab\\xe5\\xad\\x90', '\\xe9\\xb2\\x81', '\\xe5\\xad\\x90\\xe8\\xb7\\xaf', '\\xe5\\xaf\\xb9\\xe6\\x9b\\xb0', '\\xe5\\xa3\\xab', '\\xe8\\xaf\\x97\\xe6\\x9b\\xb0']\n",
      "[87, '\\xe7\\xa7\\xa6', '\\xe6\\xa5\\x9a', '\\xe9\\xbd\\x90', '\\xe8\\xb5\\xb5', '\\xe9\\x9f\\xa9', '\\xe9\\xad\\x8f', '\\xe5\\xbe\\x8c', '\\xe7\\x87\\x95', '\\xe5\\xa4\\xa9\\xe4\\xb8\\x8b', '\\xe8\\x87\\xa3']\n",
      "[88, '\\xe6\\x97\\xb6', '\\xe5\\x90\\x8f', '\\xe9\\x83\\xa1', '\\xe9\\x97\\xbb', '\\xe5\\xa5\\x8f', '\\xe4\\xb8\\xbe', '\\xe6\\x95\\xb0', '\\xe5\\xae\\x9c', '\\xe4\\xba\\x8b', '\\xe4\\xbd\\xbf']\n",
      "[89, '\\xe5\\x91\\xa8', '\\xe7\\xab\\x8b', '\\xe6\\xae\\xb7', '\\xe5\\xb8\\x9d', '\\xe4\\xbc\\x90', '\\xe8\\xaf\\xb8\\xe4\\xbe\\xaf', '\\xe5\\xbe\\xb7', '\\xe7\\xba\\xa3', '\\xe5\\xa4\\x8f', '\\xe6\\xad\\xa6']\n",
      "[90, '\\xe9\\x81\\x82', '\\xe5\\xa5\\xb3', '\\xe6\\xad\\xbb', '\\xe4\\xbd\\xbf', '\\xe6\\xaf\\x8d', '\\xe5\\xa6\\xbe', '\\xe5\\x8f\\x8a', '\\xe5\\x8e\\xbb', '\\xe5\\xae\\xb6', '\\xe8\\xa7\\xa3']\n",
      "[91, '\\xe7\\xaf\\x87', '\\xe6\\x97\\xb6', '\\xe4\\xbc\\xa0', '\\xe4\\xb9\\xa6', '\\xe6\\x8c\\x87', '\\xe6\\xb1\\x89', '\\xe5\\x8d\\xb7', '\\xe8\\xaf\\xb4', '\\xe6\\xb1\\x89\\xe4\\xb9\\xa6', '\\xe5\\x85\\xb8']\n",
      "[92, '\\xe5\\xae\\x98', '\\xe7\\x9f\\xb3', '\\xe4\\xbb\\xa4', '\\xe4\\xb8\\xbb', '\\xe4\\xb8\\x9e', '\\xe6\\x9c\\xac', '\\xe4\\xba\\x8c', '\\xe9\\x95\\xbf', '\\xe6\\xaf\\x94', '\\xe5\\x8d\\x83\\xe7\\x9f\\xb3']\n",
      "[93, '\\xe6\\xa5\\x9a', '\\xe4\\xbd\\xbf', '\\xe6\\xb0\\x8f', '\\xe5\\x8d\\xab', '\\xe8\\xaf\\xb7', '\\xe4\\xbc\\x90', '\\xe5\\xad\\x99', '\\xe5\\xad\\x90\\xe6\\x9b\\xb0', '\\xe9\\x99\\x88', '\\xe5\\x91\\x8a']\n",
      "[94, '\\xe5\\x8d\\x81', '\\xe6\\x97\\xa5', '\\xe6\\x9c\\x88', '\\xe5\\xba\\xa6', '\\xe4\\xbd\\x99', '\\xe4\\xba\\x8c', '\\xe4\\xb8\\x80', '\\xe6\\xb3\\x95', '\\xe5\\x8e\\x86', '\\xe6\\x9c\\x94']\n",
      "[95, '\\xe6\\xb0\\x8f', '\\xe5\\xa7\\x93', '\\xe6\\x96\\x87', '\\xe7\\x94\\x9f', '\\xe5\\x91\\xa8', '\\xe5\\x8f\\x94', '\\xe5\\x8d\\x81', '\\xe8\\xb5\\xb5', '\\xe6\\x99\\x8b', '\\xe4\\xb8\\x96']\n",
      "[96, '\\xe7\\xa5\\xa0', '\\xe4\\xb8\\x8a', '\\xe6\\xb3\\xb0\\xe5\\xb1\\xb1', '\\xe5\\xb0\\x81', '\\xe5\\xa4\\xa9\\xe5\\xad\\x90', '\\xe9\\xbb\\x84\\xe5\\xb8\\x9d', '\\xe6\\xb3\\xb0', '\\xe4\\xb8\\x80', '\\xe5\\xb0\\x81\\xe7\\xa6\\x85', '\\xe7\\xa5\\x9e']\n",
      "[97, '\\xe8\\x87\\xa3', '\\xe7\\x8e\\x8b', '\\xe8\\xb4\\xa4', '\\xe4\\xb8\\xbb', '\\xe5\\x9b\\xbd', '\\xe4\\xb8\\x8d\\xe8\\x83\\xbd', '\\xe8\\xa1\\x8c', '\\xe6\\xad\\xbb', '\\xe5\\xa4\\xa9\\xe4\\xb8\\x8b', '\\xe4\\xbd\\xbf']\n",
      "[98, '\\xe4\\xba\\x8b', '\\xe5\\xa4\\xa7\\xe5\\xa4\\xab', '\\xe5\\x8f\\x8a', '\\xe9\\xa3\\x9f', '\\xe8\\xaf\\xb8\\xe4\\xbe\\xaf', '\\xe6\\xb2\\xbb', '\\xe6\\xb0\\x91', '\\xe7\\xa4\\xbc', '\\xe5\\xba\\x9c', '\\xe7\\xa5\\xad']\n",
      "[99, '\\xe6\\x97\\xb6', '\\xe6\\x95\\xb0', '\\xe5\\x8f\\x8a', '\\xe5\\xa4\\xa9\\xe4\\xb8\\x8b', '\\xe4\\xbb\\xa5\\xe4\\xb8\\xba', '\\xe4\\xba\\x8b', '\\xe9\\x97\\xbb', '\\xe7\\x94\\xb0', '\\xe5\\x87\\xba', '\\xe7\\x94\\x9f']\n"
     ]
    }
   ],
   "source": [
    "#生成表格 主题+前五个词\n",
    "for i in range(0,100):\n",
    "    x = 0\n",
    "    ww = []\n",
    "    wwa =[]\n",
    "    wwb = []\n",
    "    wwc = []\n",
    "    for a in v.topics():\n",
    "        if x == i:\n",
    "            for b in a: \n",
    "                ww.append(b)\n",
    "        x = x+1\n",
    "    \n",
    "    for a in ww[:10]:\n",
    "        wwa.append(a[0].encode('utf-8'))\n",
    "    printrow = [i]+wwa\n",
    "    print printrow\n",
    "    \n",
    "    \n",
    "        \n",
    "    with open('topic5words.csv','a+') as f:\n",
    "        f_csv = csv.writer(f)\n",
    "    #    f_csv.writerow(headers)\n",
    "        f_csv.writerow(printrow)"
   ]
  },
  {
   "cell_type": "code",
   "execution_count": 103,
   "metadata": {
    "scrolled": true
   },
   "outputs": [
    {
     "data": {
      "text/plain": [
       "[(0, 4, 0), (1, 5, 1), (2, 6, 2)]"
      ]
     },
     "execution_count": 103,
     "metadata": {},
     "output_type": "execute_result"
    }
   ],
   "source": [
    "v.topics()[2][:5][1][1]\n",
    "\n",
    "# v.topics()[主题数][按照重量排序词语排名][词语数][显示词语名字，或者重量]\n"
   ]
  },
  {
   "cell_type": "markdown",
   "metadata": {},
   "source": [
    "### Viewing Document-topic probabilities\n",
    "The above code shows the topic-word distributions and allows us to estimate the quality of our topics.\n",
    "\n",
    "#### `v.labels`\n",
    "The property `v.labels` (without parentheses) returns a list of all documents in a corpus, and is useful for processing each document generically, wihtout having to look up the identifiers on the file system.\n",
    "\n",
    "Below, we print the first 3 document labels:"
   ]
  },
  {
   "cell_type": "code",
   "execution_count": 91,
   "metadata": {},
   "outputs": [
    {
     "name": "stdout",
     "output_type": "stream",
     "text": [
      "mirrorfunctions/兵家/司马法/仁本第一.txt\n",
      "mirrorfunctions/兵家/司马法/定爵第三.txt\n",
      "mirrorfunctions/兵家/司马法/天子之义第二.txt\n"
     ]
    }
   ],
   "source": [
    "for label in v.labels[:3]:\n",
    "    print label"
   ]
  },
  {
   "cell_type": "markdown",
   "metadata": {},
   "source": [
    "#### `v.doc_topics(doc_or_docs)`\n",
    "Each document-topic distribution can be examined with `v.doc_topics()`, which takes as its argument either a single label or a list of labels. Below we view the distribution for the first 3 documents."
   ]
  },
  {
   "cell_type": "code",
   "execution_count": 92,
   "metadata": {
    "scrolled": true
   },
   "outputs": [
    {
     "data": {
      "text/html": [
       "<table><tr><th style=\"text-align: center; background: #A9D0F5;            fontsize: 14px;\" colspan=\"6\"> Distributions over Topics </th></tr><tr><th style=\"text-align: center; background: #CEE3F6;\"                 colspan=\"2\">Doc: mirrorfunctions/兵家/司马法/仁本第一.txt</th><th style=\"text-align: center; background: #CEE3F6;\"                 colspan=\"2\">Doc: mirrorfunctions/兵家/司马法/定爵第三.txt</th><th style=\"text-align: center; background: #CEE3F6;\"                 colspan=\"2\">Doc: mirrorfunctions/兵家/司马法/天子之义第二.txt</th></tr><tr><th style=\"text-align: center; background: #EFF2FB;\">                        Topic</th><th style=\"text-align: center; background: #EFF2FB;\">                        Prob</th><th style=\"text-align: center; background: #EFF2FB;\">                        Topic</th><th style=\"text-align: center; background: #EFF2FB;\">                        Prob</th><th style=\"text-align: center; background: #EFF2FB;\">                        Topic</th><th style=\"text-align: center; background: #EFF2FB;\">                        Prob</th></tr><tr><td>11</td><td>0.40924</td><td>5</td><td>0.33396</td><td>11</td><td>0.21016</td></tr><tr><td>76</td><td>0.15721</td><td>62</td><td>0.20987</td><td>18</td><td>0.17393</td></tr><tr><td>5</td><td>0.12198</td><td>11</td><td>0.15330</td><td>4</td><td>0.14495</td></tr><tr><td>66</td><td>0.07049</td><td>4</td><td>0.07849</td><td>76</td><td>0.07792</td></tr><tr><td>89</td><td>0.05965</td><td>37</td><td>0.06936</td><td>89</td><td>0.06524</td></tr><tr><td>96</td><td>0.05694</td><td>67</td><td>0.06389</td><td>44</td><td>0.06524</td></tr><tr><td>97</td><td>0.04610</td><td>88</td><td>0.06024</td><td>48</td><td>0.06524</td></tr><tr><td>43</td><td>0.04068</td><td>47</td><td>0.02557</td><td>5</td><td>0.06161</td></tr><tr><td>37</td><td>0.03255</td><td>12</td><td>0.00367</td><td>95</td><td>0.03987</td></tr><tr><td>22</td><td>0.00274</td><td>46</td><td>0.00002</td><td>66</td><td>0.03082</td></tr></table>"
      ],
      "text/plain": [
       "[LabeledColumn([(11, 0.40924131870269775), (76, 0.15720871090888977),\n",
       "        (5, 0.12197835743427277), (66, 0.07048782706260681),\n",
       "        (89, 0.05964771658182144), (96, 0.05693768337368965),\n",
       "        (97, 0.04609757661819458), (43, 0.0406775176525116),\n",
       "        (37, 0.03254744037985802), (22, 0.0027371286414563656),\n",
       "        (62, 2.7106067136628553e-05), (34, 2.7100897568743676e-05),\n",
       "        (46, 2.7100897568743676e-05), (45, 2.7100897568743676e-05),\n",
       "        (57, 2.7100897568743676e-05), (58, 2.7100897568743676e-05),\n",
       "        (42, 2.7100897568743676e-05), (39, 2.7100897568743676e-05),\n",
       "        (38, 2.7100897568743676e-05), (59, 2.7100897568743676e-05),\n",
       "        (36, 2.7100897568743676e-05), (47, 2.7100897568743676e-05),\n",
       "        (99, 2.7100897568743676e-05), (33, 2.7100897568743676e-05),\n",
       "        (29, 2.7100897568743676e-05), (61, 2.7100897568743676e-05),\n",
       "        (26, 2.7100897568743676e-05), (24, 2.7100897568743676e-05),\n",
       "        (23, 2.7100897568743676e-05), (21, 2.7100897568743676e-05),\n",
       "        (18, 2.7100897568743676e-05), (14, 2.7100897568743676e-05),\n",
       "        (12, 2.7100897568743676e-05), (10, 2.7100897568743676e-05),\n",
       "        (9, 2.7100897568743676e-05), (7, 2.7100897568743676e-05),\n",
       "        (4, 2.7100897568743676e-05), (27, 2.7100897568743676e-05),\n",
       "        (49, 2.7100897568743676e-05), (0, 2.7100897568743676e-05),\n",
       "        (88, 2.7100897568743676e-05), (70, 2.7100897568743676e-05),\n",
       "        (92, 2.7100897568743676e-05), (69, 2.7100897568743676e-05),\n",
       "        (68, 2.7100897568743676e-05), (90, 2.7100897568743676e-05),\n",
       "        (93, 2.7100897568743676e-05), (72, 2.7100897568743676e-05),\n",
       "        (75, 2.7100897568743676e-05), (86, 2.7100897568743676e-05),\n",
       "        (81, 2.7100897568743676e-05), (65, 2.7100897568743676e-05),\n",
       "        (64, 2.7100897568743676e-05), (84, 2.7100897568743676e-05),\n",
       "        (41, 2.7100277293357067e-05), (87, 2.7100277293357067e-05),\n",
       "        (79, 2.7100277293357067e-05), (28, 2.7100277293357067e-05),\n",
       "        (82, 2.7100277293357067e-05), (94, 2.7100277293357067e-05),\n",
       "        (51, 2.7100277293357067e-05), (54, 2.7100277293357067e-05),\n",
       "        (8, 2.7100251827505417e-05), (19, 2.7100251827505417e-05),\n",
       "        (85, 2.7100251827505417e-05), (1, 2.7100251827505417e-05),\n",
       "        (20, 2.7100251827505417e-05), (2, 2.7100251827505417e-05),\n",
       "        (17, 2.7100251827505417e-05), (3, 2.7100251827505417e-05),\n",
       "        (6, 2.7100251827505417e-05), (16, 2.7100251827505417e-05),\n",
       "        (15, 2.7100251827505417e-05), (95, 2.7100251827505417e-05),\n",
       "        (13, 2.7100251827505417e-05), (91, 2.7100251827505417e-05),\n",
       "        (60, 2.7100251827505417e-05), (83, 2.7100251827505417e-05),\n",
       "        (71, 2.7100251827505417e-05), (56, 2.7100251827505417e-05),\n",
       "        (55, 2.7100251827505417e-05), (53, 2.7100251827505417e-05),\n",
       "        (52, 2.7100251827505417e-05), (50, 2.7100251827505417e-05),\n",
       "        (98, 2.7100251827505417e-05), (48, 2.7100251827505417e-05),\n",
       "        (67, 2.7100251827505417e-05), (44, 2.7100251827505417e-05),\n",
       "        (40, 2.7100251827505417e-05), (25, 2.7100251827505417e-05),\n",
       "        (73, 2.7100251827505417e-05), (74, 2.7100251827505417e-05),\n",
       "        (35, 2.7100251827505417e-05), (77, 2.7100251827505417e-05),\n",
       "        (78, 2.7100251827505417e-05), (32, 2.7100251827505417e-05),\n",
       "        (31, 2.7100251827505417e-05), (63, 2.7100251827505417e-05),\n",
       "        (80, 2.7100251827505417e-05), (30, 2.7100251827505417e-05)], \n",
       "       dtype=[('topic', '<i8'), ('value', '<f4')]),\n",
       " LabeledColumn([(5, 0.33395934104919434), (62, 0.20987194776535034),\n",
       "        (11, 0.15330268442630768), (4, 0.07848528027534485),\n",
       "        (37, 0.06936120986938477), (67, 0.06388676911592484),\n",
       "        (88, 0.060237135738134384), (47, 0.025565657764673233),\n",
       "        (12, 0.0036678779870271683), (46, 1.825204526539892e-05),\n",
       "        (24, 1.825204526539892e-05), (26, 1.825204526539892e-05),\n",
       "        (34, 1.825204526539892e-05), (55, 1.8248563719680533e-05),\n",
       "        (52, 1.8248563719680533e-05), (98, 1.8248563719680533e-05),\n",
       "        (39, 1.8248563719680533e-05), (45, 1.8248563719680533e-05),\n",
       "        (44, 1.8248563719680533e-05), (57, 1.8248563719680533e-05),\n",
       "        (43, 1.8248563719680533e-05), (41, 1.8248563719680533e-05),\n",
       "        (99, 1.8248563719680533e-05), (27, 1.8248563719680533e-05),\n",
       "        (35, 1.8248563719680533e-05), (29, 1.8248563719680533e-05),\n",
       "        (25, 1.8248563719680533e-05), (23, 1.8248563719680533e-05),\n",
       "        (22, 1.8248563719680533e-05), (21, 1.8248563719680533e-05),\n",
       "        (20, 1.8248563719680533e-05), (18, 1.8248563719680533e-05),\n",
       "        (10, 1.8248563719680533e-05), (8, 1.8248563719680533e-05),\n",
       "        (6, 1.8248563719680533e-05), (61, 1.8248563719680533e-05),\n",
       "        (49, 1.8248563719680533e-05), (85, 1.8248563719680533e-05),\n",
       "        (95, 1.8248563719680533e-05), (76, 1.8248563719680533e-05),\n",
       "        (73, 1.8248563719680533e-05), (72, 1.8248563719680533e-05),\n",
       "        (71, 1.8248563719680533e-05), (70, 1.8248563719680533e-05),\n",
       "        (91, 1.8248563719680533e-05), (79, 1.8248563719680533e-05),\n",
       "        (66, 1.8248563719680533e-05), (97, 1.8248563719680533e-05),\n",
       "        (64, 1.8248563719680533e-05), (84, 1.8248563719680533e-05),\n",
       "        (33, 1.824814717110712e-05), (14, 1.824814717110712e-05),\n",
       "        (36, 1.824814717110712e-05), (77, 1.824814717110712e-05),\n",
       "        (38, 1.824814717110712e-05), (32, 1.824814717110712e-05),\n",
       "        (19, 1.824814717110712e-05), (13, 1.824814717110712e-05),\n",
       "        (63, 1.824814717110712e-05), (42, 1.824814717110712e-05),\n",
       "        (48, 1.824814717110712e-05), (50, 1.824814717110712e-05),\n",
       "        (94, 1.824814717110712e-05), (2, 1.824814717110712e-05),\n",
       "        (16, 1.8248128981213085e-05), (1, 1.8248128981213085e-05),\n",
       "        (89, 1.8248128981213085e-05), (90, 1.8248128981213085e-05),\n",
       "        (17, 1.8248128981213085e-05), (87, 1.8248128981213085e-05),\n",
       "        (15, 1.8248128981213085e-05), (92, 1.8248128981213085e-05),\n",
       "        (96, 1.8248128981213085e-05), (7, 1.8248128981213085e-05),\n",
       "        (9, 1.8248128981213085e-05), (93, 1.8248128981213085e-05),\n",
       "        (3, 1.8248128981213085e-05), (31, 1.8248128981213085e-05),\n",
       "        (86, 1.8248128981213085e-05), (83, 1.8248128981213085e-05),\n",
       "        (60, 1.8248128981213085e-05), (59, 1.8248128981213085e-05),\n",
       "        (58, 1.8248128981213085e-05), (65, 1.8248128981213085e-05),\n",
       "        (56, 1.8248128981213085e-05), (54, 1.8248128981213085e-05),\n",
       "        (53, 1.8248128981213085e-05), (68, 1.8248128981213085e-05),\n",
       "        (51, 1.8248128981213085e-05), (69, 1.8248128981213085e-05),\n",
       "        (74, 1.8248128981213085e-05), (75, 1.8248128981213085e-05),\n",
       "        (40, 1.8248128981213085e-05), (78, 1.8248128981213085e-05),\n",
       "        (30, 1.8248128981213085e-05), (80, 1.8248128981213085e-05),\n",
       "        (28, 1.8248128981213085e-05), (81, 1.8248128981213085e-05),\n",
       "        (82, 1.8248128981213085e-05), (0, 1.8248128981213085e-05)], \n",
       "       dtype=[('topic', '<i8'), ('value', '<f4')]),\n",
       " LabeledColumn([(11, 0.21016275882720947), (18, 0.17393091320991516),\n",
       "        (4, 0.1449454426765442), (76, 0.07791655510663986),\n",
       "        (89, 0.06523542106151581), (44, 0.06523542106151581),\n",
       "        (48, 0.06523542106151581), (5, 0.06161223351955414),\n",
       "        (95, 0.0398731492459774), (66, 0.03081517294049263),\n",
       "        (30, 0.025380399078130722), (47, 0.019945627078413963),\n",
       "        (93, 0.016322443261742592), (9, 0.0018297075293958187),\n",
       "        (31, 1.8133607227355242e-05), (14, 1.81197865458671e-05),\n",
       "        (98, 1.81197865458671e-05), (67, 1.81197865458671e-05),\n",
       "        (72, 1.81197865458671e-05), (62, 1.81197865458671e-05),\n",
       "        (25, 1.81197865458671e-05), (79, 1.81197865458671e-05),\n",
       "        (49, 1.8116330466000363e-05), (63, 1.8116330466000363e-05),\n",
       "        (46, 1.8116330466000363e-05), (39, 1.8116330466000363e-05),\n",
       "        (8, 1.8116330466000363e-05), (22, 1.8116330466000363e-05),\n",
       "        (86, 1.8116330466000363e-05), (56, 1.8116330466000363e-05),\n",
       "        (97, 1.8116330466000363e-05), (59, 1.8116330466000363e-05),\n",
       "        (29, 1.8116330466000363e-05), (43, 1.8116330466000363e-05),\n",
       "        (24, 1.8116330466000363e-05), (61, 1.8116330466000363e-05),\n",
       "        (84, 1.8116330466000363e-05), (71, 1.8116330466000363e-05),\n",
       "        (75, 1.8116330466000363e-05), (74, 1.8116330466000363e-05),\n",
       "        (26, 1.8116330466000363e-05), (6, 1.8116330466000363e-05),\n",
       "        (65, 1.8116330466000363e-05), (94, 1.8116330466000363e-05),\n",
       "        (70, 1.8116330466000363e-05), (69, 1.8116330466000363e-05),\n",
       "        (27, 1.8116330466000363e-05), (82, 1.8116330466000363e-05),\n",
       "        (83, 1.8116330466000363e-05), (96, 1.8115915736416355e-05),\n",
       "        (35, 1.8115915736416355e-05), (19, 1.8115915736416355e-05),\n",
       "        (38, 1.8115915736416355e-05), (40, 1.8115915736416355e-05),\n",
       "        (32, 1.8115915736416355e-05), (78, 1.8115915736416355e-05),\n",
       "        (1, 1.8115915736416355e-05), (53, 1.8115915736416355e-05),\n",
       "        (12, 1.8115915736416355e-05), (58, 1.8115915736416355e-05),\n",
       "        (13, 1.8115915736416355e-05), (15, 1.8115915736416355e-05),\n",
       "        (51, 1.8115915736416355e-05), (50, 1.8115915736416355e-05),\n",
       "        (88, 1.8115915736416355e-05), (45, 1.8115915736416355e-05),\n",
       "        (20, 1.8115899365511723e-05), (16, 1.8115899365511723e-05),\n",
       "        (17, 1.8115899365511723e-05), (3, 1.8115899365511723e-05),\n",
       "        (2, 1.8115899365511723e-05), (23, 1.8115899365511723e-05),\n",
       "        (10, 1.8115899365511723e-05), (7, 1.8115899365511723e-05),\n",
       "        (21, 1.8115899365511723e-05), (99, 1.8115899365511723e-05),\n",
       "        (28, 1.8115899365511723e-05), (33, 1.8115899365511723e-05),\n",
       "        (92, 1.8115899365511723e-05), (91, 1.8115899365511723e-05),\n",
       "        (90, 1.8115899365511723e-05), (87, 1.8115899365511723e-05),\n",
       "        (85, 1.8115899365511723e-05), (81, 1.8115899365511723e-05),\n",
       "        (80, 1.8115899365511723e-05), (77, 1.8115899365511723e-05),\n",
       "        (73, 1.8115899365511723e-05), (68, 1.8115899365511723e-05),\n",
       "        (64, 1.8115899365511723e-05), (60, 1.8115899365511723e-05),\n",
       "        (57, 1.8115899365511723e-05), (55, 1.8115899365511723e-05),\n",
       "        (54, 1.8115899365511723e-05), (52, 1.8115899365511723e-05),\n",
       "        (42, 1.8115899365511723e-05), (41, 1.8115899365511723e-05),\n",
       "        (37, 1.8115899365511723e-05), (36, 1.8115899365511723e-05),\n",
       "        (34, 1.8115899365511723e-05), (0, 1.8115899365511723e-05)], \n",
       "       dtype=[('topic', '<i8'), ('value', '<f4')])]"
      ]
     },
     "execution_count": 92,
     "metadata": {},
     "output_type": "execute_result"
    }
   ],
   "source": [
    "v.doc_topics(v.labels[:3])"
   ]
  },
  {
   "cell_type": "code",
   "execution_count": 24,
   "metadata": {},
   "outputs": [
    {
     "data": {
      "text/plain": [
       "19719"
      ]
     },
     "execution_count": 24,
     "metadata": {},
     "output_type": "execute_result"
    }
   ],
   "source": [
    "(v.model.Z==11).sum()\n",
    "(v.model.Z==10).sum()\n"
   ]
  },
  {
   "cell_type": "markdown",
   "metadata": {},
   "source": [
    "#### `v.aggregate_doc_topics(doc_or_docs, normed_sum=False)`\n",
    "While `v.doc_topics(doc_or_docs)` shows the distribution for each document, `v.aggregate_doc_topics()` shows the average distribution of a collection of documents. The `normed` argument tells the program whether to weight each document by its length (`normed_sum=True`) or to consider them all equally (`normed_sum=False`)."
   ]
  },
  {
   "cell_type": "code",
   "execution_count": 98,
   "metadata": {
    "scrolled": true
   },
   "outputs": [
    {
     "data": {
      "text/html": [
       "<table style=\"margin: 0\"><tr><th style=\"text-align: center; background: #CEE3F6\" colspan                    =\"2\">Aggregate Distribution over Topics</th></tr><tr><th style=\"text-align: center; background: #EFF2FB; \">Topic                          </th><th style=\"text-align: center; background: #EFF2FB; \">Prob                          </th></tr><tr><td>84                                     </td><td>0.04758                                </td></tr><tr><td>58                                     </td><td>0.04413                                </td></tr><tr><td>37                                     </td><td>0.03669                                </td></tr><tr><td>76                                     </td><td>0.02921                                </td></tr><tr><td>11                                     </td><td>0.02427                                </td></tr><tr><td>85                                     </td><td>0.02150                                </td></tr><tr><td>62                                     </td><td>0.02054                                </td></tr><tr><td>14                                     </td><td>0.01834                                </td></tr><tr><td>22                                     </td><td>0.01717                                </td></tr><tr><td>67                                     </td><td>0.01665                                </td></tr></table>"
      ],
      "text/plain": [
       "LabeledColumn([(84, 0.04758273810148239), (58, 0.044132545590400696),\n",
       "       (37, 0.03668983653187752), (76, 0.029211299493908882),\n",
       "       (11, 0.024269381538033485), (85, 0.0215004775673151),\n",
       "       (62, 0.020538298413157463), (14, 0.018339315429329872),\n",
       "       (22, 0.017165938392281532), (67, 0.016652356833219528),\n",
       "       (48, 0.01645776815712452), (55, 0.01609382964670658),\n",
       "       (32, 0.015221375972032547), (78, 0.01521228812634945),\n",
       "       (18, 0.014924325048923492), (86, 0.01491307932883501),\n",
       "       (7, 0.013880801387131214), (77, 0.013219187036156654),\n",
       "       (88, 0.013021919876337051), (70, 0.012936982326209545),\n",
       "       (59, 0.0128931300714612), (15, 0.012889266945421696),\n",
       "       (20, 0.011940320953726768), (5, 0.011802580207586288),\n",
       "       (3, 0.011598208919167519), (97, 0.011414078064262867),\n",
       "       (61, 0.011190501973032951), (82, 0.011138036847114563),\n",
       "       (27, 0.010929044336080551), (19, 0.010912920348346233),\n",
       "       (42, 0.010506781749427319), (64, 0.01046350970864296),\n",
       "       (8, 0.010075794532895088), (99, 0.00980741623789072),\n",
       "       (68, 0.009746899828314781), (51, 0.00963314063847065),\n",
       "       (17, 0.009429131634533405), (50, 0.009388965554535389),\n",
       "       (44, 0.009153349325060844), (63, 0.009006679989397526),\n",
       "       (38, 0.008982675150036812), (93, 0.008806737139821053),\n",
       "       (6, 0.008798404596745968), (47, 0.008768482133746147),\n",
       "       (90, 0.008648794144392014), (13, 0.008623084984719753),\n",
       "       (45, 0.008581281639635563), (0, 0.00854035560041666),\n",
       "       (87, 0.008451610803604126), (98, 0.008256558328866959),\n",
       "       (74, 0.008093361742794514), (43, 0.00802464410662651),\n",
       "       (12, 0.007958506233990192), (49, 0.007863105274736881),\n",
       "       (53, 0.007817910984158516), (75, 0.0077111185528337955),\n",
       "       (36, 0.007507117465138435), (25, 0.0073712593875825405),\n",
       "       (33, 0.00723433680832386), (39, 0.007172286510467529),\n",
       "       (26, 0.007152920588850975), (4, 0.007138037588447332),\n",
       "       (65, 0.007125802803784609), (91, 0.007053626235574484),\n",
       "       (80, 0.00700575765222311), (89, 0.006806376855820417),\n",
       "       (24, 0.006740304175764322), (34, 0.006661111488938332),\n",
       "       (30, 0.006581971421837807), (1, 0.006446762476116419),\n",
       "       (40, 0.006324945017695427), (92, 0.006309040822088718),\n",
       "       (71, 0.005811174400150776), (9, 0.005784839391708374),\n",
       "       (56, 0.005718000698834658), (29, 0.005711485631763935),\n",
       "       (35, 0.005692628212273121), (16, 0.005431370344012976),\n",
       "       (46, 0.005323102697730064), (69, 0.005279242992401123),\n",
       "       (31, 0.004934318829327822), (54, 0.004917414393275976),\n",
       "       (21, 0.004796462599188089), (96, 0.0045433747582137585),\n",
       "       (79, 0.0044897571206092834), (23, 0.004478572867810726),\n",
       "       (94, 0.004385334439575672), (72, 0.004302702844142914),\n",
       "       (95, 0.004146851599216461), (60, 0.00412630895152688),\n",
       "       (10, 0.0041121020913124084), (66, 0.00394853251054883),\n",
       "       (28, 0.00368591514416039), (57, 0.003602418815717101),\n",
       "       (73, 0.0032854618038982153), (81, 0.0028108989354223013),\n",
       "       (52, 0.002583799883723259), (83, 0.002140066120773554),\n",
       "       (41, 0.0018660805653780699), (2, 0.0016499921912327409)], \n",
       "      dtype=[('i', '<i8'), ('value', '<f4')])"
      ]
     },
     "execution_count": 98,
     "metadata": {},
     "output_type": "execute_result"
    }
   ],
   "source": [
    "v.aggregate_doc_topics(v.labels[:], normed_sum=True)\n"
   ]
  },
  {
   "cell_type": "code",
   "execution_count": 109,
   "metadata": {},
   "outputs": [],
   "source": [
    "#输出一个csv，第一列是主题数目，第二列是\n",
    "with open('eachtopicdweight.csv','a+') as f:\n",
    "    f_csv = csv.writer(f)\n",
    "#    f_csv.writerow(headers)\n",
    "    f_csv.writerows(v.aggregate_doc_topics(v.labels[:], normed_sum=True))\n",
    "    \n",
    "eachtopicweight = v.aggregate_doc_topics(v.labels[:], normed_sum=True)\n",
    "\n"
   ]
  },
  {
   "cell_type": "code",
   "execution_count": 112,
   "metadata": {},
   "outputs": [],
   "source": [
    "import matplotlib.pyplot as plt\n",
    "\n",
    "plt.plot(eachtopicweight)\n",
    "plt.show()"
   ]
  },
  {
   "cell_type": "markdown",
   "metadata": {},
   "source": [
    "### Comparing documents with `v.dist()`\n",
    "\n",
    "Topic models give us a way to compare the siimilarity between two documents. To do this, we use `v.dist()`:"
   ]
  },
  {
   "cell_type": "code",
   "execution_count": 8,
   "metadata": {},
   "outputs": [
    {
     "data": {
      "text/plain": [
       "0.09351930541783653"
      ]
     },
     "execution_count": 8,
     "metadata": {},
     "output_type": "execute_result"
    }
   ],
   "source": [
    "v.dist(v.labels[0], v.labels[1])\n"
   ]
  },
  {
   "cell_type": "code",
   "execution_count": 9,
   "metadata": {},
   "outputs": [],
   "source": [
    "help(v.dist)\n"
   ]
  },
  {
   "cell_type": "markdown",
   "metadata": {},
   "source": [
    "#### Alternative distance measures\n",
    "By default, the Topic Explorer uses the Jensen-Shannon Distance to calculate the distance between documents. The Jensen-Shannon Distance (JSD) is a symmetric measure based on information theory that characterizes the difference between two probability distributions.\n",
    "\n",
    "However, several alternate methods are built into the `vsm.spatial` module. These include the Kullbeck-Liebler Divergence, which is an asymmetric component of the JSD and is used in [Murdock et al. (in review)](http://arxiv.org/abs/1509.07175) to characterize the cognitive surprise of a new text, given previous texts.\n",
    "\n",
    "Rather than using the JSD and assuming symmetric divergence between items, we assume that the second document is encountered after the first, effectively measuring text-to-text divergence."
   ]
  },
  {
   "cell_type": "code",
   "execution_count": null,
   "metadata": {},
   "outputs": [],
   "source": [
    "# first import KL divergence:\n",
    "from vsm.spatial import KL_div\n",
    "\n",
    "# calculate KL divergence from the first document to the second\n",
    "print \"First to second\", v.dist(v.labels[0], v.labels[1], dist_fn=KL_div)\n",
    "\n",
    "# calculate KL divergence from the second document to the first, highlighting asymmetry:\n",
    "print \"Second to first\", v.dist(v.labels[1], v.labels[0], dist_fn=KL_div)"
   ]
  },
  {
   "cell_type": "markdown",
   "metadata": {},
   "source": [
    "# Using Python's Help System\n",
    "\n",
    "There are many other functions in the InPhO Topic Explorer and the associated `vsm` library. These are extensively documented within the code. \n",
    "\n",
    "One little-known feature about Python is its capacity for introspection: by using the `help()` method, one can find out all methods and properties of an object. For example, if one wanted to know what methods could be called on their corpus object, you could run:"
   ]
  },
  {
   "cell_type": "code",
   "execution_count": null,
   "metadata": {},
   "outputs": [],
   "source": [
    "help(c)"
   ]
  },
  {
   "cell_type": "markdown",
   "metadata": {},
   "source": [
    "You can also get help on particular methods. For example, there are many arguments to `v.topics()` beyond `print_len`. These can be seen by calling `help(v.topics)` without parentheses after `v.topics`:"
   ]
  },
  {
   "cell_type": "code",
   "execution_count": null,
   "metadata": {},
   "outputs": [],
   "source": [
    "help(v.topics)"
   ]
  },
  {
   "cell_type": "markdown",
   "metadata": {},
   "source": [
    "Calling `help(v.topics())` *with* parentheses will return help for the object reutrned by `v.topics()`, which is a `DataTable`:"
   ]
  },
  {
   "cell_type": "code",
   "execution_count": null,
   "metadata": {},
   "outputs": [],
   "source": [
    "help(v.topics())"
   ]
  },
  {
   "cell_type": "markdown",
   "metadata": {},
   "source": [
    "It is important to emphasize that this functionality can be used with any python library, including the standard library. For example, one could look at all the functions included in the `math` library by using:"
   ]
  },
  {
   "cell_type": "code",
   "execution_count": null,
   "metadata": {},
   "outputs": [],
   "source": [
    "import math\n",
    "help(math.log)"
   ]
  },
  {
   "cell_type": "markdown",
   "metadata": {},
   "source": [
    "# Additional Examples\n",
    "\n",
    "This notebook gives some basic building blocks for using the Topic Explorer. Additional examples can be found on GitHub in the [inpho/vsm-demo-notebooks repository](http://github.com/inpho/vsm-demo-notebooks).\n",
    "\n",
    "# Contact Information\n",
    "If you have additional questions regarding the InPhO Topic Explorer or have comments on this tutorial, please e-mail [tutorial@hypershelf.org](mailto:tutorial@hypershelf.org).\n"
   ]
  }
 ],
 "metadata": {
  "anaconda-cloud": {},
  "kernelspec": {
   "display_name": "Python 2",
   "language": "python",
   "name": "python2"
  },
  "language_info": {
   "codemirror_mode": {
    "name": "ipython",
    "version": 2
   },
   "file_extension": ".py",
   "mimetype": "text/x-python",
   "name": "python",
   "nbconvert_exporter": "python",
   "pygments_lexer": "ipython2",
   "version": "2.7.14"
  }
 },
 "nbformat": 4,
 "nbformat_minor": 1
}
